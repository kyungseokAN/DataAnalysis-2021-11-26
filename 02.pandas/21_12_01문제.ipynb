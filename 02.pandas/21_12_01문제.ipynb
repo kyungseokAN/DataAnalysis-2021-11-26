{
 "cells": [
  {
   "cell_type": "code",
   "execution_count": 1,
   "metadata": {},
   "outputs": [],
   "source": [
    "import numpy as np\n",
    "import pandas as pd\n",
    "import warnings\n",
    "warnings.filterwarnings('ignore')"
   ]
  },
  {
   "cell_type": "markdown",
   "metadata": {},
   "source": [
    "1) Iris - sns.load_dataset('iris') \n",
    "a. 붓꽃 종(species)별로 꽃잎길이(sepal_length), 꽃잎폭(sepal_width), 꽃받침길이(petal_length), 꽃받침폭(petal_width)의 평균, 표준편차 등 기초통계량(describe())을 구하시오.\n",
    "b. 3분위수(Q3)와 1분위수(Q1)의 차이보다 1.5배가 크거나 작은 데이터는 이상치이다. 즉,\n",
    "Q1 - 1.5 * (Q3 - Q1) 보다 작은 데이터 Q3 + 1.5 * (Q3 - Q1) 보다 큰 데이터\n",
    "이 이상치를 제거하고 위의 4가지 항목에 대해서 평균, 표준편차를 구하시오.\n",
    "\n",
    "2) Titanic - sns.load_dataset('titanic')\n",
    "a. 타이타닉호의 승객에 대해 나이와 성별에 의한 카테고리 열인 category1 열을 만드시오. category1 카테고리는 다음과 같이 정의됨\n",
    "1) 20살이 넘으면 성별을 그대로 사용한다.\n",
    "2) 20살 미만이면 성별에 관계없이 “child”라고 한다.\n",
    "b. 타이타닉호의 승객 중 나이를 명시하지 않은 고객은 나이를 명시한 고객의 평균 나이 값이 되도록 titanic 데이터프레임을 고치시오.\n",
    "c. 성별, 선실(class)별, 출발지(embark_town)별 생존율을 구하시오.\n",
    "d. 타이타닉호 승객을 ‘미성년자’, ‘청년’, ‘중년’, ‘장년’, ‘노년’ 나이 그룹으로 나누고, 각 그룹별 생존율을 구하시오.\n",
    "bins = [1, 20, 30, 50, 70, 100]\n",
    "labels = [\"미성년자\", \"청년\", \"중년\", \"장년\", \"노년\"]\n",
    "e. qcut 명령으로 세 개의 나이 그룹을 만들고, 나이 그룹별 남녀 성비와 생존율을 구하시 오.\n",
    "\n",
    "3) Mile Per Gallon - sns.load_dataset('mpg')\n",
    "a. 배기량(displacement) 대비 마력(horsepower) 열(hp_per_cc)을 추가하시오.\n",
    "b. name으로부터 manufacturer(제조사)와 모델을 추출하여\n",
    "새로운 열 manufacturer와 model을 추가하고, name 열은 삭제하시오.\n",
    "c. 엔진의 실린더(cylinders) 갯수별 연비(mpg)의 평균을 구하시오.\n",
    "d. 생산지(origin)별 배기량 대비 마력(hp_per_cc)의 평균을 구하시오.\n",
    "e. 모델이 5개 이상인 제조사에 대하여\n",
    "연비(mpg)의 평균이 가장 좋은 제조사 Top 5를 구하시오."
   ]
  },
  {
   "cell_type": "code",
   "execution_count": null,
   "metadata": {},
   "outputs": [],
   "source": []
  }
 ],
 "metadata": {
  "interpreter": {
   "hash": "60e7f993bd80280a292cf727bcf540b52dc52f658ffaee01a928daf77ed7d70f"
  },
  "kernelspec": {
   "display_name": "Python 3.8.8 64-bit ('base': conda)",
   "language": "python",
   "name": "python3"
  },
  "language_info": {
   "codemirror_mode": {
    "name": "ipython",
    "version": 3
   },
   "file_extension": ".py",
   "mimetype": "text/x-python",
   "name": "python",
   "nbconvert_exporter": "python",
   "pygments_lexer": "ipython3",
   "version": "3.8.8"
  },
  "orig_nbformat": 4
 },
 "nbformat": 4,
 "nbformat_minor": 2
}
