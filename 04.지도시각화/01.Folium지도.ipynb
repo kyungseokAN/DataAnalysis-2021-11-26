{
 "cells": [
  {
   "cell_type": "markdown",
   "metadata": {},
   "source": [
    "# Folium 지도"
   ]
  },
  {
   "cell_type": "code",
   "execution_count": 49,
   "metadata": {},
   "outputs": [],
   "source": [
    "import numpy as np\n",
    "import pandas as pd\n",
    "import matplotlib as mpl\n",
    "import matplotlib.pyplot as plt\n",
    "from PIL import Image\n",
    "from folium.features import CustomIcon\n",
    "%matplotlib inline\n",
    "mpl.rcParams['axes.unicode_minus'] = False\n",
    "plt.rcParams['font.family'] = 'Malgun Gothic'\n",
    "import folium"
   ]
  },
  {
   "cell_type": "code",
   "execution_count": 2,
   "metadata": {},
   "outputs": [
    {
     "data": {
      "text/plain": [
       "'0.12.1.post1'"
      ]
     },
     "execution_count": 2,
     "metadata": {},
     "output_type": "execute_result"
    }
   ],
   "source": [
    "folium.__version__"
   ]
  },
  {
   "cell_type": "markdown",
   "metadata": {},
   "source": []
  },
  {
   "cell_type": "code",
   "execution_count": 65,
   "metadata": {},
   "outputs": [
    {
     "data": {
      "text/html": [
       "<div style=\"width:100%;\"><div style=\"position:relative;width:100%;height:0;padding-bottom:60%;\"><span style=\"color:#565656\">Make this Notebook Trusted to load map: File -> Trust Notebook</span><iframe src=\"about:blank\" style=\"position:absolute;width:100%;height:100%;left:0;top:0;border:none !important;\" data-html=%3C%21DOCTYPE%20html%3E%0A%3Chead%3E%20%20%20%20%0A%20%20%20%20%3Cmeta%20http-equiv%3D%22content-type%22%20content%3D%22text/html%3B%20charset%3DUTF-8%22%20/%3E%0A%20%20%20%20%0A%20%20%20%20%20%20%20%20%3Cscript%3E%0A%20%20%20%20%20%20%20%20%20%20%20%20L_NO_TOUCH%20%3D%20false%3B%0A%20%20%20%20%20%20%20%20%20%20%20%20L_DISABLE_3D%20%3D%20false%3B%0A%20%20%20%20%20%20%20%20%3C/script%3E%0A%20%20%20%20%0A%20%20%20%20%3Cstyle%3Ehtml%2C%20body%20%7Bwidth%3A%20100%25%3Bheight%3A%20100%25%3Bmargin%3A%200%3Bpadding%3A%200%3B%7D%3C/style%3E%0A%20%20%20%20%3Cstyle%3E%23map%20%7Bposition%3Aabsolute%3Btop%3A0%3Bbottom%3A0%3Bright%3A0%3Bleft%3A0%3B%7D%3C/style%3E%0A%20%20%20%20%3Cscript%20src%3D%22https%3A//cdn.jsdelivr.net/npm/leaflet%401.6.0/dist/leaflet.js%22%3E%3C/script%3E%0A%20%20%20%20%3Cscript%20src%3D%22https%3A//code.jquery.com/jquery-1.12.4.min.js%22%3E%3C/script%3E%0A%20%20%20%20%3Cscript%20src%3D%22https%3A//maxcdn.bootstrapcdn.com/bootstrap/3.2.0/js/bootstrap.min.js%22%3E%3C/script%3E%0A%20%20%20%20%3Cscript%20src%3D%22https%3A//cdnjs.cloudflare.com/ajax/libs/Leaflet.awesome-markers/2.0.2/leaflet.awesome-markers.js%22%3E%3C/script%3E%0A%20%20%20%20%3Clink%20rel%3D%22stylesheet%22%20href%3D%22https%3A//cdn.jsdelivr.net/npm/leaflet%401.6.0/dist/leaflet.css%22/%3E%0A%20%20%20%20%3Clink%20rel%3D%22stylesheet%22%20href%3D%22https%3A//maxcdn.bootstrapcdn.com/bootstrap/3.2.0/css/bootstrap.min.css%22/%3E%0A%20%20%20%20%3Clink%20rel%3D%22stylesheet%22%20href%3D%22https%3A//maxcdn.bootstrapcdn.com/bootstrap/3.2.0/css/bootstrap-theme.min.css%22/%3E%0A%20%20%20%20%3Clink%20rel%3D%22stylesheet%22%20href%3D%22https%3A//maxcdn.bootstrapcdn.com/font-awesome/4.6.3/css/font-awesome.min.css%22/%3E%0A%20%20%20%20%3Clink%20rel%3D%22stylesheet%22%20href%3D%22https%3A//cdnjs.cloudflare.com/ajax/libs/Leaflet.awesome-markers/2.0.2/leaflet.awesome-markers.css%22/%3E%0A%20%20%20%20%3Clink%20rel%3D%22stylesheet%22%20href%3D%22https%3A//cdn.jsdelivr.net/gh/python-visualization/folium/folium/templates/leaflet.awesome.rotate.min.css%22/%3E%0A%20%20%20%20%0A%20%20%20%20%20%20%20%20%20%20%20%20%3Cmeta%20name%3D%22viewport%22%20content%3D%22width%3Ddevice-width%2C%0A%20%20%20%20%20%20%20%20%20%20%20%20%20%20%20%20initial-scale%3D1.0%2C%20maximum-scale%3D1.0%2C%20user-scalable%3Dno%22%20/%3E%0A%20%20%20%20%20%20%20%20%20%20%20%20%3Cstyle%3E%0A%20%20%20%20%20%20%20%20%20%20%20%20%20%20%20%20%23map_fc5e915af0d04f69b298e6b484a21831%20%7B%0A%20%20%20%20%20%20%20%20%20%20%20%20%20%20%20%20%20%20%20%20position%3A%20relative%3B%0A%20%20%20%20%20%20%20%20%20%20%20%20%20%20%20%20%20%20%20%20width%3A%20100.0%25%3B%0A%20%20%20%20%20%20%20%20%20%20%20%20%20%20%20%20%20%20%20%20height%3A%20100.0%25%3B%0A%20%20%20%20%20%20%20%20%20%20%20%20%20%20%20%20%20%20%20%20left%3A%200.0%25%3B%0A%20%20%20%20%20%20%20%20%20%20%20%20%20%20%20%20%20%20%20%20top%3A%200.0%25%3B%0A%20%20%20%20%20%20%20%20%20%20%20%20%20%20%20%20%7D%0A%20%20%20%20%20%20%20%20%20%20%20%20%3C/style%3E%0A%20%20%20%20%20%20%20%20%0A%3C/head%3E%0A%3Cbody%3E%20%20%20%20%0A%20%20%20%20%3Ch3%20align%3D%22center%22%20style%3D%22font-size%3A20px%22%3E3%EA%B0%9C%20%EC%A7%80%EC%97%AD%20%ED%91%9C%EC%8B%9C%3C/h3%3E%0A%20%20%20%20%0A%20%20%20%20%20%20%20%20%20%20%20%20%3Cdiv%20class%3D%22folium-map%22%20id%3D%22map_fc5e915af0d04f69b298e6b484a21831%22%20%3E%3C/div%3E%0A%20%20%20%20%20%20%20%20%0A%3C/body%3E%0A%3Cscript%3E%20%20%20%20%0A%20%20%20%20%0A%20%20%20%20%20%20%20%20%20%20%20%20var%20map_fc5e915af0d04f69b298e6b484a21831%20%3D%20L.map%28%0A%20%20%20%20%20%20%20%20%20%20%20%20%20%20%20%20%22map_fc5e915af0d04f69b298e6b484a21831%22%2C%0A%20%20%20%20%20%20%20%20%20%20%20%20%20%20%20%20%7B%0A%20%20%20%20%20%20%20%20%20%20%20%20%20%20%20%20%20%20%20%20center%3A%20%5B33.49959%2C%20126.53125%5D%2C%0A%20%20%20%20%20%20%20%20%20%20%20%20%20%20%20%20%20%20%20%20crs%3A%20L.CRS.EPSG3857%2C%0A%20%20%20%20%20%20%20%20%20%20%20%20%20%20%20%20%20%20%20%20zoom%3A%2020%2C%0A%20%20%20%20%20%20%20%20%20%20%20%20%20%20%20%20%20%20%20%20zoomControl%3A%20true%2C%0A%20%20%20%20%20%20%20%20%20%20%20%20%20%20%20%20%20%20%20%20preferCanvas%3A%20false%2C%0A%20%20%20%20%20%20%20%20%20%20%20%20%20%20%20%20%7D%0A%20%20%20%20%20%20%20%20%20%20%20%20%29%3B%0A%0A%20%20%20%20%20%20%20%20%20%20%20%20%0A%0A%20%20%20%20%20%20%20%20%0A%20%20%20%20%0A%20%20%20%20%20%20%20%20%20%20%20%20var%20tile_layer_1f47d352c1de407993e979a6204471f5%20%3D%20L.tileLayer%28%0A%20%20%20%20%20%20%20%20%20%20%20%20%20%20%20%20%22https%3A//%7Bs%7D.tile.openstreetmap.org/%7Bz%7D/%7Bx%7D/%7By%7D.png%22%2C%0A%20%20%20%20%20%20%20%20%20%20%20%20%20%20%20%20%7B%22attribution%22%3A%20%22Data%20by%20%5Cu0026copy%3B%20%5Cu003ca%20href%3D%5C%22http%3A//openstreetmap.org%5C%22%5Cu003eOpenStreetMap%5Cu003c/a%5Cu003e%2C%20under%20%5Cu003ca%20href%3D%5C%22http%3A//www.openstreetmap.org/copyright%5C%22%5Cu003eODbL%5Cu003c/a%5Cu003e.%22%2C%20%22detectRetina%22%3A%20false%2C%20%22maxNativeZoom%22%3A%2018%2C%20%22maxZoom%22%3A%2018%2C%20%22minZoom%22%3A%200%2C%20%22noWrap%22%3A%20false%2C%20%22opacity%22%3A%201%2C%20%22subdomains%22%3A%20%22abc%22%2C%20%22tms%22%3A%20false%7D%0A%20%20%20%20%20%20%20%20%20%20%20%20%29.addTo%28map_fc5e915af0d04f69b298e6b484a21831%29%3B%0A%20%20%20%20%20%20%20%20%0A%20%20%20%20%0A%20%20%20%20%20%20%20%20%20%20%20%20var%20marker_5e1e3d7b26314d788ac70de176f31d59%20%3D%20L.marker%28%0A%20%20%20%20%20%20%20%20%20%20%20%20%20%20%20%20%5B33.49959%2C%20126.53125%5D%2C%0A%20%20%20%20%20%20%20%20%20%20%20%20%20%20%20%20%7B%7D%0A%20%20%20%20%20%20%20%20%20%20%20%20%29.addTo%28map_fc5e915af0d04f69b298e6b484a21831%29%3B%0A%20%20%20%20%20%20%20%20%0A%20%20%20%20%0A%20%20%20%20%20%20%20%20var%20custom_icon_8ec82bf18a4b4534adae9fb645730893%20%3D%20L.icon%28%7B%22iconAnchor%22%3A%20%5B10%2C%2030%5D%2C%20%22iconSize%22%3A%20%5B75%2C%2095%5D%2C%20%22iconUrl%22%3A%20%22data%3Aimage/jfif%3Bbase64%2C/9j/4AAQSkZJRgABAQAAAQABAAD/2wCEAAoHCBYVFRgVFRYYGRgYGBoYGhkaGhwYHBoaGhgaGRoYGhwcIy4lHB4rIRoaJzgmKy8xNTU1GiQ7QDs0Py40NTEBDAwMEA8QHxISHzYrJSs0NDQ0PTQ0NDQ2NDQ0NDQ0NDQ0NDQ0NDQ0NDQ0NDQ0NDQ0NDQ0NDQ0NDQ0NDQ0NDQ0NP/AABEIALcBEwMBIgACEQEDEQH/xAAbAAACAwEBAQAAAAAAAAAAAAACAwABBAUGB//EADkQAAEDAgQDBgQGAgEFAQAAAAEAAhEDIQQSMUFRYXEFIoGRofATscHRBhQyQlLhkvFyFSNUYtIW/8QAGgEAAwEBAQEAAAAAAAAAAAAAAAECAwQFBv/EACQRAAICAgICAwEBAQEAAAAAAAABAhEhMQMSQVEEExRhMnEi/9oADAMBAAIRAxEAPwDzjWogFYCIBfRHz9gwrARBqIMTEAArDUwMRBqLHQsNVhiZCINSsKFhisNTMqINRY6FBisMTcqvKlYUKyq8qbCkIsdC8imRMhSEWFC8ivKmQryosdCsqvKmZVISsKF5VMqZCkIsKFZVMqbCmVFhQrKqyJ2VTKnYqE5FRanZVC1FhRnyqi1PLVRaiwoQWIci0/BdwKjKRcQ0C6OyDozKWISxdl3Y7zGXXgfutX/RGgCXEnfh0CzfPFeS18eT8Hmcqtevb2ZT/gPJRZ/qj6NPyS9nkQEYaia1EGrps5kig1WGow1EGpWVQAaiDUYaiDUrHQGVXlRgK8qLCgQ1TKjyq4RY6AyqQmBqhCLCgIUhHC3YXstzxMwOamU1FWyowcsJHOhXC9PS7MptZDgCeK5WL7PIdDBIWUeeMnRo%2BCUVZzoVwjcwgwRBUyW0W1mVAQpCOFIRYqAhSEcIqVFzzlaCTwCLKoVCkJlSkWktcCCNiqhFioCFIRwoAiwoCEzC4bO7LpxVEI6FQsdIUybrA4pWrOtRwFJuozHmZSMfg2G7AB0ssjsRdb8KwGHarll2i7bOuPSSpIylpeMoMcSt9FjGCBrudz1VYgQLCOiwPqRrqocnJUi%2Bqi7OmcVZZ31yuVUxLtlPjGFPRj7o6X5pRcr4qif1v0HdezEGow1MyDZQNXodrPO6tAhqINRBqINRYUCAiDUQCIMSbGosANRAK8qvKiwoHKrhFlV5UWFAZUTW8VYCuEmykacPSEgwt350NsuSpJWMuLs8s3jyqKwjrDtIEqOxw5LkQiaw8Cp%2BmKH90mMrVQ7VLY/KtD8C8CSwxEpQEbLSLjVIyl2u2JIXT7OwInO%2BIAkN4zxWI6ymDEP4pTtqkOFJ2ztupUXfsb4CPktGDbTZORoHHj5lebFZw0JTGY1wXLLjnqzpXJDdHoqrKbzLmtJG8XWHF9mUy2Gd12xufArIztGNr8UTu0QRoko8kXixtwlujn1cG5hAcNd9QqNAXE3C3HFAiDdZ6lQHQQumM5PaMJQitMxFqEtWgtUFMnYrXsY9TOBC0U8U5thotQ7JqkTkgcyApQ7Ke5waYaNzqs5Tg9s0jGa0jn1arnak9Ekkr2NDsii0fpzxqXXnw0TjhacR8Nn%2BIWX6YLCRr9E3ls8MUBXtanZtNx/Q0dBHyV1ezqUfobw0CP0x9C%2BiXs8RCi9xTwNMAQ0eQUS/UvQ/ofs8S0IwxRoKax7gZXS5v0YKCfkANRBqN0kyVA1NSsTjQICNWGqw1JtNjVpAgJjWqBqIBJsIr2RtOTwVOYiEq4Upuymo0LyqZUyEQaq7E0Kyq8qaGLZQ7Pe7aOtlMppbKjBvRzmMvddLDva0QEx3Zbg0ukSNgs9KhJgmFlKcZLZrGLi9G5vaAQVQx8kgdd1zqrMsyVKZnQrNcaWUy3JvDRubTYBBaOKLEBj2xAtpFljLOaCE0m3dg2ktCH04MIcq05FWVbpmDRnyqBi0ZVAxPsLqJDUQYtDG7ALfhsO0/qN%2BCiXKolx4%2Bxho0RqRK34ao0mJiEOJexthK5n5iHSsJScjojFRO7Xe7ZxIjdZMxBFwue3Fvfpx0UxGLH7hB3WXV6KtHcp1rQSE01gF5j/qQG5KB/bUiIKX1yH2R6cV0FXEg7heSd2q86ApRxdQ3Ad5JriYnJHsPzI4qLx/5it/F3kVE/qYuxoY8DZEXTslsan02E2AldjkjlUWAQEynTLjAF1bqZFiITaWZtwk5YwNRzkS5kGDsoGq3h8y5EwI7YBwyRrE78s7WCtNBrQJm/krZVGYS7wKh8j8Gi4l5FswDyJy2QVMMW6hdKpjBsdFlxGNBgc1muSTeinxxMwongVBTXWOPYWgWWPEVWGIsmuVvwJ8aQpjcpkrp0seAFztd0bGJSSlscf/ADo2Vce0AxvqozI8XiEnJaMuqEUuSlQ9FuQnEYdk6ArOKIBsFsAHEeYQZhmyxfkQRfmCYP3VqSisshpt4QyhUGhgbCYF%2BA5pOKs8MGV1jJBAy37pI4GCtPYtQPe1zZhr8pmNQJO%2Bl10O2KRe8OaJERblr81l3SmqeDTq%2BrtZOJkV/DWgMRGmeC6Oxz9TL8NT4a1Bl72QuYEdkPozOLKnVw0nUninCiNgrOGj7KHT2WrWjl1cQDMkrFUAOjj4hdupgmm8JYwbBsEWkOmzlYcQ4d5bamCz3uTxWj4DBPdCNsmwe0Dok5B1MDOzi0SRKL8qBstzGlv72%2BX9qn9QfBJSdg4mEsA2VMeBvC1upyLlvksr8PxhUnYtDPzo4qJHwG8laOsQ7MVSYTwHWU3O5hsR1CS97GEtdUgjUZHGD13QjFUd6p/wP3Uvmh7KXFL0aPiSZOq0sxUCAPVYmVqJIAqEk8Gc4/kuj%2BVb/J3%2BI/8ApJ83G/IdJIzvfJ4KwN084do0LiYMS0D1zWWPB4sPbmDYuQQeI18FUeSMsRJcWtmwARokmk3mEUq2qqFYLKZB3TAxE1GEWFA/DG6puFbwKe1JxnaNOi0uedB%2BkXJnQKZSpWylG9GprmsEmA0CSTAAA3krjY/8RtAmiIGzzv8A8R9VxcfjH4h17MsQyJjW7uO09FkqUHRJM8yI3tbZcHN8jNROqHDi5ExHajyS4OcC5wcTmIkjR3W6F3aNR4Ic8mddpu7Xj%2Bo%2BnBZnAO/UG23i58UsCDay5/sl7NKVkI4j0WzA9rV6MZHw0GcpiJvP%2Bllc8nyjmequkADfSZn3ul2ZVHpndt4l7O86CRs0N1MySBIMb2IWfEdu4hha5zhNy3VzSXEEz3uTfIrjvxjwAM59f9IhiiRdoM%2B/BT3khtR0dFv4yrfwZz7p%2Bjl18N%2BNGOAz0nAj%2BLgR4SB5LxFrySPBG0cFuuWVbIXHFrR9Hp9tUKkQ9oJ/a8hpHK%2B62C2y%2BTuadpiV0aPbFZjcgqPyxAE%2BgOy2h8nGUYvhvTPZ1/xFRYcueebQSPNCPxNQdYvieLXW8QF4b4hF4EKiEv0SeaRouGP9Po1OqHtzMeHN2IMj0VOZOrl8%2Bp1XMuxzhF7EgjaV1%2By/xA5oy1AXjZ37hfedf6WsfkRe8GcuFrWT02SN0pzAFyq34kph0BjyONh5BacH2rTqnK2Q7WHCPI6LePJBukzJwklbRoLQFTahGt0ZCoBaUZ2WaxKsHqpChCVBZUDh6BRDKidCs812n2iym8ZmOe53eJnaR5lBS7apOdGR8RaS0E7RBP12XGfgSTrbwtfRRvZ25IJjiPuvKteTv6yPSsx9NwJA0t%2Btov5oa%2BMESx1MH%2BLnO%2BbX/RefGCNtuUq/y7joR5j7pdq0HW9o7LO0sr4exrmwMpplxJMAme8barfgaj2jKzD1jJJu2NecAQvKnDu4%2B/BOwz6jXEMe5pH8XOaT5araPO4rCRnLhTZ7UMxH/jP/AM2fdYMX218JxY%2BmWuaYIzAx4iy4rO08WNKr/wDMn5lZMQar3F75cXXJN5tC0XypeUhP48fFnoB%2BJW/wPn/SjvxQAJ%2BGT477bLhYWjJiOM2sOR59LrofBZTbnMAC86EnzsOSUvmJKkshH4z23gZT7XqtYTWfBeRADRLQdQAI22mbLm1ahc7M45oJyCIEbGJ1PpxS31w%2BpncBlE5WjhsY9zdZ6mIGY348hK5ZTlLbybpRjobUxDm97MUI7RcdDHgizhw4%2BiCphmkAyRy/tZqvI8%2BBT6%2BY3sN41/2gDDsD74phw4FyZHAcOqbRr8OGicnSwJoXVqlgbIkkR6LG/EuIiYHJTGV8zjG1klxstIxSWRN%2BENpvdOpW2nUJ5fVLw2HtJWynT4D6qJyjqi1GtjKdwZ8tfFXUw7miSBEayI93VsJHdcJA4GED6xcIEQ2Te4t9FmrsaxszvEbpQftr04I6hgcefU3WR8jRbRSJrybWzHs23VBxnvSeBNylUX7bb69YROdlNoidtQlpiH5uE68PJGYG3kgo1JFhy%2Bqp7HEW4xKl3Y2amNDgdQ5okRBnjbVA1x/U224OhkdFjpGBM7i3Inz4LS995Bv6c/FFtME7Dfjn/wA3eZ%2B6B2Of/I%2BZQ1SHt059ORWOTw9QvT4ObvHOzh5o9ZY0anY1/wDI%2BZQnEvN7%2BZSPBC4ngtVK8oydrDH/AJh3uVFnzO5e/FROxWbPzQH7THUpjMY3h9D5rG1pOx%2BybTpDf0kecLx8Hpps0OI4GT74fVLDxw08f6UawjQEeZ%2BiFzw2TObpe/OEhs0U6lpDfHh5q/jE6NM%2BA%2BiXSa54jIQ22pi82sAt7cOBdztBtr/Xok3Q4psRcXcHX0DRc3cI4nQ%2BScKTQe9rrAOu3eMX8FeeDla2Gj198Uh9ZrCJvMnxG08vold6LqtmvEV8okwPSNNFxq9b4t47uw/lHrF/RViXF/6iP%2BN4HVWK0QBaNAZgqopL/pEpWC54Hy0UfTBdJEn0POOKtx11jhruluftbe/XhwQSWxsEiwv7lWaoFpmdo424LLUrQcpmRex1/tLJJi/sXhHUV0dWo3MMoPrPPyWN/db/AO2n9pn6mgdDwtvPFSsybCwNt7c0J%2BCmc2mFqoUhZzvL6popgcLW8kfVXKdrAlgYx2m1%2Bi0sAGp%2BSzWNvfKVVgRuNAsll5LT9mkamDB1kngs7/DUeO90bXgHqI8eA4pTjNz75JqIUFEwOA8/d0hwG0e/kiB1i6F77cL%2BKpKhJF4Z7QSXgcLXjnzWrE0MuVzSCHiQfWPBY20zFk%2BjRN5kgbcPNKTTQqKbub39eqMEuGgiZvoOo34JTheRYfRKfIJLXkaS3Vptrrqpi87EzRUYT3rREWP8bfRZySTbRuupjZNwNVzHZz34uWuAynyurxWKc92ckAmLABoGug5K217JDpO1Ef65qnszCQfAFZ2OLjlEpzHZZzeZBtAJ9bBVCTi7WwaUlTEiwg%2BXhoqLRH0KNxbkIjvF066CLR4oGyNbjjsORW/HyOO9E8vGpr%2Bl5RxUV/lmn9xHvqotv0L0Yfmfs202eHzTKjw3gePLpsuca7jxUOawINiD47arzqO3sPcxz4zCA51mtJJdzcRt0stDWMY4hrXZQ45CbOyDQuFw06iFqwGeXuYcrmM4/tILXW0IAdy5LDhKVQNJezP/ANuo5rgQDLXgSRwAPXXgtKbjgPJuZiNhafT39ldeqxoytu7ppvPVcqXusJBnwGkySqdTLbueCZuOvNZUV2wbqmJysIB2Bud9ra/7XMwjHPBI1cRAJtABza8gtMCDmaTI4dNOK10HUGwKzC5mU90CINocb7clpFVgmWTBVpmJzCZjLN50sOv0RlzzYtJ3mPLkpi6Yf/3M4khsfpGhcSTHgNExlF8HMNzEBp6eARJJaJijO5%2BXUEC2ttpsudj67m2sLzvMruOJAOm9tNjGluA80mtQY895oN5mBcZ4mW5ToeduKmLSeRuJ51jy94m0kC2y6nw55wdNrbo/ybAJAAMMMy8xeDFjvC9B2XgsO%2BtTp6h7mseA475gByE24wNVo6lrwRVPJyRewEWRMcct7jjoefhK1dt4VlGq9rMpazK0DvaiLayLh1vosePqtblIY0y0OE5u6QbHWNLLNRzRtGLk6Rb6cwR9JnzSoQGsDJIa0G52k7TNzp5LRSYX/pGhNjIJgiS0DUXGn%2ByfHKLM070AwjQHQSrc%2BTB3%2BSa2gAYdYzoQRr9dEkgHhZQnWStFZRxIQuJ5ewrc7j0WbPJIHGOPUlaLJWDSyNiAqrtsDAt/pVTMXQ1KhMDaZKLB4RKbzqOe2nJNa4zO%2B6CkNvfyTIJtosW2ZlZCbE6XPJLqMGoO4lNLYtP1Q5p1bobxoeFinFO8BRVCnAlxIEmANT9k51BpaTBnl8ikueZg8dNgOSv4xA1HDkuhRVCoZhqMDMwEuAuJG/LjcIHtJBvpqJMyZ0B4ckLHuBzyZm1pmIm6JjLy5wGsAE5hzy7BNLFAlRkqMtbzmwVfGIAZI48ZGn2TD5eRWd9Ml8nQNj1TSBh/GPL34q0j4TuKidBZuqY1oJAN9Jga67IsMXnS41l1tNd9FzMLhjq4He8karQ%2Bo8xHdAsANFnJJYQJ%2BzpmoRHe6xccbcf6Rvr5btJktjwO1krDZg0hwEHrPSeKJrmyflw8dIUWy0KD3zJIAjjJ/pSnRDnQXAnX2Eb6reU8hKW57Wi9p1Fgf66KWxOgsTVLXmDPKyEV5kky42vp70WYXPD/AHxThRvY3PyQpMlNsdXg5dNNgDfXzWxmKGQNDIN76%2Bi5zGQSXGSNtgnCq0mxsBpz4SmmWnkaxzpzEgG0jlz97plTEtm7QT0%2BpCQXkjmb%2BCCAA4bgT6obpBoNz2CczTM7H0hM7NaxlYVGkl%2Bdjw02AyOzSXibTwGyx0XXtc%2BgRBnesTmGsOgkcxunBpptkJ3k6nbvZ%2Bes4msCXgPN2vMm37QwECBByhZ8X2e5zQA8d1sNDjlBIAgC/wCogRfXyWV1F7KlB7iIqS5sGTEuYc07ylfiasDlYDoMx8TA%2BRXQ%2BNJpJ2EZ1bqjM3DOfLy13eAgAEn5WsFqwQLiRaMsEAx%2B5u400Tvw5Vljo2dpraB9QVhyEPeGauLgNRYuEe9oRbpxEkrTOvTqZy42nM8Bw0/aBm3dYlGaJg5mNIbbMO6SJ1Bm%2Bh2SsBSaxuQOkg948%2BC04XFB%2BZjZLgbDYug7/wAb6dFyyirNaTMYYwOGcOg68eR6pTKIGhsTbz3HFDJc%2BHWuQbCxG0Ld%2BSeXkAcQCNM2o5aKKaIVim0JGluPHpHRXTotn9PjG/1TWUHD9wGvyOiKliWCQ4GTYSZaNwesrSMk1TwPID2NjSQN409lJq0hFhBjpI136rYacTBkSLXsJ1Bk2T2YZ4NoF3C5ANhJEagHS8SbcQNEkByWMB/dEC%2B4taUVTCuy5mwRvBjxg%2BXktb6QEBtPQGd5Mm5k8OEaJbKUNNnRfQxzkA9E6QHMr05y5g4EgwTLZAOx3/oqnMWxrHO1Iiby4bjWPAKqlAC5cB4x5BUIx/Fc0gOmQdOehRPrS0zeNNj4LGwODi0gCSS2NCJ0HNR741kKtEhOqQZuBsJv7mfRW94It7HRZxWBV/FCKAZnndRIztUToVnUq1wAA52UchJJ4qNDACJMi02b6lcJ1TN%2BpUGjSbcFHVIOx3y8kENfpo2xtwsUtlYtBaYHgDoeS4rWwZaU1hPGCOinonsOzO3Sc19hmHGGxNrxK0twrDsXESINvG232XBpveDOfj5wtwxrRluZAvp099FDhRUZLya3URtlnTyFgAoWEd0TJuTpbeAsXxiO8LTyja55oKnaTpEbbjhEAXS6PwDaRoxTSRFwJ03MIabIiJk%2BPmUVOuSM7290X8Nz81MR2o1suY2HMgSbiTsOcJdZPAq8j20XwbWIiTwn%2BkVOgYcQCbfq2J6nbdLw%2BNFRmYuv%2B4WF/fzTKlSQGh2guOvApKLumXVmVmKYLE3Bjfj8kTcU1r2OYxj3SG98EN7xjWbdeqwY5jQ8CYsZd9PfJLoVWBwD5j9xESRyB%2Bv9rZRS0Z9qwdTtjHh%2BJY3uwwspNyElndIktJAkFxcZjgn/AIgGenTbaWODAQACQ90wTvB06qVOwGMcypn%2BJTeM7HNBaJmS11zDhbrdFj3jJBBkkFsa5mkEa9PVadrpLwNpq2/IrsTKyiHDV0l3GQSIvEQhfVfUdDRA%2BnM/RVSwTjGaw1yyCbmT0uSui1gaABbyQ6TvYK2hVFnwxknWTPXdJoUSypI0tmNwDxHyWmtoHDVp9DY%2B%2BSldmYCTNwbSsJI1WRHbTDTqgzlbUAeBbXcEjp1v53ne5pc1xOxE6Wv6J34lpA0Kb4dOYiYsQWk2MXMgeq4eDxhs0xI0PHkk1i0RN9ZHawuIDTDhYbG4np5qNrj9DgIm0NE8ZuZ12WWi4SC7pa3yhPe0cSRxjfz9bLO7BO0CcUdW6zeNL8l1WVm5RFoAMGXXm/PwXAqs4GJ3%2B6dhahZZxPIi8e7qoyBPwdsNBnWxN9Zv9j0Wdr9f2zx024K6VVskE5SYc29gbgyYMaTE2lZajDJaRG%2Btj0WsXY2C/E6iNTe1pmPslVmt2O1o98bKqjjueUG2vqLfJJrPMmIGxsBFoJ4abrVIhszOYWkOJsJFxe/DY6DzSqz85gA3MaI6rjeeV/eyzuA1nT1vp74JpCbM1ai9kZmkT4%2BoWrABjjkqPyB0Q7LmAM72Jjouhiew8SW2pl7Yz9x2eAeQ35alDhPw7iS6DRfl/cYiBvBO6vr6J7ezq/8A5Fn/AJI/wI%2Bqi6mF7ErNY1rcW9rQIDfhzA4frUWvVejLt/TwLsMSNB5qmYQ9NlFFxts0SQxtIMPExtbdQuBN3HwEe9VFEhjmYMO7wJ9zBN%2BSB%2BCE6zfp4qKJWx0OpYQzqegMe7J4DGyGtBJ1JUUU22NCMTVJg8Bpz4rmYqoC1gHAz19lRRbxHICjUc2CDE26xsfNPdiHExMdPVRREkrIew6GCc7Q7brqYPsoN7zrnYbD7qlFFu2XFHpsFj6dOg5nwjVc90jM4tpslpYCGtMvMGbxBjhK4baBF3OzWjp0CiiaGxzevolYnFZbC5UUVLYPRixGKe5pE62gWkkwJ81uo0iGATJ87%2BKiimY%2BM3/idhGGa14AIyEEXuNfReObUBMx1HzKiimP%2BQ5v9Hcwwa5oiQ6BzB%2B11pptjWPeqiiwpWKKBpvDpy6XEaapDrEyNVFFDYpMPDkhwMkHWZM8Pr6LR2hiHB4mdtSN4m4HRRRaRGtCKzmWdeLW1tP0SRaDcE9NvvooouqPgl6FioLjQRMcb%2BmizVWX6qKKvIkdDsz8R1sP3M2ZkEGm64g6wdivS9l/jVtapTpvpBjSQwODi8h2gzWBIJ3mQoorTeCJJZPQ13NzGw/xCpRRdBzH/9k%3D%22%2C%20%22popupAnchor%22%3A%20%5B30%2C%20-30%5D%2C%20%22shadowAnchor%22%3A%20%5B-10%2C%20-2%5D%2C%20%22shadowSize%22%3A%20%5B70%2C%2065%5D%7D%29%3B%0A%20%20%20%20%20%20%20%20marker_5e1e3d7b26314d788ac70de176f31d59.setIcon%28custom_icon_8ec82bf18a4b4534adae9fb645730893%29%3B%0A%20%20%20%20%20%20%20%20%0A%20%20%20%20%0A%20%20%20%20%20%20%20%20var%20popup_d77c8b5a289a4f8c82039f051124d0d3%20%3D%20L.popup%28%7B%22maxWidth%22%3A%20200%7D%29%3B%0A%0A%20%20%20%20%20%20%20%20%0A%20%20%20%20%20%20%20%20%20%20%20%20var%20html_124db42690d445509878b5717ab642cd%20%3D%20%24%28%60%3Cdiv%20id%3D%22html_124db42690d445509878b5717ab642cd%22%20style%3D%22width%3A%20100.0%25%3B%20height%3A%20100.0%25%3B%22%3E%EC%A0%9C%EC%A3%BC%ED%8A%B9%EB%B3%84%EC%9E%90%EC%B9%98%EB%8F%84%20%EC%A0%9C%EC%A3%BC%EC%8B%9C%20%EA%B4%91%EC%96%919%EA%B8%B8%2010%3C/div%3E%60%29%5B0%5D%3B%0A%20%20%20%20%20%20%20%20%20%20%20%20popup_d77c8b5a289a4f8c82039f051124d0d3.setContent%28html_124db42690d445509878b5717ab642cd%29%3B%0A%20%20%20%20%20%20%20%20%0A%0A%20%20%20%20%20%20%20%20marker_5e1e3d7b26314d788ac70de176f31d59.bindPopup%28popup_d77c8b5a289a4f8c82039f051124d0d3%29%0A%20%20%20%20%20%20%20%20%3B%0A%0A%20%20%20%20%20%20%20%20%0A%20%20%20%20%0A%20%20%20%20%0A%20%20%20%20%20%20%20%20%20%20%20%20marker_5e1e3d7b26314d788ac70de176f31d59.bindTooltip%28%0A%20%20%20%20%20%20%20%20%20%20%20%20%20%20%20%20%60%3Cdiv%3E%0A%20%20%20%20%20%20%20%20%20%20%20%20%20%20%20%20%20%20%20%20%20%EC%A0%9C%EC%A3%BC%EC%8B%9C%EC%B2%AD%0A%20%20%20%20%20%20%20%20%20%20%20%20%20%20%20%20%20%3C/div%3E%60%2C%0A%20%20%20%20%20%20%20%20%20%20%20%20%20%20%20%20%7B%22sticky%22%3A%20true%7D%0A%20%20%20%20%20%20%20%20%20%20%20%20%29%3B%0A%20%20%20%20%20%20%20%20%0A%20%20%20%20%0A%20%20%20%20%20%20%20%20%20%20%20%20var%20marker_5428eee3f5a143258139a8fa3efb79c2%20%3D%20L.marker%28%0A%20%20%20%20%20%20%20%20%20%20%20%20%20%20%20%20%5B33.45175%2C%20126.57201%5D%2C%0A%20%20%20%20%20%20%20%20%20%20%20%20%20%20%20%20%7B%7D%0A%20%20%20%20%20%20%20%20%20%20%20%20%29.addTo%28map_fc5e915af0d04f69b298e6b484a21831%29%3B%0A%20%20%20%20%20%20%20%20%0A%20%20%20%20%0A%20%20%20%20%20%20%20%20%20%20%20%20var%20icon_9cc411d7fb9b4b248c06907f9eaa507d%20%3D%20L.AwesomeMarkers.icon%28%0A%20%20%20%20%20%20%20%20%20%20%20%20%20%20%20%20%7B%22extraClasses%22%3A%20%22fa-rotate-0%22%2C%20%22icon%22%3A%20%22info-sign%22%2C%20%22iconColor%22%3A%20%22white%22%2C%20%22markerColor%22%3A%20%22red%22%2C%20%22prefix%22%3A%20%22glyphicon%22%7D%0A%20%20%20%20%20%20%20%20%20%20%20%20%29%3B%0A%20%20%20%20%20%20%20%20%20%20%20%20marker_5428eee3f5a143258139a8fa3efb79c2.setIcon%28icon_9cc411d7fb9b4b248c06907f9eaa507d%29%3B%0A%20%20%20%20%20%20%20%20%0A%20%20%20%20%0A%20%20%20%20%20%20%20%20%20%20%20%20marker_5428eee3f5a143258139a8fa3efb79c2.bindTooltip%28%0A%20%20%20%20%20%20%20%20%20%20%20%20%20%20%20%20%60%3Cdiv%3E%0A%20%20%20%20%20%20%20%20%20%20%20%20%20%20%20%20%20%20%20%20%20%ED%85%8C%ED%81%AC%EB%85%B8%ED%8C%8C%ED%81%AC%0A%20%20%20%20%20%20%20%20%20%20%20%20%20%20%20%20%20%3C/div%3E%60%2C%0A%20%20%20%20%20%20%20%20%20%20%20%20%20%20%20%20%7B%22sticky%22%3A%20true%7D%0A%20%20%20%20%20%20%20%20%20%20%20%20%29%3B%0A%20%20%20%20%20%20%20%20%0A%20%20%20%20%0A%20%20%20%20%20%20%20%20%20%20%20%20var%20circle_1a4813f686ac43789fd2812d2a393e9c%20%3D%20L.circle%28%0A%20%20%20%20%20%20%20%20%20%20%20%20%20%20%20%20%5B33.50706%2C%20126.49296%5D%2C%0A%20%20%20%20%20%20%20%20%20%20%20%20%20%20%20%20%7B%22bubblingMouseEvents%22%3A%20true%2C%20%22color%22%3A%20%22crimson%22%2C%20%22dashArray%22%3A%20null%2C%20%22dashOffset%22%3A%20null%2C%20%22fill%22%3A%20true%2C%20%22fillColor%22%3A%20%22crimson%22%2C%20%22fillOpacity%22%3A%200.2%2C%20%22fillRule%22%3A%20%22evenodd%22%2C%20%22lineCap%22%3A%20%22round%22%2C%20%22lineJoin%22%3A%20%22round%22%2C%20%22opacity%22%3A%201.0%2C%20%22radius%22%3A%201000%2C%20%22stroke%22%3A%20true%2C%20%22weight%22%3A%203%7D%0A%20%20%20%20%20%20%20%20%20%20%20%20%29.addTo%28map_fc5e915af0d04f69b298e6b484a21831%29%3B%0A%20%20%20%20%20%20%20%20%0A%20%20%20%20%0A%20%20%20%20%20%20%20%20%20%20%20%20circle_1a4813f686ac43789fd2812d2a393e9c.bindTooltip%28%0A%20%20%20%20%20%20%20%20%20%20%20%20%20%20%20%20%60%3Cdiv%3E%0A%20%20%20%20%20%20%20%20%20%20%20%20%20%20%20%20%20%20%20%20%20%EC%A0%9C%EC%A3%BC%EA%B3%B5%ED%95%AD%0A%20%20%20%20%20%20%20%20%20%20%20%20%20%20%20%20%20%3C/div%3E%60%2C%0A%20%20%20%20%20%20%20%20%20%20%20%20%20%20%20%20%7B%22sticky%22%3A%20true%7D%0A%20%20%20%20%20%20%20%20%20%20%20%20%29%3B%0A%20%20%20%20%20%20%20%20%0A%3C/script%3E onload=\"this.contentDocument.open();this.contentDocument.write(    decodeURIComponent(this.getAttribute('data-html')));this.contentDocument.close();\" allowfullscreen webkitallowfullscreen mozallowfullscreen></iframe></div></div>"
      ],
      "text/plain": [
       "<folium.folium.Map at 0x17cc81e1d60>"
      ]
     },
     "execution_count": 65,
     "metadata": {},
     "output_type": "execute_result"
    }
   ],
   "source": [
    "\n",
    "\n",
    "map = folium.Map(location=[33.49959,126.53125],zoom_start=20)\n",
    "folium.Marker(location=[33.49959,126.53125], \n",
    "                icon=CustomIcon(\n",
    "                '섭지코지.jfif',\n",
    "                icon_size=(75, 95),\n",
    "                icon_anchor=(10, 30),\n",
    "                shadow_size=(70, 65),\n",
    "                shadow_anchor=(-10, -2),\n",
    "                popup_anchor=(30, -30)),\n",
    "                tooltip='제주시청', \n",
    "                popup=folium.Popup('제주특별자치도 제주시 광양9길 10',max_width=200),\n",
    ").add_to(map)\n",
    "folium.Marker(location = [33.45175,126.57201],\n",
    "                tooltip='테크노파크',\n",
    "                icon = folium.Icon(color='red', icon='info-sign'),\n",
    ").add_to(map)\n",
    "folium.Circle(location=[33.50706,126.49296],\n",
    "                tooltip='제주공항',\n",
    "                radius=1000, color = 'crimson', fill = True\n",
    ").add_to(map)\n",
    "title_html = '<h3 align=\"center\" style=\"font-size:20px\">3개 지역 표시</h3>'   \n",
    "map.get_root().html.add_child(folium.Element(title_html))\n",
    "\n",
    "map"
   ]
  },
  {
   "cell_type": "code",
   "execution_count": null,
   "metadata": {},
   "outputs": [],
   "source": [
    "\n"
   ]
  }
 ],
 "metadata": {
  "interpreter": {
   "hash": "60e7f993bd80280a292cf727bcf540b52dc52f658ffaee01a928daf77ed7d70f"
  },
  "kernelspec": {
   "display_name": "Python 3.8.8 64-bit ('base': conda)",
   "language": "python",
   "name": "python3"
  },
  "language_info": {
   "codemirror_mode": {
    "name": "ipython",
    "version": 3
   },
   "file_extension": ".py",
   "mimetype": "text/x-python",
   "name": "python",
   "nbconvert_exporter": "python",
   "pygments_lexer": "ipython3",
   "version": "3.8.8"
  },
  "orig_nbformat": 4
 },
 "nbformat": 4,
 "nbformat_minor": 2
}
