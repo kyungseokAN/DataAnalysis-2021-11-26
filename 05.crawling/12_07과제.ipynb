{
 "cells": [
  {
   "cell_type": "code",
   "execution_count": 1,
   "metadata": {},
   "outputs": [],
   "source": [
    "import requests\n",
    "from selenium import webdriver\n",
    "from bs4 import BeautifulSoup\n",
    "import time\n",
    "import pandas as pd\n",
    "import parser\n",
    "import re"
   ]
  },
  {
   "cell_type": "code",
   "execution_count": 2,
   "metadata": {},
   "outputs": [],
   "source": [
    "site = 'https://www.hanbit.co.kr'\n",
    "url = 'https://www.hanbit.co.kr/store/books/new_book_list.html'\n",
    "driver = webdriver.Chrome('chromedriver.exe')\n",
    "driver.get(url)\n",
    "req = requests.get(url)\n",
    "html = req.text\n",
    "time.sleep(2)"
   ]
  },
  {
   "cell_type": "code",
   "execution_count": 5,
   "metadata": {},
   "outputs": [],
   "source": [
    "soup = BeautifulSoup(driver.page_source,'html.parser')\n"
   ]
  },
  {
   "cell_type": "code",
   "execution_count": 10,
   "metadata": {},
   "outputs": [
    {
     "data": {
      "text/plain": [
       "20"
      ]
     },
     "execution_count": 10,
     "metadata": {},
     "output_type": "execute_result"
    }
   ],
   "source": [
    "lis = soup.select('.new_book_list_wrap>div>li')\n",
    "len(lis)"
   ]
  },
  {
   "cell_type": "code",
   "execution_count": 11,
   "metadata": {},
   "outputs": [
    {
     "ename": "NameError",
     "evalue": "name 'li' is not defined",
     "output_type": "error",
     "traceback": [
      "\u001b[1;31m---------------------------------------------------------------------------\u001b[0m",
      "\u001b[1;31mNameError\u001b[0m                                 Traceback (most recent call last)",
      "\u001b[1;32m<ipython-input-11-7c1fadbb39f3>\u001b[0m in \u001b[0;36m<module>\u001b[1;34m\u001b[0m\n\u001b[1;32m----> 1\u001b[1;33m \u001b[0mhref\u001b[0m \u001b[1;33m=\u001b[0m \u001b[0mli\u001b[0m\u001b[1;33m.\u001b[0m\u001b[0mfind\u001b[0m\u001b[1;33m(\u001b[0m\u001b[1;34m'a'\u001b[0m\u001b[1;33m)\u001b[0m\u001b[1;33m[\u001b[0m\u001b[1;34m'href'\u001b[0m\u001b[1;33m]\u001b[0m\u001b[1;33m\u001b[0m\u001b[1;33m\u001b[0m\u001b[0m\n\u001b[0m\u001b[0;32m      2\u001b[0m \u001b[0mhref\u001b[0m\u001b[1;33m\u001b[0m\u001b[1;33m\u001b[0m\u001b[0m\n",
      "\u001b[1;31mNameError\u001b[0m: name 'li' is not defined"
     ]
    }
   ],
   "source": [
    "href = li.find('a')['href']\n",
    "href"
   ]
  },
  {
   "cell_type": "code",
   "execution_count": 12,
   "metadata": {},
   "outputs": [
    {
     "ename": "NameError",
     "evalue": "name 'href' is not defined",
     "output_type": "error",
     "traceback": [
      "\u001b[1;31m---------------------------------------------------------------------------\u001b[0m",
      "\u001b[1;31mNameError\u001b[0m                                 Traceback (most recent call last)",
      "\u001b[1;32m<ipython-input-12-e5fd84223a6d>\u001b[0m in \u001b[0;36m<module>\u001b[1;34m\u001b[0m\n\u001b[1;32m----> 1\u001b[1;33m \u001b[0msub_url\u001b[0m \u001b[1;33m=\u001b[0m \u001b[0msite\u001b[0m\u001b[1;33m+\u001b[0m\u001b[0mhref\u001b[0m\u001b[1;33m\u001b[0m\u001b[1;33m\u001b[0m\u001b[0m\n\u001b[0m\u001b[0;32m      2\u001b[0m \u001b[0msub_url\u001b[0m\u001b[1;33m\u001b[0m\u001b[1;33m\u001b[0m\u001b[0m\n",
      "\u001b[1;31mNameError\u001b[0m: name 'href' is not defined"
     ]
    }
   ],
   "source": [
    "sub_url = site+href\n",
    "sub_url"
   ]
  },
  {
   "cell_type": "code",
   "execution_count": 13,
   "metadata": {},
   "outputs": [
    {
     "ename": "NameError",
     "evalue": "name 'sub_url' is not defined",
     "output_type": "error",
     "traceback": [
      "\u001b[1;31m---------------------------------------------------------------------------\u001b[0m",
      "\u001b[1;31mNameError\u001b[0m                                 Traceback (most recent call last)",
      "\u001b[1;32m<ipython-input-13-70af0f5b219f>\u001b[0m in \u001b[0;36m<module>\u001b[1;34m\u001b[0m\n\u001b[1;32m----> 1\u001b[1;33m \u001b[0msub_req\u001b[0m \u001b[1;33m=\u001b[0m \u001b[0mrequests\u001b[0m\u001b[1;33m.\u001b[0m\u001b[0mget\u001b[0m\u001b[1;33m(\u001b[0m\u001b[0msub_url\u001b[0m\u001b[1;33m)\u001b[0m\u001b[1;33m\u001b[0m\u001b[1;33m\u001b[0m\u001b[0m\n\u001b[0m\u001b[0;32m      2\u001b[0m \u001b[0msub_html\u001b[0m \u001b[1;33m=\u001b[0m \u001b[0msub_req\u001b[0m\u001b[1;33m.\u001b[0m\u001b[0mtext\u001b[0m\u001b[1;33m\u001b[0m\u001b[1;33m\u001b[0m\u001b[0m\n\u001b[0;32m      3\u001b[0m \u001b[0msub_soup\u001b[0m \u001b[1;33m=\u001b[0m \u001b[0mBeautifulSoup\u001b[0m\u001b[1;33m(\u001b[0m\u001b[0msub_html\u001b[0m\u001b[1;33m,\u001b[0m\u001b[1;34m'html.parser'\u001b[0m\u001b[1;33m)\u001b[0m\u001b[1;33m\u001b[0m\u001b[1;33m\u001b[0m\u001b[0m\n",
      "\u001b[1;31mNameError\u001b[0m: name 'sub_url' is not defined"
     ]
    }
   ],
   "source": [
    "sub_req = requests.get(sub_url)\n",
    "sub_html = sub_req.text\n",
    "sub_soup = BeautifulSoup(sub_html,'html.parser')"
   ]
  },
  {
   "cell_type": "code",
   "execution_count": 14,
   "metadata": {},
   "outputs": [
    {
     "data": {
      "text/plain": [
       "20"
      ]
     },
     "execution_count": 14,
     "metadata": {},
     "output_type": "execute_result"
    }
   ],
   "source": [
    "lis = soup.select('.new_book_list_wrap>div>li')\n",
    "len(lis)"
   ]
  },
  {
   "cell_type": "code",
   "execution_count": 241,
   "metadata": {},
   "outputs": [],
   "source": [
    "li = lis[0]"
   ]
  },
  {
   "cell_type": "code",
   "execution_count": 9,
   "metadata": {},
   "outputs": [
    {
     "ename": "NameError",
     "evalue": "name 'li' is not defined",
     "output_type": "error",
     "traceback": [
      "\u001b[1;31m---------------------------------------------------------------------------\u001b[0m",
      "\u001b[1;31mNameError\u001b[0m                                 Traceback (most recent call last)",
      "\u001b[1;32m<ipython-input-9-7c1fadbb39f3>\u001b[0m in \u001b[0;36m<module>\u001b[1;34m\u001b[0m\n\u001b[1;32m----> 1\u001b[1;33m \u001b[0mhref\u001b[0m \u001b[1;33m=\u001b[0m \u001b[0mli\u001b[0m\u001b[1;33m.\u001b[0m\u001b[0mfind\u001b[0m\u001b[1;33m(\u001b[0m\u001b[1;34m'a'\u001b[0m\u001b[1;33m)\u001b[0m\u001b[1;33m[\u001b[0m\u001b[1;34m'href'\u001b[0m\u001b[1;33m]\u001b[0m\u001b[1;33m\u001b[0m\u001b[1;33m\u001b[0m\u001b[0m\n\u001b[0m\u001b[0;32m      2\u001b[0m \u001b[0mhref\u001b[0m\u001b[1;33m\u001b[0m\u001b[1;33m\u001b[0m\u001b[0m\n",
      "\u001b[1;31mNameError\u001b[0m: name 'li' is not defined"
     ]
    }
   ],
   "source": [
    "href = li.find('a')['href']\n",
    "href"
   ]
  },
  {
   "cell_type": "code",
   "execution_count": 243,
   "metadata": {},
   "outputs": [
    {
     "data": {
      "text/plain": [
       "'https://www.hanbit.co.kr/store/books/look.php?p_code=B6694310162'"
      ]
     },
     "execution_count": 243,
     "metadata": {},
     "output_type": "execute_result"
    }
   ],
   "source": [
    "sub_url = site+href\n",
    "sub_url"
   ]
  },
  {
   "cell_type": "code",
   "execution_count": 244,
   "metadata": {},
   "outputs": [
    {
     "data": {
      "text/plain": [
       "'하루 한 장 초등과학 365'"
      ]
     },
     "execution_count": 244,
     "metadata": {},
     "output_type": "execute_result"
    }
   ],
   "source": [
    "itemName = li.select_one('.book_tit').get_text()\n",
    "itemName"
   ]
  },
  {
   "cell_type": "code",
   "execution_count": 245,
   "metadata": {},
   "outputs": [
    {
     "data": {
      "text/plain": [
       "'치바 가즈요시 '"
      ]
     },
     "execution_count": 245,
     "metadata": {},
     "output_type": "execute_result"
    }
   ],
   "source": [
    "writer = li.select_one('.book_writer').get_text()\n",
    "writer"
   ]
  },
  {
   "cell_type": "code",
   "execution_count": 246,
   "metadata": {},
   "outputs": [
    {
     "data": {
      "text/plain": [
       "' 허영은 , 유우종 (감수) '"
      ]
     },
     "execution_count": 246,
     "metadata": {},
     "output_type": "execute_result"
    }
   ],
   "source": [
    "#역자\n",
    "translator = sub_soup.select_one('.info_list>li:nth-child(2)').get_text().split(':')[1]\n",
    "translator"
   ]
  },
  {
   "cell_type": "code",
   "execution_count": 277,
   "metadata": {},
   "outputs": [
    {
     "data": {
      "text/plain": [
       "True"
      ]
     },
     "execution_count": 277,
     "metadata": {},
     "output_type": "execute_result"
    }
   ],
   "source": [
    "translator = sub_soup.select_one('.info_list')\n",
    "len(translator)==13"
   ]
  },
  {
   "cell_type": "code",
   "execution_count": 307,
   "metadata": {},
   "outputs": [
    {
     "data": {
      "text/plain": [
       "20211102"
      ]
     },
     "execution_count": 307,
     "metadata": {},
     "output_type": "execute_result"
    }
   ],
   "source": [
    "#출간일\n",
    "date = sub_soup.select_one('.info_list').get_text().split('출간')[1][:15]\n",
    "date = re.sub('[^0-9]','',date)\n",
    "date = int(date)\n",
    "date"
   ]
  },
  {
   "cell_type": "code",
   "execution_count": 324,
   "metadata": {},
   "outputs": [
    {
     "data": {
      "text/plain": [
       "96"
      ]
     },
     "execution_count": 324,
     "metadata": {},
     "output_type": "execute_result"
    }
   ],
   "source": [
    "#페이지\n",
    "jpage=sub_soup.select_one('.info_list').get_text().split('쪽')[0][-5:]\n",
    "jpage = re.sub('[^0-9]','',jpage)\n",
    "jpage = int(jpage)\n",
    "jpage"
   ]
  },
  {
   "cell_type": "code",
   "execution_count": 346,
   "metadata": {},
   "outputs": [
    {
     "data": {
      "text/plain": [
       "30000"
      ]
     },
     "execution_count": 346,
     "metadata": {},
     "output_type": "execute_result"
    }
   ],
   "source": [
    "#정가\n",
    "price=sub_soup.select_one('.store_payment_area>fieldset>label>p:nth-child(1)').get_text()\n",
    "price = re.sub('[^0-9]','',price)\n",
    "price = int(price)\n",
    "price"
   ]
  },
  {
   "cell_type": "code",
   "execution_count": 352,
   "metadata": {},
   "outputs": [
    {
     "data": {
      "text/plain": [
       "27000"
      ]
     },
     "execution_count": 352,
     "metadata": {},
     "output_type": "execute_result"
    }
   ],
   "source": [
    "#할인가\n",
    "sale=sub_soup.select_one('.store_payment_area>fieldset>label>p:nth-child(2)>span:nth-child(2)>strong').get_text()\n",
    "sale = re.sub('[^0-9]','',sale)\n",
    "sale = int(sale)\n",
    "sale"
   ]
  },
  {
   "cell_type": "code",
   "execution_count": 201,
   "metadata": {},
   "outputs": [
    {
     "data": {
      "text/plain": [
       "990"
      ]
     },
     "execution_count": 201,
     "metadata": {},
     "output_type": "execute_result"
    }
   ],
   "source": [
    "#마일리지\n",
    "Mileage=sub_soup.select_one('.store_payment_area>fieldset>label>p:nth-child(3)>span:nth-child(2)').get_text().split('점')[0]\n",
    "Mileage = int(Mileage)\n",
    "Mileage"
   ]
  },
  {
   "cell_type": "code",
   "execution_count": 21,
   "metadata": {},
   "outputs": [],
   "source": [
    "lines=[]\n",
    "\n",
    "site = 'https://www.hanbit.co.kr'\n",
    "url = 'https://www.hanbit.co.kr/store/books/new_book_list.html'\n",
    "driver = webdriver.Chrome('chromedriver.exe')\n",
    "#driver.get(url)\n",
    "req = requests.get(url)\n",
    "html = req.text\n",
    "#time.sleep(1)\n",
    "for page in range(1,11):\n",
    "    url = 'https://www.hanbit.co.kr/store/books/new_book_list.html?page='+str(page)#+'&brand=&cate1=&cate2=&searchKey=&keyWord='\n",
    "    #driver.get(url)\n",
    "    #time.sleep(1)\n",
    "    soup = BeautifulSoup(driver.page_source, 'html.parser')\n",
    "    lis = soup.select('.new_book_list_wrap>div>li')\n",
    "\n",
    "    for li in lis:\n",
    "        href = li.find('a')['href']\n",
    "        sub_url = site+href\n",
    "        sub_req = requests.get(sub_url)\n",
    "        sub_html = sub_req.text\n",
    "        sub_soup = BeautifulSoup(sub_html,'html.parser')\n",
    "        \n",
    "        writer = li.select_one('.book_writer').get_text()\n",
    "        itemName = li.select_one('.book_tit').get_text()\n",
    "\n",
    "        Mileage=sub_soup.select_one('.store_payment_area>fieldset>label>p:nth-child(3)>span:nth-child(2)').get_text().split('점')[0]\n",
    "        Mileage = re.sub('[^0-9]','',Mileage)\n",
    "        Mileage=int(Mileage)\n",
    "        sale=sub_soup.select_one('.store_payment_area>fieldset>label>p:nth-child(2)>span:nth-child(2)>strong').get_text()\n",
    "        sale = re.sub('[^0-9]','',sale)\n",
    "        sale = int(sale)\n",
    "        price=sub_soup.select_one('.store_payment_area>fieldset>label>p:nth-child(1)').get_text()\n",
    "        price = re.sub('[^0-9]','',price)\n",
    "        price = int(price)\n",
    "        jpage=sub_soup.select_one('.info_list').get_text().split('쪽')[0][-5:]\n",
    "        jpage = re.sub('[^0-9]','',jpage)\n",
    "        jpage = int(jpage)\n",
    "        date = sub_soup.select_one('.info_list').get_text().split('출간')[1][:15]\n",
    "        date = re.sub('[^0-9]','',date)\n",
    "        date = int(date)\n",
    "        date\n",
    "        if len(sub_soup.select_one('.info_list'))==13:\n",
    "            translator = sub_soup.select_one('.info_list>li:nth-child(2)').get_text().split(':')[1]\n",
    "            translator = re.sub('[0-9]','',translator)\n",
    "            pass\n",
    "        else:\n",
    "            translator ='--'\n",
    "            pass\n",
    "        lines.append([itemName,writer,translator,date,jpage,price,sale,Mileage])\n",
    "\n",
    "#driver.close()"
   ]
  },
  {
   "cell_type": "code",
   "execution_count": 22,
   "metadata": {},
   "outputs": [],
   "source": [
    "df = pd.DataFrame(lines, columns=['제목', '저자', '역자', '출간일', '페이지', '정가', '판가','마일리지'])"
   ]
  },
  {
   "cell_type": "code",
   "execution_count": 23,
   "metadata": {},
   "outputs": [
    {
     "data": {
      "text/html": [
       "<div>\n",
       "<style scoped>\n",
       "    .dataframe tbody tr th:only-of-type {\n",
       "        vertical-align: middle;\n",
       "    }\n",
       "\n",
       "    .dataframe tbody tr th {\n",
       "        vertical-align: top;\n",
       "    }\n",
       "\n",
       "    .dataframe thead th {\n",
       "        text-align: right;\n",
       "    }\n",
       "</style>\n",
       "<table border=\"1\" class=\"dataframe\">\n",
       "  <thead>\n",
       "    <tr style=\"text-align: right;\">\n",
       "      <th></th>\n",
       "      <th>제목</th>\n",
       "      <th>저자</th>\n",
       "      <th>역자</th>\n",
       "      <th>출간일</th>\n",
       "      <th>페이지</th>\n",
       "      <th>정가</th>\n",
       "      <th>판가</th>\n",
       "      <th>마일리지</th>\n",
       "    </tr>\n",
       "  </thead>\n",
       "  <tbody>\n",
       "    <tr>\n",
       "      <th>195</th>\n",
       "      <td>나도 영문 손글씨 잘 쓰면 소원이 없겠네</td>\n",
       "      <td>윤정희(리제 캘리그라피)</td>\n",
       "      <td>--</td>\n",
       "      <td>20211105</td>\n",
       "      <td>240</td>\n",
       "      <td>16800</td>\n",
       "      <td>15120</td>\n",
       "      <td>840</td>\n",
       "    </tr>\n",
       "    <tr>\n",
       "      <th>196</th>\n",
       "      <td>구글 BERT의 정석</td>\n",
       "      <td>수다르산 라비찬디란</td>\n",
       "      <td>전희원 , 정승환 , 김형준</td>\n",
       "      <td>20211103</td>\n",
       "      <td>368</td>\n",
       "      <td>34000</td>\n",
       "      <td>30600</td>\n",
       "      <td>1700</td>\n",
       "    </tr>\n",
       "    <tr>\n",
       "      <th>197</th>\n",
       "      <td>1000개 숨은그림찾기 몬스터 : 찾아도 찾아도 끝판왕</td>\n",
       "      <td>김확실</td>\n",
       "      <td>--</td>\n",
       "      <td>20211102</td>\n",
       "      <td>96</td>\n",
       "      <td>8000</td>\n",
       "      <td>7200</td>\n",
       "      <td>400</td>\n",
       "    </tr>\n",
       "    <tr>\n",
       "      <th>198</th>\n",
       "      <td>1000개 숨은그림찾기 보물찾기 : 찾아도 찾아도 끝판왕</td>\n",
       "      <td>전진희</td>\n",
       "      <td>--</td>\n",
       "      <td>20211102</td>\n",
       "      <td>96</td>\n",
       "      <td>8000</td>\n",
       "      <td>7200</td>\n",
       "      <td>400</td>\n",
       "    </tr>\n",
       "    <tr>\n",
       "      <th>199</th>\n",
       "      <td>1000개 숨은그림찾기 탈것 : 찾아도 찾아도 끝판왕</td>\n",
       "      <td>이한이</td>\n",
       "      <td>--</td>\n",
       "      <td>20211102</td>\n",
       "      <td>96</td>\n",
       "      <td>8000</td>\n",
       "      <td>7200</td>\n",
       "      <td>400</td>\n",
       "    </tr>\n",
       "  </tbody>\n",
       "</table>\n",
       "</div>"
      ],
      "text/plain": [
       "                                  제목              저자                 역자  \\\n",
       "195           나도 영문 손글씨 잘 쓰면 소원이 없겠네  윤정희(리제 캘리그라피)                  --   \n",
       "196                      구글 BERT의 정석     수다르산 라비찬디란    전희원 , 정승환 , 김형준    \n",
       "197   1000개 숨은그림찾기 몬스터 : 찾아도 찾아도 끝판왕            김확실                  --   \n",
       "198  1000개 숨은그림찾기 보물찾기 : 찾아도 찾아도 끝판왕            전진희                  --   \n",
       "199    1000개 숨은그림찾기 탈것 : 찾아도 찾아도 끝판왕            이한이                  --   \n",
       "\n",
       "          출간일  페이지     정가     판가  마일리지  \n",
       "195  20211105  240  16800  15120   840  \n",
       "196  20211103  368  34000  30600  1700  \n",
       "197  20211102   96   8000   7200   400  \n",
       "198  20211102   96   8000   7200   400  \n",
       "199  20211102   96   8000   7200   400  "
      ]
     },
     "execution_count": 23,
     "metadata": {},
     "output_type": "execute_result"
    }
   ],
   "source": [
    "df.tail(5)"
   ]
  },
  {
   "cell_type": "code",
   "execution_count": 334,
   "metadata": {},
   "outputs": [],
   "source": [
    "df.to_csv('한빛도서과제.csv', index=False)"
   ]
  },
  {
   "cell_type": "code",
   "execution_count": 18,
   "metadata": {},
   "outputs": [],
   "source": [
    "from tqdm.notebook import tqdm \n",
    "#시간이 오래 걸리는 작업시 진척도 보여줌"
   ]
  },
  {
   "cell_type": "code",
   "execution_count": 20,
   "metadata": {},
   "outputs": [
    {
     "data": {
      "text/plain": [
       "\" #강사님 .딕셔너리 사용.\\ndef convert_unit(s):\\n    return int(s.replace(',','').replace('원','').replace('점',''))\\n    \\nlines = []\\nfor page in tqdm(range(1,11)):\\n    url = f'{base_url}{sub_url}?page={page}'\\n    res = requests.get(url)\\n    soup = BeautifulSoup(res.text, 'html.parser')\\n    lis = soup.select('.sub_book_list')\\n    \\n    for li in lis:\\n        book_url = li.find('a')['href']\\n        res = requests.get(base_url + book_url)\\n        book_soup = BeautifulSoup(res.text, 'html.parser')\\n\\n        info = book_soup.select_one('.store_product_info_box')\\n        title = info.find('h3').string\\n        book_lis = info.select('.info_list > li')\\n        book_dict = {}\\n        for li in book_lis:\\n            items = li.get_text().split(':')\\n            book_dict[items[0].strip()] = items[1].strip()\\n        author = book_dict['저자']\\n        translator = book_dict['번역'] if '번역' in book_dict.keys() else '-' \\n        date = book_dict['출간']\\n        page = book_dict['페이지'].split()[0]\\n        \\n        payments = book_soup.select_one('.payment_box.curr').find_all('p')\\n        price = payments[0].select_one('.pbr').get_text().strip()\\n        sales = payments[1].select_one('.pbr').get_text().split('(')[0]\\n        mileage = payments[2].select_one('.pbr').get_text().split()[0]\\n\\n        lines.append([title,author,translator,date,int(page),\\n                      convert_unit(price),convert_unit(sales),convert_unit(mileage)])\\n\""
      ]
     },
     "execution_count": 20,
     "metadata": {},
     "output_type": "execute_result"
    }
   ],
   "source": [
    "\"\"\" #강사님 .딕셔너리 사용.\n",
    "def convert_unit(s):\n",
    "    return int(s.replace(',','').replace('원','').replace('점',''))\n",
    "    \n",
    "lines = []\n",
    "for page in tqdm(range(1,11)):\n",
    "    url = f'{base_url}{sub_url}?page={page}'\n",
    "    res = requests.get(url)\n",
    "    soup = BeautifulSoup(res.text, 'html.parser')\n",
    "    lis = soup.select('.sub_book_list')\n",
    "    \n",
    "    for li in lis:\n",
    "        book_url = li.find('a')['href']\n",
    "        res = requests.get(base_url + book_url)\n",
    "        book_soup = BeautifulSoup(res.text, 'html.parser')\n",
    "\n",
    "        info = book_soup.select_one('.store_product_info_box')\n",
    "        title = info.find('h3').string\n",
    "        book_lis = info.select('.info_list > li')\n",
    "        book_dict = {}\n",
    "        for li in book_lis:\n",
    "            items = li.get_text().split(':')\n",
    "            book_dict[items[0].strip()] = items[1].strip()\n",
    "        author = book_dict['저자']\n",
    "        translator = book_dict['번역'] if '번역' in book_dict.keys() else '-' \n",
    "        date = book_dict['출간']\n",
    "        page = book_dict['페이지'].split()[0]\n",
    "        \n",
    "        payments = book_soup.select_one('.payment_box.curr').find_all('p')\n",
    "        price = payments[0].select_one('.pbr').get_text().strip()\n",
    "        sales = payments[1].select_one('.pbr').get_text().split('(')[0]\n",
    "        mileage = payments[2].select_one('.pbr').get_text().split()[0]\n",
    "\n",
    "        lines.append([title,author,translator,date,int(page),\n",
    "                      convert_unit(price),convert_unit(sales),convert_unit(mileage)])\n",
    "\"\"\""
   ]
  },
  {
   "cell_type": "code",
   "execution_count": null,
   "metadata": {},
   "outputs": [],
   "source": []
  }
 ],
 "metadata": {
  "interpreter": {
   "hash": "60e7f993bd80280a292cf727bcf540b52dc52f658ffaee01a928daf77ed7d70f"
  },
  "kernelspec": {
   "display_name": "Python 3.8.8 64-bit ('base': conda)",
   "language": "python",
   "name": "python3"
  },
  "language_info": {
   "codemirror_mode": {
    "name": "ipython",
    "version": 3
   },
   "file_extension": ".py",
   "mimetype": "text/x-python",
   "name": "python",
   "nbconvert_exporter": "python",
   "pygments_lexer": "ipython3",
   "version": "3.8.8"
  },
  "orig_nbformat": 4
 },
 "nbformat": 4,
 "nbformat_minor": 2
}
