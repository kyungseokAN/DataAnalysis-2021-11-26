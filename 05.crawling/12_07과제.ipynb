{
 "cells": [
  {
   "cell_type": "code",
   "execution_count": 155,
   "metadata": {},
   "outputs": [],
   "source": [
    "import requests\n",
    "from selenium import webdriver\n",
    "from bs4 import BeautifulSoup\n",
    "import time\n",
    "import pandas as pd\n",
    "import parser\n",
    "import re"
   ]
  },
  {
   "cell_type": "code",
   "execution_count": 235,
   "metadata": {},
   "outputs": [],
   "source": [
    "site = 'https://www.hanbit.co.kr'\n",
    "url = 'https://www.hanbit.co.kr/store/books/new_book_list.html'\n",
    "driver = webdriver.Chrome('chromedriver.exe')\n",
    "driver.get(url)\n",
    "req = requests.get(url)\n",
    "html = req.text\n",
    "time.sleep(2)"
   ]
  },
  {
   "cell_type": "code",
   "execution_count": 236,
   "metadata": {},
   "outputs": [
    {
     "data": {
      "text/plain": [
       "20"
      ]
     },
     "execution_count": 236,
     "metadata": {},
     "output_type": "execute_result"
    }
   ],
   "source": [
    "lis = soup.select('.new_book_list_wrap>div>li')\n",
    "len(lis)"
   ]
  },
  {
   "cell_type": "code",
   "execution_count": 237,
   "metadata": {},
   "outputs": [
    {
     "data": {
      "text/plain": [
       "'/store/books/look.php?p_code=B6694310162'"
      ]
     },
     "execution_count": 237,
     "metadata": {},
     "output_type": "execute_result"
    }
   ],
   "source": [
    "href = li.find('a')['href']\n",
    "href"
   ]
  },
  {
   "cell_type": "code",
   "execution_count": 238,
   "metadata": {},
   "outputs": [
    {
     "data": {
      "text/plain": [
       "'https://www.hanbit.co.kr/store/books/look.php?p_code=B6694310162'"
      ]
     },
     "execution_count": 238,
     "metadata": {},
     "output_type": "execute_result"
    }
   ],
   "source": [
    "sub_url = site+href\n",
    "sub_url"
   ]
  },
  {
   "cell_type": "code",
   "execution_count": 239,
   "metadata": {},
   "outputs": [],
   "source": [
    "sub_req = requests.get(sub_url)\n",
    "sub_html = sub_req.text\n",
    "sub_soup = BeautifulSoup(sub_html,'html.parser')"
   ]
  },
  {
   "cell_type": "code",
   "execution_count": 240,
   "metadata": {},
   "outputs": [
    {
     "data": {
      "text/plain": [
       "20"
      ]
     },
     "execution_count": 240,
     "metadata": {},
     "output_type": "execute_result"
    }
   ],
   "source": [
    "lis = soup.select('.new_book_list_wrap>div>li')\n",
    "len(lis)"
   ]
  },
  {
   "cell_type": "code",
   "execution_count": 241,
   "metadata": {},
   "outputs": [],
   "source": [
    "li = lis[0]"
   ]
  },
  {
   "cell_type": "code",
   "execution_count": 242,
   "metadata": {},
   "outputs": [
    {
     "data": {
      "text/plain": [
       "'/store/books/look.php?p_code=B6694310162'"
      ]
     },
     "execution_count": 242,
     "metadata": {},
     "output_type": "execute_result"
    }
   ],
   "source": [
    "href = li.find('a')['href']\n",
    "href"
   ]
  },
  {
   "cell_type": "code",
   "execution_count": 243,
   "metadata": {},
   "outputs": [
    {
     "data": {
      "text/plain": [
       "'https://www.hanbit.co.kr/store/books/look.php?p_code=B6694310162'"
      ]
     },
     "execution_count": 243,
     "metadata": {},
     "output_type": "execute_result"
    }
   ],
   "source": [
    "sub_url = site+href\n",
    "sub_url"
   ]
  },
  {
   "cell_type": "code",
   "execution_count": 244,
   "metadata": {},
   "outputs": [
    {
     "data": {
      "text/plain": [
       "'하루 한 장 초등과학 365'"
      ]
     },
     "execution_count": 244,
     "metadata": {},
     "output_type": "execute_result"
    }
   ],
   "source": [
    "itemName = li.select_one('.book_tit').get_text()\n",
    "itemName"
   ]
  },
  {
   "cell_type": "code",
   "execution_count": 245,
   "metadata": {},
   "outputs": [
    {
     "data": {
      "text/plain": [
       "'치바 가즈요시 '"
      ]
     },
     "execution_count": 245,
     "metadata": {},
     "output_type": "execute_result"
    }
   ],
   "source": [
    "writer = li.select_one('.book_writer').get_text()\n",
    "writer"
   ]
  },
  {
   "cell_type": "code",
   "execution_count": 246,
   "metadata": {},
   "outputs": [
    {
     "data": {
      "text/plain": [
       "' 허영은 , 유우종 (감수) '"
      ]
     },
     "execution_count": 246,
     "metadata": {},
     "output_type": "execute_result"
    }
   ],
   "source": [
    "#역자\n",
    "translator = sub_soup.select_one('.info_list>li:nth-child(2)').get_text().split(':')[1]\n",
    "translator"
   ]
  },
  {
   "cell_type": "code",
   "execution_count": 277,
   "metadata": {},
   "outputs": [
    {
     "data": {
      "text/plain": [
       "True"
      ]
     },
     "execution_count": 277,
     "metadata": {},
     "output_type": "execute_result"
    }
   ],
   "source": [
    "translator = sub_soup.select_one('.info_list')\n",
    "len(translator)==13"
   ]
  },
  {
   "cell_type": "code",
   "execution_count": 123,
   "metadata": {},
   "outputs": [],
   "source": [
    "soup = BeautifulSoup(driver.page_source,'html.parser')\n"
   ]
  },
  {
   "cell_type": "code",
   "execution_count": 307,
   "metadata": {},
   "outputs": [
    {
     "data": {
      "text/plain": [
       "20211102"
      ]
     },
     "execution_count": 307,
     "metadata": {},
     "output_type": "execute_result"
    }
   ],
   "source": [
    "#출간일\n",
    "date = sub_soup.select_one('.info_list').get_text().split('출간')[1][:15]\n",
    "date = re.sub('[^0-9]','',date)\n",
    "date = int(date)\n",
    "date"
   ]
  },
  {
   "cell_type": "code",
   "execution_count": 324,
   "metadata": {},
   "outputs": [
    {
     "data": {
      "text/plain": [
       "96"
      ]
     },
     "execution_count": 324,
     "metadata": {},
     "output_type": "execute_result"
    }
   ],
   "source": [
    "#페이지\n",
    "jpage=sub_soup.select_one('.info_list').get_text().split('쪽')[0][-5:]\n",
    "jpage = re.sub('[^0-9]','',jpage)\n",
    "jpage = int(jpage)\n",
    "jpage"
   ]
  },
  {
   "cell_type": "code",
   "execution_count": 180,
   "metadata": {},
   "outputs": [
    {
     "data": {
      "text/plain": [
       "19800"
      ]
     },
     "execution_count": 180,
     "metadata": {},
     "output_type": "execute_result"
    }
   ],
   "source": [
    "#정가\n",
    "price=sub_soup.select_one('.store_payment_area>fieldset>label>p:nth-child(1)').get_text()\n",
    "price = re.sub('[^0-9]','',price)\n",
    "price = int(price)\n",
    "price"
   ]
  },
  {
   "cell_type": "code",
   "execution_count": 191,
   "metadata": {},
   "outputs": [
    {
     "data": {
      "text/plain": [
       "17820"
      ]
     },
     "execution_count": 191,
     "metadata": {},
     "output_type": "execute_result"
    }
   ],
   "source": [
    "#할인가\n",
    "sale=sub_soup.select_one('.store_payment_area>fieldset>label>p:nth-child(2)>span:nth-child(2)>strong').get_text()\n",
    "sale = re.sub('[^0-9]','',sale)\n",
    "sale = int(sale)\n",
    "sale"
   ]
  },
  {
   "cell_type": "code",
   "execution_count": 201,
   "metadata": {},
   "outputs": [
    {
     "data": {
      "text/plain": [
       "990"
      ]
     },
     "execution_count": 201,
     "metadata": {},
     "output_type": "execute_result"
    }
   ],
   "source": [
    "#마일리지\n",
    "Mileage=sub_soup.select_one('.store_payment_area>fieldset>label>p:nth-child(3)>span:nth-child(2)').get_text().split('점')[0]\n",
    "Mileage = int(Mileage)\n",
    "Mileage"
   ]
  },
  {
   "cell_type": "code",
   "execution_count": 331,
   "metadata": {},
   "outputs": [],
   "source": [
    "lines=[]\n",
    "\n",
    "site = 'https://www.hanbit.co.kr'\n",
    "url = 'https://www.hanbit.co.kr/store/books/new_book_list.html'\n",
    "driver = webdriver.Chrome('chromedriver.exe')\n",
    "driver.get(url)\n",
    "req = requests.get(url)\n",
    "html = req.text\n",
    "time.sleep(1)\n",
    "for page in range(1,11):\n",
    "    url = 'https://www.hanbit.co.kr/store/books/new_book_list.html?page='+str(page)+'&brand=&cate1=&cate2=&searchKey=&keyWord='\n",
    "    driver.get(url)\n",
    "    time.sleep(1)\n",
    "    soup = BeautifulSoup(driver.page_source, 'html.parser')\n",
    "    lis = soup.select('.new_book_list_wrap>div>li')\n",
    "\n",
    "    for li in lis:\n",
    "        href = li.find('a')['href']\n",
    "        sub_url = site+href\n",
    "        sub_req = requests.get(sub_url)\n",
    "        sub_html = sub_req.text\n",
    "        sub_soup = BeautifulSoup(sub_html,'html.parser')\n",
    "        \n",
    "        writer = li.select_one('.book_writer').get_text()\n",
    "        itemName = li.select_one('.book_tit').get_text()\n",
    "\n",
    "        Mileage=sub_soup.select_one('.store_payment_area>fieldset>label>p:nth-child(3)>span:nth-child(2)').get_text().split('점')[0]\n",
    "        Mileage = re.sub('[^0-9]','',Mileage)\n",
    "        Mileage=int(Mileage)\n",
    "        sale=sub_soup.select_one('.store_payment_area>fieldset>label>p:nth-child(2)>span:nth-child(2)>strong').get_text()\n",
    "        sale = re.sub('[^0-9]','',sale)\n",
    "        sale = int(sale)\n",
    "        price=sub_soup.select_one('.store_payment_area>fieldset>label>p:nth-child(1)').get_text()\n",
    "        price = re.sub('[^0-9]','',price)\n",
    "        price = int(price)\n",
    "        jpage=sub_soup.select_one('.info_list').get_text().split('쪽')[0][-5:]\n",
    "        jpage = re.sub('[^0-9]','',jpage)\n",
    "        jpage = int(jpage)\n",
    "        date = sub_soup.select_one('.info_list').get_text().split('출간')[1][:15]\n",
    "        date = re.sub('[^0-9]','',date)\n",
    "        date = int(date)\n",
    "        date\n",
    "        if len(sub_soup.select_one('.info_list'))==13:\n",
    "            translator = sub_soup.select_one('.info_list>li:nth-child(2)').get_text().split(':')[1]\n",
    "            translator = re.sub('[0-9]','',translator)\n",
    "            pass\n",
    "        else:\n",
    "            translator ='--'\n",
    "            pass\n",
    "        lines.append([itemName,writer,translator,date,jpage,price,sale,Mileage])\n",
    "\n",
    "driver.close()"
   ]
  },
  {
   "cell_type": "code",
   "execution_count": 332,
   "metadata": {},
   "outputs": [],
   "source": [
    "df = pd.DataFrame(lines, columns=['제목', '저자', '역자', '출간일', '페이지', '정가', '판가','마일리지'])"
   ]
  },
  {
   "cell_type": "code",
   "execution_count": 335,
   "metadata": {},
   "outputs": [
    {
     "data": {
      "text/html": [
       "<div>\n",
       "<style scoped>\n",
       "    .dataframe tbody tr th:only-of-type {\n",
       "        vertical-align: middle;\n",
       "    }\n",
       "\n",
       "    .dataframe tbody tr th {\n",
       "        vertical-align: top;\n",
       "    }\n",
       "\n",
       "    .dataframe thead th {\n",
       "        text-align: right;\n",
       "    }\n",
       "</style>\n",
       "<table border=\"1\" class=\"dataframe\">\n",
       "  <thead>\n",
       "    <tr style=\"text-align: right;\">\n",
       "      <th></th>\n",
       "      <th>제목</th>\n",
       "      <th>저자</th>\n",
       "      <th>역자</th>\n",
       "      <th>출간일</th>\n",
       "      <th>페이지</th>\n",
       "      <th>정가</th>\n",
       "      <th>판가</th>\n",
       "      <th>마일리지</th>\n",
       "    </tr>\n",
       "  </thead>\n",
       "  <tbody>\n",
       "    <tr>\n",
       "      <th>195</th>\n",
       "      <td>IT CookBook, C 언어 일취월장(2판)</td>\n",
       "      <td>신윤환</td>\n",
       "      <td>--</td>\n",
       "      <td>20210224</td>\n",
       "      <td>800</td>\n",
       "      <td>28000</td>\n",
       "      <td>28000</td>\n",
       "      <td>840</td>\n",
       "    </tr>\n",
       "    <tr>\n",
       "      <th>196</th>\n",
       "      <td>소비자행동</td>\n",
       "      <td>김학윤</td>\n",
       "      <td>--</td>\n",
       "      <td>20210223</td>\n",
       "      <td>660</td>\n",
       "      <td>35000</td>\n",
       "      <td>35000</td>\n",
       "      <td>1050</td>\n",
       "    </tr>\n",
       "    <tr>\n",
       "      <th>197</th>\n",
       "      <td>재미있고 빠른 어휘력 동화 – 두근두근 이 마음은 뭘까</td>\n",
       "      <td>김세실 , 김도윤(그림)</td>\n",
       "      <td>--</td>\n",
       "      <td>20210220</td>\n",
       "      <td>104</td>\n",
       "      <td>12000</td>\n",
       "      <td>10800</td>\n",
       "      <td>600</td>\n",
       "    </tr>\n",
       "    <tr>\n",
       "      <th>198</th>\n",
       "      <td>재미있고 빠른 어휘력 동화 – 키득키득 재밌는 의성어 의태어</td>\n",
       "      <td>김예실 , 김희선(그림)</td>\n",
       "      <td>--</td>\n",
       "      <td>20210220</td>\n",
       "      <td>104</td>\n",
       "      <td>12000</td>\n",
       "      <td>10800</td>\n",
       "      <td>600</td>\n",
       "    </tr>\n",
       "    <tr>\n",
       "      <th>199</th>\n",
       "      <td>웹 애플리케이션 보안</td>\n",
       "      <td>앤드루 호프먼</td>\n",
       "      <td>최용</td>\n",
       "      <td>20210219</td>\n",
       "      <td>372</td>\n",
       "      <td>30000</td>\n",
       "      <td>27000</td>\n",
       "      <td>1500</td>\n",
       "    </tr>\n",
       "  </tbody>\n",
       "</table>\n",
       "</div>"
      ],
      "text/plain": [
       "                                    제목              저자    역자       출간일  페이지  \\\n",
       "195         IT CookBook, C 언어 일취월장(2판)            신윤환     --  20210224  800   \n",
       "196                              소비자행동            김학윤     --  20210223  660   \n",
       "197     재미있고 빠른 어휘력 동화 – 두근두근 이 마음은 뭘까  김세실 , 김도윤(그림)     --  20210220  104   \n",
       "198  재미있고 빠른 어휘력 동화 – 키득키득 재밌는 의성어 의태어  김예실 , 김희선(그림)     --  20210220  104   \n",
       "199                        웹 애플리케이션 보안        앤드루 호프먼    최용   20210219  372   \n",
       "\n",
       "        정가     판가  마일리지  \n",
       "195  28000  28000   840  \n",
       "196  35000  35000  1050  \n",
       "197  12000  10800   600  \n",
       "198  12000  10800   600  \n",
       "199  30000  27000  1500  "
      ]
     },
     "execution_count": 335,
     "metadata": {},
     "output_type": "execute_result"
    }
   ],
   "source": [
    "df.tail(5)"
   ]
  },
  {
   "cell_type": "code",
   "execution_count": 334,
   "metadata": {},
   "outputs": [],
   "source": [
    "df.to_csv('한빛도서과제.csv', index=False)"
   ]
  },
  {
   "cell_type": "code",
   "execution_count": null,
   "metadata": {},
   "outputs": [],
   "source": []
  }
 ],
 "metadata": {
  "interpreter": {
   "hash": "60e7f993bd80280a292cf727bcf540b52dc52f658ffaee01a928daf77ed7d70f"
  },
  "kernelspec": {
   "display_name": "Python 3.8.8 64-bit ('base': conda)",
   "language": "python",
   "name": "python3"
  },
  "language_info": {
   "codemirror_mode": {
    "name": "ipython",
    "version": 3
   },
   "file_extension": ".py",
   "mimetype": "text/x-python",
   "name": "python",
   "nbconvert_exporter": "python",
   "pygments_lexer": "ipython3",
   "version": "3.8.8"
  },
  "orig_nbformat": 4
 },
 "nbformat": 4,
 "nbformat_minor": 2
}
