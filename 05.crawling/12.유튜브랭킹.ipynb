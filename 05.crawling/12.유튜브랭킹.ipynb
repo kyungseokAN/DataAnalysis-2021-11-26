{
 "cells": [
  {
   "cell_type": "markdown",
   "metadata": {},
   "source": [
    "# YouYube Ranking"
   ]
  },
  {
   "cell_type": "code",
   "execution_count": 1,
   "metadata": {},
   "outputs": [],
   "source": [
    "from selenium import webdriver\n",
    "from bs4 import BeautifulSoup\n",
    "import time\n",
    "import pandas as pd\n"
   ]
  },
  {
   "cell_type": "code",
   "execution_count": 2,
   "metadata": {},
   "outputs": [],
   "source": [
    "url = 'https://youtube-rank.com/board/bbs/board.php?bo_table=youtube'\n",
    "driver = webdriver.Chrome('chromedriver.exe')\n",
    "driver.get(url)\n",
    "time.sleep(2)"
   ]
  },
  {
   "cell_type": "code",
   "execution_count": 3,
   "metadata": {},
   "outputs": [
    {
     "data": {
      "text/plain": [
       "100"
      ]
     },
     "execution_count": 3,
     "metadata": {},
     "output_type": "execute_result"
    }
   ],
   "source": [
    "soup = BeautifulSoup(driver.page_source,'html.parser')\n",
    "channel_list=soup.select('.aos-init')\n",
    "len(channel_list)"
   ]
  },
  {
   "cell_type": "code",
   "execution_count": 4,
   "metadata": {},
   "outputs": [],
   "source": [
    "channel = channel_list[0]"
   ]
  },
  {
   "cell_type": "code",
   "execution_count": 5,
   "metadata": {},
   "outputs": [
    {
     "data": {
      "text/plain": [
       "1"
      ]
     },
     "execution_count": 5,
     "metadata": {},
     "output_type": "execute_result"
    }
   ],
   "source": [
    "\n",
    "rank = int(channel.select_one('.rank').get_text().strip())\n",
    "\n",
    "rank\n",
    "\n"
   ]
  },
  {
   "cell_type": "code",
   "execution_count": 6,
   "metadata": {},
   "outputs": [
    {
     "data": {
      "text/plain": [
       "'음악/댄스/가수'"
      ]
     },
     "execution_count": 6,
     "metadata": {},
     "output_type": "execute_result"
    }
   ],
   "source": [
    "category = channel.select_one('p.category').get_text().strip()\n",
    "category[1:-1]"
   ]
  },
  {
   "cell_type": "code",
   "execution_count": 7,
   "metadata": {},
   "outputs": [
    {
     "data": {
      "text/plain": [
       "'BLACKPINK'"
      ]
     },
     "execution_count": 7,
     "metadata": {},
     "output_type": "execute_result"
    }
   ],
   "source": [
    "name = channel.select_one('.subject a').get_text().strip()\n",
    "name"
   ]
  },
  {
   "cell_type": "code",
   "execution_count": 8,
   "metadata": {},
   "outputs": [],
   "source": [
    "subscriber = channel.select_one('.subscriber_cnt').get_text().strip()\n",
    "view= channel.select_one('.view_cnt').get_text().strip()\n",
    "video= channel.select_one('.video_cnt').get_text().strip()\n",
    "\n"
   ]
  },
  {
   "cell_type": "code",
   "execution_count": 9,
   "metadata": {},
   "outputs": [
    {
     "data": {
      "text/plain": [
       "('7020만', '214억5709만', '395개')"
      ]
     },
     "execution_count": 9,
     "metadata": {},
     "output_type": "execute_result"
    }
   ],
   "source": [
    "subscriber,view,video"
   ]
  },
  {
   "cell_type": "markdown",
   "metadata": {},
   "source": [
    "- 반복문으로 페이지 내에 있는 데이터 수집하기"
   ]
  },
  {
   "cell_type": "code",
   "execution_count": 10,
   "metadata": {},
   "outputs": [],
   "source": [
    "lines = []\n",
    "for channel in channel_list:\n",
    "    rank = int(channel.select_one('.rank').get_text().strip())\n",
    "    category = channel.select_one('p.category').get_text().strip()\n",
    "    name = channel.select_one('.subject a').get_text().strip()\n",
    "    subscriber = channel.select_one('.subscriber_cnt').get_text().strip()\n",
    "    view= channel.select_one('.view_cnt').get_text().strip()\n",
    "    video= channel.select_one('.video_cnt').get_text().strip()\n",
    "    \n",
    "    lines.append([rank, category[1:-1],name,subscriber,view,video])\n",
    "\n"
   ]
  },
  {
   "cell_type": "code",
   "execution_count": 11,
   "metadata": {},
   "outputs": [
    {
     "data": {
      "text/html": [
       "<div>\n",
       "<style scoped>\n",
       "    .dataframe tbody tr th:only-of-type {\n",
       "        vertical-align: middle;\n",
       "    }\n",
       "\n",
       "    .dataframe tbody tr th {\n",
       "        vertical-align: top;\n",
       "    }\n",
       "\n",
       "    .dataframe thead th {\n",
       "        text-align: right;\n",
       "    }\n",
       "</style>\n",
       "<table border=\"1\" class=\"dataframe\">\n",
       "  <thead>\n",
       "    <tr style=\"text-align: right;\">\n",
       "      <th></th>\n",
       "      <th>순위</th>\n",
       "      <th>카테고리</th>\n",
       "      <th>채널명</th>\n",
       "      <th>구독자수</th>\n",
       "      <th>조회수</th>\n",
       "      <th>비디오수</th>\n",
       "    </tr>\n",
       "  </thead>\n",
       "  <tbody>\n",
       "    <tr>\n",
       "      <th>0</th>\n",
       "      <td>1</td>\n",
       "      <td>음악/댄스/가수</td>\n",
       "      <td>BLACKPINK</td>\n",
       "      <td>7020만</td>\n",
       "      <td>214억5709만</td>\n",
       "      <td>395개</td>\n",
       "    </tr>\n",
       "    <tr>\n",
       "      <th>1</th>\n",
       "      <td>2</td>\n",
       "      <td>음악/댄스/가수</td>\n",
       "      <td>HYBE LABELS</td>\n",
       "      <td>6300만</td>\n",
       "      <td>204억9684만</td>\n",
       "      <td>725개</td>\n",
       "    </tr>\n",
       "    <tr>\n",
       "      <th>2</th>\n",
       "      <td>3</td>\n",
       "      <td>음악/댄스/가수</td>\n",
       "      <td>BANGTANTV</td>\n",
       "      <td>6150만</td>\n",
       "      <td>140억7794만</td>\n",
       "      <td>1,646개</td>\n",
       "    </tr>\n",
       "    <tr>\n",
       "      <th>3</th>\n",
       "      <td>4</td>\n",
       "      <td>음악/댄스/가수</td>\n",
       "      <td>SMTOWN</td>\n",
       "      <td>2930만</td>\n",
       "      <td>230억1641만</td>\n",
       "      <td>3,779개</td>\n",
       "    </tr>\n",
       "    <tr>\n",
       "      <th>4</th>\n",
       "      <td>5</td>\n",
       "      <td>키즈/어린이</td>\n",
       "      <td>Boram Tube Vlog [보람튜브 브이로그]</td>\n",
       "      <td>2650만</td>\n",
       "      <td>110억5288만</td>\n",
       "      <td>223개</td>\n",
       "    </tr>\n",
       "    <tr>\n",
       "      <th>...</th>\n",
       "      <td>...</td>\n",
       "      <td>...</td>\n",
       "      <td>...</td>\n",
       "      <td>...</td>\n",
       "      <td>...</td>\n",
       "      <td>...</td>\n",
       "    </tr>\n",
       "    <tr>\n",
       "      <th>95</th>\n",
       "      <td>96</td>\n",
       "      <td>키즈/어린이</td>\n",
       "      <td>로미유 스토리[Romiyu Story]</td>\n",
       "      <td>417만</td>\n",
       "      <td>10억9524만</td>\n",
       "      <td>434개</td>\n",
       "    </tr>\n",
       "    <tr>\n",
       "      <th>96</th>\n",
       "      <td>97</td>\n",
       "      <td>음식/요리/레시피</td>\n",
       "      <td>[Dorothy]도로시</td>\n",
       "      <td>416만</td>\n",
       "      <td>9억9800만</td>\n",
       "      <td>905개</td>\n",
       "    </tr>\n",
       "    <tr>\n",
       "      <th>97</th>\n",
       "      <td>98</td>\n",
       "      <td>취미/라이프</td>\n",
       "      <td>JaeYeol ASMR 재열</td>\n",
       "      <td>398만</td>\n",
       "      <td>10억9606만</td>\n",
       "      <td>1,018개</td>\n",
       "    </tr>\n",
       "    <tr>\n",
       "      <th>98</th>\n",
       "      <td>99</td>\n",
       "      <td>키즈/어린이</td>\n",
       "      <td>CoCosToy 꼬꼬스토이</td>\n",
       "      <td>388만</td>\n",
       "      <td>21억8778만</td>\n",
       "      <td>652개</td>\n",
       "    </tr>\n",
       "    <tr>\n",
       "      <th>99</th>\n",
       "      <td>100</td>\n",
       "      <td>BJ/인물/연예인</td>\n",
       "      <td>허팝Heopop</td>\n",
       "      <td>384만</td>\n",
       "      <td>32억6002만</td>\n",
       "      <td>1,900개</td>\n",
       "    </tr>\n",
       "  </tbody>\n",
       "</table>\n",
       "<p>100 rows × 6 columns</p>\n",
       "</div>"
      ],
      "text/plain": [
       "     순위       카테고리                          채널명   구독자수        조회수    비디오수\n",
       "0     1   음악/댄스/가수                    BLACKPINK  7020만  214억5709만    395개\n",
       "1     2   음악/댄스/가수                  HYBE LABELS  6300만  204억9684만    725개\n",
       "2     3   음악/댄스/가수                    BANGTANTV  6150만  140억7794만  1,646개\n",
       "3     4   음악/댄스/가수                       SMTOWN  2930만  230억1641만  3,779개\n",
       "4     5     키즈/어린이  Boram Tube Vlog [보람튜브 브이로그]  2650만  110억5288만    223개\n",
       "..  ...        ...                          ...    ...        ...     ...\n",
       "95   96     키즈/어린이        로미유 스토리[Romiyu Story]   417만   10억9524만    434개\n",
       "96   97  음식/요리/레시피                 [Dorothy]도로시   416만    9억9800만    905개\n",
       "97   98     취미/라이프              JaeYeol ASMR 재열   398만   10억9606만  1,018개\n",
       "98   99     키즈/어린이               CoCosToy 꼬꼬스토이   388만   21억8778만    652개\n",
       "99  100  BJ/인물/연예인                     허팝Heopop   384만   32억6002만  1,900개\n",
       "\n",
       "[100 rows x 6 columns]"
      ]
     },
     "execution_count": 11,
     "metadata": {},
     "output_type": "execute_result"
    }
   ],
   "source": [
    "df=pd.DataFrame(lines, columns=['순위','카테고리','채널명','구독자수','조회수','비디오수'])\n",
    "df"
   ]
  },
  {
   "cell_type": "markdown",
   "metadata": {},
   "source": [
    "- 숫자로 바꿔주는 함수"
   ]
  },
  {
   "cell_type": "code",
   "execution_count": 12,
   "metadata": {},
   "outputs": [],
   "source": [
    "def convert_unit(s): \n",
    "    s = s.replace('만','0000').replace('억','').replace(',','').replace('개','')\n",
    "    return f'{int(s):,d}'"
   ]
  },
  {
   "cell_type": "code",
   "execution_count": 13,
   "metadata": {},
   "outputs": [
    {
     "data": {
      "text/plain": [
       "'12,352,000,000'"
      ]
     },
     "execution_count": 13,
     "metadata": {},
     "output_type": "execute_result"
    }
   ],
   "source": [
    "convert_unit('123억5200만')"
   ]
  },
  {
   "cell_type": "code",
   "execution_count": 14,
   "metadata": {},
   "outputs": [
    {
     "data": {
      "text/html": [
       "<div>\n",
       "<style scoped>\n",
       "    .dataframe tbody tr th:only-of-type {\n",
       "        vertical-align: middle;\n",
       "    }\n",
       "\n",
       "    .dataframe tbody tr th {\n",
       "        vertical-align: top;\n",
       "    }\n",
       "\n",
       "    .dataframe thead th {\n",
       "        text-align: right;\n",
       "    }\n",
       "</style>\n",
       "<table border=\"1\" class=\"dataframe\">\n",
       "  <thead>\n",
       "    <tr style=\"text-align: right;\">\n",
       "      <th></th>\n",
       "      <th>순위</th>\n",
       "      <th>카테고리</th>\n",
       "      <th>채널명</th>\n",
       "      <th>구독자수</th>\n",
       "      <th>조회수</th>\n",
       "      <th>비디오수</th>\n",
       "    </tr>\n",
       "  </thead>\n",
       "  <tbody>\n",
       "    <tr>\n",
       "      <th>0</th>\n",
       "      <td>1</td>\n",
       "      <td>음악/댄스/가수</td>\n",
       "      <td>BLACKPINK</td>\n",
       "      <td>70,200,000</td>\n",
       "      <td>21,457,090,000</td>\n",
       "      <td>395</td>\n",
       "    </tr>\n",
       "    <tr>\n",
       "      <th>1</th>\n",
       "      <td>2</td>\n",
       "      <td>음악/댄스/가수</td>\n",
       "      <td>HYBE LABELS</td>\n",
       "      <td>63,000,000</td>\n",
       "      <td>20,496,840,000</td>\n",
       "      <td>725</td>\n",
       "    </tr>\n",
       "    <tr>\n",
       "      <th>2</th>\n",
       "      <td>3</td>\n",
       "      <td>음악/댄스/가수</td>\n",
       "      <td>BANGTANTV</td>\n",
       "      <td>61,500,000</td>\n",
       "      <td>14,077,940,000</td>\n",
       "      <td>1,646</td>\n",
       "    </tr>\n",
       "    <tr>\n",
       "      <th>3</th>\n",
       "      <td>4</td>\n",
       "      <td>음악/댄스/가수</td>\n",
       "      <td>SMTOWN</td>\n",
       "      <td>29,300,000</td>\n",
       "      <td>23,016,410,000</td>\n",
       "      <td>3,779</td>\n",
       "    </tr>\n",
       "    <tr>\n",
       "      <th>4</th>\n",
       "      <td>5</td>\n",
       "      <td>키즈/어린이</td>\n",
       "      <td>Boram Tube Vlog [보람튜브 브이로그]</td>\n",
       "      <td>26,500,000</td>\n",
       "      <td>11,052,880,000</td>\n",
       "      <td>223</td>\n",
       "    </tr>\n",
       "  </tbody>\n",
       "</table>\n",
       "</div>"
      ],
      "text/plain": [
       "   순위      카테고리                          채널명        구독자수             조회수  \\\n",
       "0   1  음악/댄스/가수                    BLACKPINK  70,200,000  21,457,090,000   \n",
       "1   2  음악/댄스/가수                  HYBE LABELS  63,000,000  20,496,840,000   \n",
       "2   3  음악/댄스/가수                    BANGTANTV  61,500,000  14,077,940,000   \n",
       "3   4  음악/댄스/가수                       SMTOWN  29,300,000  23,016,410,000   \n",
       "4   5    키즈/어린이  Boram Tube Vlog [보람튜브 브이로그]  26,500,000  11,052,880,000   \n",
       "\n",
       "    비디오수  \n",
       "0    395  \n",
       "1    725  \n",
       "2  1,646  \n",
       "3  3,779  \n",
       "4    223  "
      ]
     },
     "execution_count": 14,
     "metadata": {},
     "output_type": "execute_result"
    }
   ],
   "source": [
    "df['구독자수'] = df.구독자수.apply(convert_unit)\n",
    "df['조회수'] = df.조회수.apply(convert_unit)\n",
    "df['비디오수'] = df.비디오수.apply(convert_unit)\n",
    "df.head()"
   ]
  },
  {
   "cell_type": "markdown",
   "metadata": {},
   "source": [
    "- 두번째 페이지"
   ]
  },
  {
   "cell_type": "code",
   "execution_count": 15,
   "metadata": {},
   "outputs": [],
   "source": [
    "# Xpath로 찾아가기 //*[@id=\"list-skin\"]/nav/span/a[1]\n",
    "driver.find_element_by_xpath('//*[@id=\"list-skin\"]/nav/span/a[1]').click()\n",
    "time.sleep(2)"
   ]
  },
  {
   "cell_type": "code",
   "execution_count": 16,
   "metadata": {},
   "outputs": [
    {
     "data": {
      "text/plain": [
       "100"
      ]
     },
     "execution_count": 16,
     "metadata": {},
     "output_type": "execute_result"
    }
   ],
   "source": [
    "soup = BeautifulSoup(driver.page_source, 'html.parser')\n",
    "channel_list = soup.select('.aos-init')\n",
    "len(channel_list)"
   ]
  },
  {
   "cell_type": "code",
   "execution_count": 17,
   "metadata": {},
   "outputs": [],
   "source": [
    "lines = []\n",
    "for channel in channel_list:\n",
    "    rank = int(channel.select_one('.rank').get_text().strip())\n",
    "    category = channel.select_one('p.category').get_text().strip()\n",
    "    name = channel.select_one('.subject a').get_text().strip()\n",
    "    subscriber = channel.select_one('.subscriber_cnt').get_text().strip()\n",
    "    view = channel.select_one('.view_cnt').get_text().strip()\n",
    "    video = channel.select_one('.video_cnt').get_text().strip()\n",
    "    lines.append([rank,category[1:-1],name,convert_unit(subscriber),\n",
    "                  convert_unit(view),convert_unit(video)])"
   ]
  },
  {
   "cell_type": "code",
   "execution_count": 18,
   "metadata": {},
   "outputs": [
    {
     "data": {
      "text/html": [
       "<div>\n",
       "<style scoped>\n",
       "    .dataframe tbody tr th:only-of-type {\n",
       "        vertical-align: middle;\n",
       "    }\n",
       "\n",
       "    .dataframe tbody tr th {\n",
       "        vertical-align: top;\n",
       "    }\n",
       "\n",
       "    .dataframe thead th {\n",
       "        text-align: right;\n",
       "    }\n",
       "</style>\n",
       "<table border=\"1\" class=\"dataframe\">\n",
       "  <thead>\n",
       "    <tr style=\"text-align: right;\">\n",
       "      <th></th>\n",
       "      <th>순위</th>\n",
       "      <th>카테고리</th>\n",
       "      <th>채널명</th>\n",
       "      <th>구독자수</th>\n",
       "      <th>조회수</th>\n",
       "      <th>비디오수</th>\n",
       "    </tr>\n",
       "  </thead>\n",
       "  <tbody>\n",
       "    <tr>\n",
       "      <th>0</th>\n",
       "      <td>1</td>\n",
       "      <td>음악/댄스/가수</td>\n",
       "      <td>BLACKPINK</td>\n",
       "      <td>70,200,000</td>\n",
       "      <td>21,457,090,000</td>\n",
       "      <td>395</td>\n",
       "    </tr>\n",
       "    <tr>\n",
       "      <th>1</th>\n",
       "      <td>2</td>\n",
       "      <td>음악/댄스/가수</td>\n",
       "      <td>HYBE LABELS</td>\n",
       "      <td>63,000,000</td>\n",
       "      <td>20,496,840,000</td>\n",
       "      <td>725</td>\n",
       "    </tr>\n",
       "    <tr>\n",
       "      <th>2</th>\n",
       "      <td>3</td>\n",
       "      <td>음악/댄스/가수</td>\n",
       "      <td>BANGTANTV</td>\n",
       "      <td>61,500,000</td>\n",
       "      <td>14,077,940,000</td>\n",
       "      <td>1,646</td>\n",
       "    </tr>\n",
       "    <tr>\n",
       "      <th>3</th>\n",
       "      <td>4</td>\n",
       "      <td>음악/댄스/가수</td>\n",
       "      <td>SMTOWN</td>\n",
       "      <td>29,300,000</td>\n",
       "      <td>23,016,410,000</td>\n",
       "      <td>3,779</td>\n",
       "    </tr>\n",
       "    <tr>\n",
       "      <th>4</th>\n",
       "      <td>5</td>\n",
       "      <td>키즈/어린이</td>\n",
       "      <td>Boram Tube Vlog [보람튜브 브이로그]</td>\n",
       "      <td>26,500,000</td>\n",
       "      <td>11,052,880,000</td>\n",
       "      <td>223</td>\n",
       "    </tr>\n",
       "  </tbody>\n",
       "</table>\n",
       "</div>"
      ],
      "text/plain": [
       "   순위      카테고리                          채널명        구독자수             조회수  \\\n",
       "0   1  음악/댄스/가수                    BLACKPINK  70,200,000  21,457,090,000   \n",
       "1   2  음악/댄스/가수                  HYBE LABELS  63,000,000  20,496,840,000   \n",
       "2   3  음악/댄스/가수                    BANGTANTV  61,500,000  14,077,940,000   \n",
       "3   4  음악/댄스/가수                       SMTOWN  29,300,000  23,016,410,000   \n",
       "4   5    키즈/어린이  Boram Tube Vlog [보람튜브 브이로그]  26,500,000  11,052,880,000   \n",
       "\n",
       "    비디오수  \n",
       "0    395  \n",
       "1    725  \n",
       "2  1,646  \n",
       "3  3,779  \n",
       "4    223  "
      ]
     },
     "execution_count": 18,
     "metadata": {},
     "output_type": "execute_result"
    }
   ],
   "source": [
    "df = pd.DataFrame(lines, columns=['순위','카테고리','채널명','구독자수','조회수','비디오수'])\n",
    "df.head()"
   ]
  },
  {
   "cell_type": "code",
   "execution_count": 19,
   "metadata": {},
   "outputs": [],
   "source": [
    "lines = []\n",
    "for page in range(1,11):\n",
    "    url = 'https://youtube-rank.com/board/bbs/board.php?bo_table=youtube&page='+str(page)\n",
    "    driver.get(url)\n",
    "    time.sleep(3)\n",
    "    soup = BeautifulSoup(driver.page_source, 'html.parser')\n",
    "    channel_list = soup.select('.aos-init')\n",
    "\n",
    "    for channel in channel_list:\n",
    "        rank = int(channel.select_one('.rank').get_text().strip())\n",
    "        category = channel.select_one('p.category').get_text().strip()\n",
    "        name = channel.select_one('.subject a').get_text().strip()\n",
    "        subscriber = channel.select_one('.subscriber_cnt').get_text().strip()\n",
    "        view = channel.select_one('.view_cnt').get_text().strip()\n",
    "        video = channel.select_one('.video_cnt').get_text().strip()\n",
    "        lines.append([rank,category[1:-1],name,convert_unit(subscriber),\n",
    "                    convert_unit(view),convert_unit(video)])"
   ]
  },
  {
   "cell_type": "code",
   "execution_count": null,
   "metadata": {},
   "outputs": [],
   "source": [
    "df = pd.DataFrame(lines, columns=['순위','카테고리','채널명','구독자수','조회수','비디오수'])\n",
    "df.head()"
   ]
  },
  {
   "cell_type": "code",
   "execution_count": null,
   "metadata": {},
   "outputs": [],
   "source": [
    "df.to_csv('유튜브랭킹.csv', index=False)"
   ]
  },
  {
   "cell_type": "code",
   "execution_count": null,
   "metadata": {},
   "outputs": [],
   "source": [
    "driver.close()"
   ]
  }
 ],
 "metadata": {
  "interpreter": {
   "hash": "60e7f993bd80280a292cf727bcf540b52dc52f658ffaee01a928daf77ed7d70f"
  },
  "kernelspec": {
   "display_name": "Python 3.8.8 64-bit ('base': conda)",
   "language": "python",
   "name": "python3"
  },
  "language_info": {
   "codemirror_mode": {
    "name": "ipython",
    "version": 3
   },
   "file_extension": ".py",
   "mimetype": "text/x-python",
   "name": "python",
   "nbconvert_exporter": "python",
   "pygments_lexer": "ipython3",
   "version": "3.8.8"
  },
  "orig_nbformat": 4
 },
 "nbformat": 4,
 "nbformat_minor": 2
}
