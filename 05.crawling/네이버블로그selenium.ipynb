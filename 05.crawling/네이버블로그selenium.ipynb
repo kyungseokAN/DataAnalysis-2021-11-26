{
 "cells": [
  {
   "cell_type": "markdown",
   "metadata": {},
   "source": [
    "# 네이버 블로그 크롤링 - 제주맛집"
   ]
  },
  {
   "cell_type": "code",
   "execution_count": 11,
   "metadata": {},
   "outputs": [],
   "source": [
    "from selenium import webdriver\n",
    "\n",
    "import time\n",
    "import pandas as pd\n",
    "from urllib.parse import quote\n",
    "import re"
   ]
  },
  {
   "cell_type": "code",
   "execution_count": 2,
   "metadata": {},
   "outputs": [],
   "source": [
    "url = f'https://search.naver.com/search.naver?where=view&sm=tab_jum&query={quote(\"제주맛집\")}'\n",
    "driver = webdriver.Chrome('chromedriver.exe')\n",
    "driver.get(url)\n",
    "time.sleep(2)"
   ]
  },
  {
   "cell_type": "code",
   "execution_count": 3,
   "metadata": {},
   "outputs": [],
   "source": [
    "from selenium.webdriver.common.keys import Keys\n",
    "\n",
    "body=driver.find_element_by_tag_name('body')\n",
    "for _ in range(30):\n",
    "    body.send_keys(Keys.PAGE_DOWN)\n",
    "    time.sleep(1)"
   ]
  },
  {
   "cell_type": "code",
   "execution_count": 19,
   "metadata": {},
   "outputs": [
    {
     "data": {
      "text/plain": [
       "110"
      ]
     },
     "execution_count": 19,
     "metadata": {},
     "output_type": "execute_result"
    }
   ],
   "source": [
    "\n",
    "lis = driver.find_elements_by_css_selector('.bx._svp_item')\n",
    "len(lis)"
   ]
  },
  {
   "cell_type": "code",
   "execution_count": 25,
   "metadata": {},
   "outputs": [
    {
     "data": {
      "text/plain": [
       "'만족뿐인 제주 맛집 공유'"
      ]
     },
     "execution_count": 25,
     "metadata": {},
     "output_type": "execute_result"
    }
   ],
   "source": [
    "li = lis[0]\n",
    "title = li.find_element_by_css_selector('a.api_txt_lines.total_tit._cross_trigger').text.strip()\n",
    "title"
   ]
  },
  {
   "cell_type": "code",
   "execution_count": 26,
   "metadata": {},
   "outputs": [
    {
     "data": {
      "text/plain": [
       "'2021.11.19.'"
      ]
     },
     "execution_count": 26,
     "metadata": {},
     "output_type": "execute_result"
    }
   ],
   "source": [
    "date = li.find_element_by_css_selector('.sub_time.sub_txt').text.strip()\n",
    "date"
   ]
  },
  {
   "cell_type": "code",
   "execution_count": 27,
   "metadata": {},
   "outputs": [
    {
     "data": {
      "text/plain": [
       "'지난 주말 친구들과 제주여행을 떠났다가 이름알려진 제주 맛집에 갔다왔어요. 전복뚝배기부터 고등어조림,쌈밥 등 풍성한 음식에 아름다운 바다풍경까지 감상할 수 있었던 식당으로 만족스러웠던 곳이랍니다. 1....'"
      ]
     },
     "execution_count": 27,
     "metadata": {},
     "output_type": "execute_result"
    }
   ],
   "source": [
    "desc = li.find_element_by_css_selector('.api_txt_lines.dsc_txt').text.strip()\n",
    "desc"
   ]
  },
  {
   "cell_type": "code",
   "execution_count": 30,
   "metadata": {},
   "outputs": [
    {
     "data": {
      "text/plain": [
       "<selenium.webdriver.remote.webelement.WebElement (session=\"83ae1e605b5fc18c025e30828ccea992\", element=\"f7314499-1e11-4679-a929-dad4ff6f413f\")>"
      ]
     },
     "execution_count": 30,
     "metadata": {},
     "output_type": "execute_result"
    }
   ],
   "source": [
    "href = li.find_element_by_css_selector('a.api_txt_lines.total_tit._cross_trigger').\n",
    "href"
   ]
  },
  {
   "cell_type": "markdown",
   "metadata": {},
   "source": [
    "- 날짜 처리"
   ]
  },
  {
   "cell_type": "code",
   "execution_count": 16,
   "metadata": {},
   "outputs": [
    {
     "data": {
      "text/plain": [
       "datetime.datetime(2021, 12, 8, 11, 55, 41, 879172)"
      ]
     },
     "execution_count": 16,
     "metadata": {},
     "output_type": "execute_result"
    }
   ],
   "source": [
    "from datetime import datetime, timedelta\n",
    "\n",
    "today = datetime.now()          #=datetime.today()\n",
    "today"
   ]
  },
  {
   "cell_type": "code",
   "execution_count": 28,
   "metadata": {},
   "outputs": [
    {
     "data": {
      "text/plain": [
       "(2021, 12, 8)"
      ]
     },
     "execution_count": 28,
     "metadata": {},
     "output_type": "execute_result"
    }
   ],
   "source": [
    "today.year, today.month, today.day"
   ]
  },
  {
   "cell_type": "code",
   "execution_count": 39,
   "metadata": {},
   "outputs": [
    {
     "data": {
      "text/plain": [
       "'2021.12.07'"
      ]
     },
     "execution_count": 39,
     "metadata": {},
     "output_type": "execute_result"
    }
   ],
   "source": [
    "# 어제\n",
    "date = today - timedelta(1)\n",
    "f'{date.year}.{date.month:02d}.{date.day:02d}'"
   ]
  },
  {
   "cell_type": "code",
   "execution_count": 40,
   "metadata": {},
   "outputs": [
    {
     "data": {
      "text/plain": [
       "'2021.12.02'"
      ]
     },
     "execution_count": 40,
     "metadata": {},
     "output_type": "execute_result"
    }
   ],
   "source": [
    "# 6일전\n",
    "date = today - timedelta(6)\n",
    "f'{date.year}.{date.month:02d}.{date.day:02d}'\n"
   ]
  },
  {
   "cell_type": "code",
   "execution_count": 38,
   "metadata": {},
   "outputs": [
    {
     "data": {
      "text/plain": [
       "'2021.12.07'"
      ]
     },
     "execution_count": 38,
     "metadata": {},
     "output_type": "execute_result"
    }
   ],
   "source": [
    "#13시간전\n",
    "date = today - timedelta(hours=13)\n",
    "f'{date.year}.{date.month:02d}.{date.day:02d}'"
   ]
  },
  {
   "cell_type": "code",
   "execution_count": 37,
   "metadata": {},
   "outputs": [
    {
     "data": {
      "text/plain": [
       "'2021.12.08'"
      ]
     },
     "execution_count": 37,
     "metadata": {},
     "output_type": "execute_result"
    }
   ],
   "source": [
    "#45분전\n",
    "date = today - timedelta(minutes=45)\n",
    "f'{date.year}.{date.month:02d}.{date.day:02d}'"
   ]
  },
  {
   "cell_type": "code",
   "execution_count": 32,
   "metadata": {},
   "outputs": [],
   "source": [
    "def convert_date(s):\n",
    "    #if len(s) ==11:\n",
    "        #return s[:-1]           #로직 간단하게 강사님.\n",
    "    today = datetime.now()\n",
    "    if s=='어제':\n",
    "        date = today - timedelta(1)       \n",
    "    elif str(s[-3])=='일':              #'일' in s\n",
    "        s = int(re.sub('[^0-9]','', s))     \n",
    "        date = today - timedelta(s)       #date = today - timedelta(int(s[:-3]))\n",
    "    elif str(s[-4])=='시':              #'시' in s\n",
    "        s = int(re.sub('[^0-9]','', s))\n",
    "        date = today - timedelta(hours=s)   #date = today - timedelta(int(s[:-4]))     \n",
    "    elif str(s[-3])=='분':              #'분' in s\n",
    "        s = int(re.sub('[^0-9]','', s))\n",
    "        date = today - timedelta(minutes=s)     #date = today - timedelta(int(s[:-3]))\n",
    "    else :\n",
    "        return s     \n",
    "    return f'{date.year}.{date.month:02d}.{date.day:02d}'\n",
    "    \n",
    "\n"
   ]
  },
  {
   "cell_type": "markdown",
   "metadata": {},
   "source": [
    "- 반복문으로 데이터 가져오기"
   ]
  },
  {
   "cell_type": "code",
   "execution_count": 33,
   "metadata": {},
   "outputs": [],
   "source": [
    "lines = []\n",
    "for li in lis:\n",
    "    title = li.find_element_by_css_selector('a.api_txt_lines.total_tit._cross_trigger').text.strip()\n",
    "    date = li.find_element_by_css_selector('.sub_time.sub_txt').text.strip()\n",
    "    desc = li.find_element_by_css_selector('.api_txt_lines.dsc_txt').text.strip()\n",
    "    #href = li.select_one('a.api_txt_lines.total_tit._cross_trigger')['href']\n",
    "\n",
    "    lines.append([title,convert_date(date),desc])#,href])"
   ]
  },
  {
   "cell_type": "code",
   "execution_count": 34,
   "metadata": {},
   "outputs": [],
   "source": [
    "df = pd.DataFrame(lines, columns=['제목','날짜','내용'])#,'href'])"
   ]
  },
  {
   "cell_type": "code",
   "execution_count": 35,
   "metadata": {},
   "outputs": [
    {
     "data": {
      "text/html": [
       "<div>\n",
       "<style scoped>\n",
       "    .dataframe tbody tr th:only-of-type {\n",
       "        vertical-align: middle;\n",
       "    }\n",
       "\n",
       "    .dataframe tbody tr th {\n",
       "        vertical-align: top;\n",
       "    }\n",
       "\n",
       "    .dataframe thead th {\n",
       "        text-align: right;\n",
       "    }\n",
       "</style>\n",
       "<table border=\"1\" class=\"dataframe\">\n",
       "  <thead>\n",
       "    <tr style=\"text-align: right;\">\n",
       "      <th></th>\n",
       "      <th>제목</th>\n",
       "      <th>날짜</th>\n",
       "      <th>내용</th>\n",
       "    </tr>\n",
       "  </thead>\n",
       "  <tbody>\n",
       "    <tr>\n",
       "      <th>0</th>\n",
       "      <td>만족뿐인 제주 맛집 공유</td>\n",
       "      <td>2021.11.19.</td>\n",
       "      <td>지난 주말 친구들과 제주여행을 떠났다가 이름알려진 제주 맛집에 갔다왔어요. 전복뚝배...</td>\n",
       "    </tr>\n",
       "    <tr>\n",
       "      <th>1</th>\n",
       "      <td>또 생각났던 제주 맛집</td>\n",
       "      <td>2021.12.02</td>\n",
       "      <td>제가 시킨 제주 비빔국수는 갖은 야채들이 그릇에 알록달록 예쁘게 가득 채워져 있었는...</td>\n",
       "    </tr>\n",
       "    <tr>\n",
       "      <th>2</th>\n",
       "      <td>북적였던 제주 맛집 리스트</td>\n",
       "      <td>2021.11.13.</td>\n",
       "      <td>무엇보다 비린내 한번 느껴지지 않아 배가 부른 상태였음에도 쉽사리 남길 수가 없었던...</td>\n",
       "    </tr>\n",
       "    <tr>\n",
       "      <th>3</th>\n",
       "      <td>감격했던 제주 맛집 소개</td>\n",
       "      <td>2021.11.15.</td>\n",
       "      <td>얼마 전 친구들과 제주로 여행갔다가 현지인께 추천받은 제주 맛집에 다녀왔어요. 갓 ...</td>\n",
       "    </tr>\n",
       "    <tr>\n",
       "      <th>4</th>\n",
       "      <td>제주도 가볼만한곳 제주 맛집</td>\n",
       "      <td>2021.12.01</td>\n",
       "      <td>제주도 가볼만한곳 제주 맛집은 깔끔한 메뉴가 푸짐하게 나오기로 소문 난 곳이라 부담...</td>\n",
       "    </tr>\n",
       "    <tr>\n",
       "      <th>...</th>\n",
       "      <td>...</td>\n",
       "      <td>...</td>\n",
       "      <td>...</td>\n",
       "    </tr>\n",
       "    <tr>\n",
       "      <th>105</th>\n",
       "      <td>제쇼 12월 제주맛집 공유상 진행합니다.^^</td>\n",
       "      <td>2021.12.06</td>\n",
       "      <td>[제쇼 12월 제주맛집 공유상 ] 회원님들의 제주맛집 또는 제주카페 정보를 공유해주...</td>\n",
       "    </tr>\n",
       "    <tr>\n",
       "      <th>106</th>\n",
       "      <td>만족했던 소노벨 제주 맛집</td>\n",
       "      <td>2021.10.19.</td>\n",
       "      <td>맛도 퀄리티도 좋았던 곳이라 평소에 족발이나 보쌈 좋아하셨다면 소노벨 제주 맛집 여...</td>\n",
       "    </tr>\n",
       "    <tr>\n",
       "      <th>107</th>\n",
       "      <td>[제주맛집] 사장님 귀는 당나귀 귀 정호영쉐프가 운영하는 제주 교래리 우동카덴</td>\n",
       "      <td>2021.11.27.</td>\n",
       "      <td>그렇지만 아주 특별한 맛은 아닌것 같음. 우동 그릇이 엄청 크고 무거움(세수대야 수...</td>\n",
       "    </tr>\n",
       "    <tr>\n",
       "      <th>108</th>\n",
       "      <td>풍요로운 제주 맛집 추천</td>\n",
       "      <td>2021.08.15.</td>\n",
       "      <td>이어서 등장만으로도 이목을 집중시킨 제주 맛집 추천의 제주달빛좋은밤이 야심차게 마련...</td>\n",
       "    </tr>\n",
       "    <tr>\n",
       "      <th>109</th>\n",
       "      <td>인정했던 제주 맛집</td>\n",
       "      <td>2021.08.17.</td>\n",
       "      <td>얼마 전 친구와 제주에 갔다가 요즘 핫하다는 제주 맛집에 다녀왔어요. 가성비 좋은 ...</td>\n",
       "    </tr>\n",
       "  </tbody>\n",
       "</table>\n",
       "<p>110 rows × 3 columns</p>\n",
       "</div>"
      ],
      "text/plain": [
       "                                              제목           날짜  \\\n",
       "0                                  만족뿐인 제주 맛집 공유  2021.11.19.   \n",
       "1                                   또 생각났던 제주 맛집   2021.12.02   \n",
       "2                                 북적였던 제주 맛집 리스트  2021.11.13.   \n",
       "3                                  감격했던 제주 맛집 소개  2021.11.15.   \n",
       "4                                제주도 가볼만한곳 제주 맛집   2021.12.01   \n",
       "..                                           ...          ...   \n",
       "105                     제쇼 12월 제주맛집 공유상 진행합니다.^^   2021.12.06   \n",
       "106                               만족했던 소노벨 제주 맛집  2021.10.19.   \n",
       "107  [제주맛집] 사장님 귀는 당나귀 귀 정호영쉐프가 운영하는 제주 교래리 우동카덴  2021.11.27.   \n",
       "108                                풍요로운 제주 맛집 추천  2021.08.15.   \n",
       "109                                   인정했던 제주 맛집  2021.08.17.   \n",
       "\n",
       "                                                    내용  \n",
       "0    지난 주말 친구들과 제주여행을 떠났다가 이름알려진 제주 맛집에 갔다왔어요. 전복뚝배...  \n",
       "1    제가 시킨 제주 비빔국수는 갖은 야채들이 그릇에 알록달록 예쁘게 가득 채워져 있었는...  \n",
       "2    무엇보다 비린내 한번 느껴지지 않아 배가 부른 상태였음에도 쉽사리 남길 수가 없었던...  \n",
       "3    얼마 전 친구들과 제주로 여행갔다가 현지인께 추천받은 제주 맛집에 다녀왔어요. 갓 ...  \n",
       "4    제주도 가볼만한곳 제주 맛집은 깔끔한 메뉴가 푸짐하게 나오기로 소문 난 곳이라 부담...  \n",
       "..                                                 ...  \n",
       "105  [제쇼 12월 제주맛집 공유상 ] 회원님들의 제주맛집 또는 제주카페 정보를 공유해주...  \n",
       "106  맛도 퀄리티도 좋았던 곳이라 평소에 족발이나 보쌈 좋아하셨다면 소노벨 제주 맛집 여...  \n",
       "107  그렇지만 아주 특별한 맛은 아닌것 같음. 우동 그릇이 엄청 크고 무거움(세수대야 수...  \n",
       "108  이어서 등장만으로도 이목을 집중시킨 제주 맛집 추천의 제주달빛좋은밤이 야심차게 마련...  \n",
       "109  얼마 전 친구와 제주에 갔다가 요즘 핫하다는 제주 맛집에 다녀왔어요. 가성비 좋은 ...  \n",
       "\n",
       "[110 rows x 3 columns]"
      ]
     },
     "execution_count": 35,
     "metadata": {},
     "output_type": "execute_result"
    }
   ],
   "source": [
    "df"
   ]
  },
  {
   "cell_type": "code",
   "execution_count": 36,
   "metadata": {},
   "outputs": [
    {
     "data": {
      "text/html": [
       "<div>\n",
       "<style scoped>\n",
       "    .dataframe tbody tr th:only-of-type {\n",
       "        vertical-align: middle;\n",
       "    }\n",
       "\n",
       "    .dataframe tbody tr th {\n",
       "        vertical-align: top;\n",
       "    }\n",
       "\n",
       "    .dataframe thead th {\n",
       "        text-align: right;\n",
       "    }\n",
       "</style>\n",
       "<table border=\"1\" class=\"dataframe\">\n",
       "  <thead>\n",
       "    <tr style=\"text-align: right;\">\n",
       "      <th></th>\n",
       "      <th>제목</th>\n",
       "      <th>날짜</th>\n",
       "      <th>내용</th>\n",
       "    </tr>\n",
       "  </thead>\n",
       "  <tbody>\n",
       "    <tr>\n",
       "      <th>0</th>\n",
       "      <td>만족뿐인 제주 맛집 공유</td>\n",
       "      <td>2021.11.19.</td>\n",
       "      <td>지난 주말 친구들과 제주여행을 떠났다가 이름알려진 제주 맛집에 갔다왔어요. 전복뚝배...</td>\n",
       "    </tr>\n",
       "    <tr>\n",
       "      <th>1</th>\n",
       "      <td>또 생각났던 제주 맛집</td>\n",
       "      <td>2021.12.02</td>\n",
       "      <td>제가 시킨 제주 비빔국수는 갖은 야채들이 그릇에 알록달록 예쁘게 가득 채워져 있었는...</td>\n",
       "    </tr>\n",
       "    <tr>\n",
       "      <th>2</th>\n",
       "      <td>북적였던 제주 맛집 리스트</td>\n",
       "      <td>2021.11.13.</td>\n",
       "      <td>무엇보다 비린내 한번 느껴지지 않아 배가 부른 상태였음에도 쉽사리 남길 수가 없었던...</td>\n",
       "    </tr>\n",
       "    <tr>\n",
       "      <th>3</th>\n",
       "      <td>감격했던 제주 맛집 소개</td>\n",
       "      <td>2021.11.15.</td>\n",
       "      <td>얼마 전 친구들과 제주로 여행갔다가 현지인께 추천받은 제주 맛집에 다녀왔어요. 갓 ...</td>\n",
       "    </tr>\n",
       "    <tr>\n",
       "      <th>4</th>\n",
       "      <td>제주도 가볼만한곳 제주 맛집</td>\n",
       "      <td>2021.12.01</td>\n",
       "      <td>제주도 가볼만한곳 제주 맛집은 깔끔한 메뉴가 푸짐하게 나오기로 소문 난 곳이라 부담...</td>\n",
       "    </tr>\n",
       "  </tbody>\n",
       "</table>\n",
       "</div>"
      ],
      "text/plain": [
       "                제목           날짜  \\\n",
       "0    만족뿐인 제주 맛집 공유  2021.11.19.   \n",
       "1     또 생각났던 제주 맛집   2021.12.02   \n",
       "2   북적였던 제주 맛집 리스트  2021.11.13.   \n",
       "3    감격했던 제주 맛집 소개  2021.11.15.   \n",
       "4  제주도 가볼만한곳 제주 맛집   2021.12.01   \n",
       "\n",
       "                                                  내용  \n",
       "0  지난 주말 친구들과 제주여행을 떠났다가 이름알려진 제주 맛집에 갔다왔어요. 전복뚝배...  \n",
       "1  제가 시킨 제주 비빔국수는 갖은 야채들이 그릇에 알록달록 예쁘게 가득 채워져 있었는...  \n",
       "2  무엇보다 비린내 한번 느껴지지 않아 배가 부른 상태였음에도 쉽사리 남길 수가 없었던...  \n",
       "3  얼마 전 친구들과 제주로 여행갔다가 현지인께 추천받은 제주 맛집에 다녀왔어요. 갓 ...  \n",
       "4  제주도 가볼만한곳 제주 맛집은 깔끔한 메뉴가 푸짐하게 나오기로 소문 난 곳이라 부담...  "
      ]
     },
     "execution_count": 36,
     "metadata": {},
     "output_type": "execute_result"
    }
   ],
   "source": [
    "df[['제목','날짜','내용']].head()"
   ]
  },
  {
   "cell_type": "code",
   "execution_count": 153,
   "metadata": {},
   "outputs": [],
   "source": [
    "df.to_csv('네이버-제주맛집셀레니움.csv', index=False)"
   ]
  },
  {
   "cell_type": "code",
   "execution_count": 154,
   "metadata": {},
   "outputs": [],
   "source": [
    "driver.close()"
   ]
  },
  {
   "cell_type": "code",
   "execution_count": null,
   "metadata": {},
   "outputs": [],
   "source": []
  }
 ],
 "metadata": {
  "interpreter": {
   "hash": "60e7f993bd80280a292cf727bcf540b52dc52f658ffaee01a928daf77ed7d70f"
  },
  "kernelspec": {
   "display_name": "Python 3.8.8 64-bit ('base': conda)",
   "language": "python",
   "name": "python3"
  },
  "language_info": {
   "codemirror_mode": {
    "name": "ipython",
    "version": 3
   },
   "file_extension": ".py",
   "mimetype": "text/x-python",
   "name": "python",
   "nbconvert_exporter": "python",
   "pygments_lexer": "ipython3",
   "version": "3.8.8"
  },
  "orig_nbformat": 4
 },
 "nbformat": 4,
 "nbformat_minor": 2
}
