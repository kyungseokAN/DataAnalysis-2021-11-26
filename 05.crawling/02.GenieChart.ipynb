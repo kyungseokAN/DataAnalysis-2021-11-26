{
 "cells": [
  {
   "cell_type": "code",
   "execution_count": 97,
   "metadata": {},
   "outputs": [],
   "source": [
    "import requests\n",
    "import pandas as pd"
   ]
  },
  {
   "cell_type": "markdown",
   "metadata": {},
   "source": [
    "# 1.인터넷에서 데이터 가져오기"
   ]
  },
  {
   "cell_type": "code",
   "execution_count": 98,
   "metadata": {},
   "outputs": [],
   "source": [
    "# Genie top200\n",
    "url = 'https://www.genie.co.kr/chart/top200'\n",
    "req = requests.get(url)\n",
    "html = req.text\n",
    "#html"
   ]
  },
  {
   "cell_type": "code",
   "execution_count": 99,
   "metadata": {},
   "outputs": [],
   "source": [
    "# Chrome User-Agent\n",
    "header = {'User-Agent':\"Mozilla/5.0 (Windows NT 10.0; Win64; x64) AppleWebKit/537.36 (KHTML, like Gecko) Chrome/80.0.3987.122 Safari/537.36\"}\n",
    "req = requests.get(url, headers = header)\n",
    "html = req.text\n",
    "#html\n",
    "\n",
    "\n"
   ]
  },
  {
   "cell_type": "code",
   "execution_count": 100,
   "metadata": {},
   "outputs": [],
   "source": [
    "from bs4 import BeautifulSoup\n",
    "soup = BeautifulSoup(html, 'html.parser')"
   ]
  },
  {
   "cell_type": "markdown",
   "metadata": {},
   "source": [
    "# 찾으려고 하는 데이터의 노드 찾기"
   ]
  },
  {
   "cell_type": "code",
   "execution_count": 101,
   "metadata": {},
   "outputs": [
    {
     "data": {
      "text/plain": [
       "51"
      ]
     },
     "execution_count": 101,
     "metadata": {},
     "output_type": "execute_result"
    }
   ],
   "source": [
    "trs = soup.find_all('tr')\n",
    "len(trs)"
   ]
  },
  {
   "cell_type": "code",
   "execution_count": 102,
   "metadata": {},
   "outputs": [
    {
     "data": {
      "text/plain": [
       "50"
      ]
     },
     "execution_count": 102,
     "metadata": {},
     "output_type": "execute_result"
    }
   ],
   "source": [
    "tbody = soup.select_one('table.list-wrap').find('tbody')\n",
    "trs = tbody.select('tr')\n",
    "len(trs)"
   ]
  },
  {
   "cell_type": "code",
   "execution_count": 103,
   "metadata": {},
   "outputs": [
    {
     "data": {
      "text/plain": [
       "50"
      ]
     },
     "execution_count": 103,
     "metadata": {},
     "output_type": "execute_result"
    }
   ],
   "source": [
    "tbody = soup.select_one('#body-content > div.newest-list > div > table > tbody')\n",
    "trs = tbody.select('tr')\n",
    "len(trs)"
   ]
  },
  {
   "cell_type": "markdown",
   "metadata": {},
   "source": [
    "### 3. 여러개의 데이터 중 하나를 선택해서 원하는 정보를 추출\n",
    "-rnak, title,artist,album"
   ]
  },
  {
   "cell_type": "code",
   "execution_count": 104,
   "metadata": {},
   "outputs": [],
   "source": [
    "tr = trs[0]"
   ]
  },
  {
   "cell_type": "code",
   "execution_count": 105,
   "metadata": {},
   "outputs": [
    {
     "data": {
      "text/plain": [
       "'1\\n                                        \\n                                    \\n유지\\n\\n'"
      ]
     },
     "execution_count": 105,
     "metadata": {},
     "output_type": "execute_result"
    }
   ],
   "source": [
    "# rank\n",
    "tr.select_one('.number').get_text()"
   ]
  },
  {
   "cell_type": "code",
   "execution_count": 106,
   "metadata": {},
   "outputs": [
    {
     "data": {
      "text/plain": [
       "'1'"
      ]
     },
     "execution_count": 106,
     "metadata": {},
     "output_type": "execute_result"
    }
   ],
   "source": [
    "rank = tr.select_one('.number').get_text().split('\\n')[0]\n",
    "rank"
   ]
  },
  {
   "cell_type": "code",
   "execution_count": 107,
   "metadata": {},
   "outputs": [
    {
     "data": {
      "text/plain": [
       "'리무진 (Feat. MINO) (Prod. by GRAY)'"
      ]
     },
     "execution_count": 107,
     "metadata": {},
     "output_type": "execute_result"
    }
   ],
   "source": [
    "# title\n",
    "title = tr.select_one('.title.ellipsis').get_text().strip()\n",
    "title"
   ]
  },
  {
   "cell_type": "code",
   "execution_count": 108,
   "metadata": {},
   "outputs": [
    {
     "data": {
      "text/plain": [
       "\"BE'O (비오)\""
      ]
     },
     "execution_count": 108,
     "metadata": {},
     "output_type": "execute_result"
    }
   ],
   "source": [
    "# artist\n",
    "artist = tr.select_one('.artist.ellipsis').get_text()\n",
    "artist"
   ]
  },
  {
   "cell_type": "code",
   "execution_count": 109,
   "metadata": {},
   "outputs": [
    {
     "data": {
      "text/plain": [
       "'쇼미더머니 10 Episode 3'"
      ]
     },
     "execution_count": 109,
     "metadata": {},
     "output_type": "execute_result"
    }
   ],
   "source": [
    "# album\n",
    "album = tr.select_one('.albumtitle.ellipsis').get_text()\n",
    "album\n"
   ]
  },
  {
   "cell_type": "markdown",
   "metadata": {},
   "source": [
    "### 4. 한 페이지에 있는 모든 데이터를 반복문으로 가져와 데이터프레임 만들기"
   ]
  },
  {
   "cell_type": "code",
   "execution_count": 110,
   "metadata": {},
   "outputs": [],
   "source": [
    "rank_list, title_list, artist_list, album_list = [],[],[],[]\n",
    "for tr in trs:\n",
    "    rank = tr.select_one('.number').get_text().split('\\n')[0]\n",
    "    title = tr.select_one('.title.ellipsis').get_text().strip()\n",
    "    artist = tr.select_one('.artist.ellipsis').get_text()\n",
    "    album = tr.select_one('.albumtitle.ellipsis').get_text()\n",
    "    rank_list.append(rank)\n",
    "    title_list.append(title)\n",
    "    artist_list .append(artist)\n",
    "    album_list.append(album)\n",
    "    \n",
    "\n",
    "    "
   ]
  },
  {
   "cell_type": "code",
   "execution_count": 111,
   "metadata": {},
   "outputs": [
    {
     "data": {
      "text/html": [
       "<div>\n",
       "<style scoped>\n",
       "    .dataframe tbody tr th:only-of-type {\n",
       "        vertical-align: middle;\n",
       "    }\n",
       "\n",
       "    .dataframe tbody tr th {\n",
       "        vertical-align: top;\n",
       "    }\n",
       "\n",
       "    .dataframe thead th {\n",
       "        text-align: right;\n",
       "    }\n",
       "</style>\n",
       "<table border=\"1\" class=\"dataframe\">\n",
       "  <thead>\n",
       "    <tr style=\"text-align: right;\">\n",
       "      <th></th>\n",
       "      <th>순위</th>\n",
       "      <th>제목</th>\n",
       "      <th>가수</th>\n",
       "      <th>앨범</th>\n",
       "    </tr>\n",
       "  </thead>\n",
       "  <tbody>\n",
       "    <tr>\n",
       "      <th>0</th>\n",
       "      <td>1</td>\n",
       "      <td>리무진 (Feat. MINO) (Prod. by GRAY)</td>\n",
       "      <td>BE'O (비오)</td>\n",
       "      <td>쇼미더머니 10 Episode 3</td>\n",
       "    </tr>\n",
       "    <tr>\n",
       "      <th>1</th>\n",
       "      <td>2</td>\n",
       "      <td>회전목마 (Feat. Zion.T &amp; 원슈타인) (Prod. by Slom)</td>\n",
       "      <td>sokodomo</td>\n",
       "      <td>쇼미더머니 10 Episode 2</td>\n",
       "    </tr>\n",
       "    <tr>\n",
       "      <th>2</th>\n",
       "      <td>3</td>\n",
       "      <td>만남은 쉽고 이별은 어려워 (Feat. Leellamarz) (Prod. by TOIL)</td>\n",
       "      <td>베이식</td>\n",
       "      <td>쇼미더머니 10 Episode 3</td>\n",
       "    </tr>\n",
       "    <tr>\n",
       "      <th>3</th>\n",
       "      <td>4</td>\n",
       "      <td>사랑은 늘 도망가</td>\n",
       "      <td>임영웅</td>\n",
       "      <td>신사와 아가씨 OST Part.2</td>\n",
       "    </tr>\n",
       "    <tr>\n",
       "      <th>4</th>\n",
       "      <td>5</td>\n",
       "      <td>불협화음 (Feat. AKMU) (Prod. by GRAY)</td>\n",
       "      <td>Mudd the student</td>\n",
       "      <td>쇼미더머니 10 Semi Final</td>\n",
       "    </tr>\n",
       "  </tbody>\n",
       "</table>\n",
       "</div>"
      ],
      "text/plain": [
       "  순위                                                 제목                가수  \\\n",
       "0  1                   리무진 (Feat. MINO) (Prod. by GRAY)         BE'O (비오)   \n",
       "1  2         회전목마 (Feat. Zion.T & 원슈타인) (Prod. by Slom)          sokodomo   \n",
       "2  3  만남은 쉽고 이별은 어려워 (Feat. Leellamarz) (Prod. by TOIL)               베이식   \n",
       "3  4                                          사랑은 늘 도망가               임영웅   \n",
       "4  5                  불협화음 (Feat. AKMU) (Prod. by GRAY)  Mudd the student   \n",
       "\n",
       "                    앨범  \n",
       "0   쇼미더머니 10 Episode 3  \n",
       "1   쇼미더머니 10 Episode 2  \n",
       "2   쇼미더머니 10 Episode 3  \n",
       "3   신사와 아가씨 OST Part.2  \n",
       "4  쇼미더머니 10 Semi Final  "
      ]
     },
     "execution_count": 111,
     "metadata": {},
     "output_type": "execute_result"
    }
   ],
   "source": [
    "df = pd.DataFrame({\n",
    "    '순위' : rank_list, '제목' : title_list, '가수' : artist_list , '앨범' : album_list\n",
    "})\n",
    "df.head()"
   ]
  },
  {
   "cell_type": "code",
   "execution_count": 112,
   "metadata": {},
   "outputs": [
    {
     "data": {
      "text/html": [
       "<div>\n",
       "<style scoped>\n",
       "    .dataframe tbody tr th:only-of-type {\n",
       "        vertical-align: middle;\n",
       "    }\n",
       "\n",
       "    .dataframe tbody tr th {\n",
       "        vertical-align: top;\n",
       "    }\n",
       "\n",
       "    .dataframe thead th {\n",
       "        text-align: right;\n",
       "    }\n",
       "</style>\n",
       "<table border=\"1\" class=\"dataframe\">\n",
       "  <thead>\n",
       "    <tr style=\"text-align: right;\">\n",
       "      <th></th>\n",
       "      <th>순위</th>\n",
       "      <th>제목</th>\n",
       "      <th>가수</th>\n",
       "      <th>앨범</th>\n",
       "    </tr>\n",
       "  </thead>\n",
       "  <tbody>\n",
       "    <tr>\n",
       "      <th>0</th>\n",
       "      <td>1</td>\n",
       "      <td>리무진 (Feat. MINO) (Prod. by GRAY)</td>\n",
       "      <td>BE'O (비오)</td>\n",
       "      <td>쇼미더머니 10 Episode 3</td>\n",
       "    </tr>\n",
       "    <tr>\n",
       "      <th>1</th>\n",
       "      <td>2</td>\n",
       "      <td>회전목마 (Feat. Zion.T &amp; 원슈타인) (Prod. by Slom)</td>\n",
       "      <td>sokodomo</td>\n",
       "      <td>쇼미더머니 10 Episode 2</td>\n",
       "    </tr>\n",
       "    <tr>\n",
       "      <th>2</th>\n",
       "      <td>3</td>\n",
       "      <td>만남은 쉽고 이별은 어려워 (Feat. Leellamarz) (Prod. by TOIL)</td>\n",
       "      <td>베이식</td>\n",
       "      <td>쇼미더머니 10 Episode 3</td>\n",
       "    </tr>\n",
       "    <tr>\n",
       "      <th>3</th>\n",
       "      <td>4</td>\n",
       "      <td>사랑은 늘 도망가</td>\n",
       "      <td>임영웅</td>\n",
       "      <td>신사와 아가씨 OST Part.2</td>\n",
       "    </tr>\n",
       "    <tr>\n",
       "      <th>4</th>\n",
       "      <td>5</td>\n",
       "      <td>불협화음 (Feat. AKMU) (Prod. by GRAY)</td>\n",
       "      <td>Mudd the student</td>\n",
       "      <td>쇼미더머니 10 Semi Final</td>\n",
       "    </tr>\n",
       "  </tbody>\n",
       "</table>\n",
       "</div>"
      ],
      "text/plain": [
       "  순위                                                 제목                가수  \\\n",
       "0  1                   리무진 (Feat. MINO) (Prod. by GRAY)         BE'O (비오)   \n",
       "1  2         회전목마 (Feat. Zion.T & 원슈타인) (Prod. by Slom)          sokodomo   \n",
       "2  3  만남은 쉽고 이별은 어려워 (Feat. Leellamarz) (Prod. by TOIL)               베이식   \n",
       "3  4                                          사랑은 늘 도망가               임영웅   \n",
       "4  5                  불협화음 (Feat. AKMU) (Prod. by GRAY)  Mudd the student   \n",
       "\n",
       "                    앨범  \n",
       "0   쇼미더머니 10 Episode 3  \n",
       "1   쇼미더머니 10 Episode 2  \n",
       "2   쇼미더머니 10 Episode 3  \n",
       "3   신사와 아가씨 OST Part.2  \n",
       "4  쇼미더머니 10 Semi Final  "
      ]
     },
     "execution_count": 112,
     "metadata": {},
     "output_type": "execute_result"
    }
   ],
   "source": [
    "lines = []\n",
    "for tr in trs:\n",
    "    rank = tr.select_one('.number').get_text().split('\\n')[0]\n",
    "    title = tr.select_one('.title.ellipsis').get_text().strip()\n",
    "    artist = tr.select_one('.artist.ellipsis').get_text()\n",
    "    album = tr.select_one('.albumtitle.ellipsis').get_text()\n",
    "    lines.append([rank, title, artist, album])\n",
    "df = pd.DataFrame(lines, columns=['순위', '제목', '가수', '앨범'])\n",
    "df.head()"
   ]
  },
  {
   "cell_type": "code",
   "execution_count": 113,
   "metadata": {},
   "outputs": [
    {
     "data": {
      "text/html": [
       "<div>\n",
       "<style scoped>\n",
       "    .dataframe tbody tr th:only-of-type {\n",
       "        vertical-align: middle;\n",
       "    }\n",
       "\n",
       "    .dataframe tbody tr th {\n",
       "        vertical-align: top;\n",
       "    }\n",
       "\n",
       "    .dataframe thead th {\n",
       "        text-align: right;\n",
       "    }\n",
       "</style>\n",
       "<table border=\"1\" class=\"dataframe\">\n",
       "  <thead>\n",
       "    <tr style=\"text-align: right;\">\n",
       "      <th></th>\n",
       "      <th>순위</th>\n",
       "      <th>제목</th>\n",
       "      <th>가수</th>\n",
       "      <th>앨범</th>\n",
       "    </tr>\n",
       "  </thead>\n",
       "  <tbody>\n",
       "    <tr>\n",
       "      <th>0</th>\n",
       "      <td>1</td>\n",
       "      <td>리무진 (Feat. MINO) (Prod. by GRAY)</td>\n",
       "      <td>BE'O (비오)</td>\n",
       "      <td>쇼미더머니 10 Episode 3</td>\n",
       "    </tr>\n",
       "    <tr>\n",
       "      <th>1</th>\n",
       "      <td>2</td>\n",
       "      <td>회전목마 (Feat. Zion.T &amp; 원슈타인) (Prod. by Slom)</td>\n",
       "      <td>sokodomo</td>\n",
       "      <td>쇼미더머니 10 Episode 2</td>\n",
       "    </tr>\n",
       "    <tr>\n",
       "      <th>2</th>\n",
       "      <td>3</td>\n",
       "      <td>만남은 쉽고 이별은 어려워 (Feat. Leellamarz) (Prod. by TOIL)</td>\n",
       "      <td>베이식</td>\n",
       "      <td>쇼미더머니 10 Episode 3</td>\n",
       "    </tr>\n",
       "    <tr>\n",
       "      <th>3</th>\n",
       "      <td>4</td>\n",
       "      <td>사랑은 늘 도망가</td>\n",
       "      <td>임영웅</td>\n",
       "      <td>신사와 아가씨 OST Part.2</td>\n",
       "    </tr>\n",
       "    <tr>\n",
       "      <th>4</th>\n",
       "      <td>5</td>\n",
       "      <td>불협화음 (Feat. AKMU) (Prod. by GRAY)</td>\n",
       "      <td>Mudd the student</td>\n",
       "      <td>쇼미더머니 10 Semi Final</td>\n",
       "    </tr>\n",
       "  </tbody>\n",
       "</table>\n",
       "</div>"
      ],
      "text/plain": [
       "  순위                                                 제목                가수  \\\n",
       "0  1                   리무진 (Feat. MINO) (Prod. by GRAY)         BE'O (비오)   \n",
       "1  2         회전목마 (Feat. Zion.T & 원슈타인) (Prod. by Slom)          sokodomo   \n",
       "2  3  만남은 쉽고 이별은 어려워 (Feat. Leellamarz) (Prod. by TOIL)               베이식   \n",
       "3  4                                          사랑은 늘 도망가               임영웅   \n",
       "4  5                  불협화음 (Feat. AKMU) (Prod. by GRAY)  Mudd the student   \n",
       "\n",
       "                    앨범  \n",
       "0   쇼미더머니 10 Episode 3  \n",
       "1   쇼미더머니 10 Episode 2  \n",
       "2   쇼미더머니 10 Episode 3  \n",
       "3   신사와 아가씨 OST Part.2  \n",
       "4  쇼미더머니 10 Semi Final  "
      ]
     },
     "execution_count": 113,
     "metadata": {},
     "output_type": "execute_result"
    }
   ],
   "source": [
    "lines = []\n",
    "for tr in trs:\n",
    "    rank = tr.select_one('.number').get_text().split('\\n')[0]\n",
    "    title = tr.select_one('.title.ellipsis').get_text().strip()\n",
    "    artist = tr.select_one('.artist.ellipsis').get_text()\n",
    "    album = tr.select_one('.albumtitle.ellipsis').get_text()\n",
    "    d = {'순위':rank, '제목' : title, '가수' : artist, '앨범' : album}\n",
    "    lines.append(d)\n",
    "df = pd.DataFrame(lines)\n",
    "df.head()"
   ]
  },
  {
   "cell_type": "markdown",
   "metadata": {},
   "source": [
    "### 5. 모든 페이지의 데이터 가져오기"
   ]
  },
  {
   "cell_type": "code",
   "execution_count": 116,
   "metadata": {},
   "outputs": [
    {
     "data": {
      "text/html": [
       "<div>\n",
       "<style scoped>\n",
       "    .dataframe tbody tr th:only-of-type {\n",
       "        vertical-align: middle;\n",
       "    }\n",
       "\n",
       "    .dataframe tbody tr th {\n",
       "        vertical-align: top;\n",
       "    }\n",
       "\n",
       "    .dataframe thead th {\n",
       "        text-align: right;\n",
       "    }\n",
       "</style>\n",
       "<table border=\"1\" class=\"dataframe\">\n",
       "  <thead>\n",
       "    <tr style=\"text-align: right;\">\n",
       "      <th></th>\n",
       "      <th>순위</th>\n",
       "      <th>제목</th>\n",
       "      <th>가수</th>\n",
       "      <th>앨범</th>\n",
       "    </tr>\n",
       "  </thead>\n",
       "  <tbody>\n",
       "    <tr>\n",
       "      <th>195</th>\n",
       "      <td>146</td>\n",
       "      <td>이끼 (Feat. MINO &amp; BOBBY) (Prod. by MINO)</td>\n",
       "      <td>Mudd the student</td>\n",
       "      <td>쇼미더머니 10 Episode 3</td>\n",
       "    </tr>\n",
       "    <tr>\n",
       "      <th>196</th>\n",
       "      <td>147</td>\n",
       "      <td>ASAP</td>\n",
       "      <td>STAYC (스테이씨)</td>\n",
       "      <td>STAYDOM</td>\n",
       "    </tr>\n",
       "    <tr>\n",
       "      <th>197</th>\n",
       "      <td>148</td>\n",
       "      <td>무정부르스</td>\n",
       "      <td>김호중</td>\n",
       "      <td>내일은 미스터트롯 데스매치 PART2</td>\n",
       "    </tr>\n",
       "    <tr>\n",
       "      <th>198</th>\n",
       "      <td>149</td>\n",
       "      <td>보릿고개</td>\n",
       "      <td>김호중</td>\n",
       "      <td>〈불후의 명곡 - 전설을 노래하다〉 - 강진&amp;진성 편</td>\n",
       "    </tr>\n",
       "    <tr>\n",
       "      <th>199</th>\n",
       "      <td>150</td>\n",
       "      <td>Leave The Door Open</td>\n",
       "      <td>Bruno Mars &amp; Anderson .Paak &amp; Silk Sonic</td>\n",
       "      <td>An Evening With Silk Sonic</td>\n",
       "    </tr>\n",
       "  </tbody>\n",
       "</table>\n",
       "</div>"
      ],
      "text/plain": [
       "      순위                                       제목  \\\n",
       "195  146  이끼 (Feat. MINO & BOBBY) (Prod. by MINO)   \n",
       "196  147                                     ASAP   \n",
       "197  148                                    무정부르스   \n",
       "198  149                                     보릿고개   \n",
       "199  150                      Leave The Door Open   \n",
       "\n",
       "                                           가수                             앨범  \n",
       "195                          Mudd the student             쇼미더머니 10 Episode 3  \n",
       "196                              STAYC (스테이씨)                        STAYDOM  \n",
       "197                                       김호중           내일은 미스터트롯 데스매치 PART2  \n",
       "198                                       김호중  〈불후의 명곡 - 전설을 노래하다〉 - 강진&진성 편  \n",
       "199  Bruno Mars & Anderson .Paak & Silk Sonic     An Evening With Silk Sonic  "
      ]
     },
     "execution_count": 116,
     "metadata": {},
     "output_type": "execute_result"
    }
   ],
   "source": [
    "lines = []\n",
    "for page in range(1,5):\n",
    "    url = f'https://genie.co.kr/chart/top200?ditc=D&ymd=20211206&hh=11&rtm=Y&pg={page}'\n",
    "    req = requests.get(url, headers = header)\n",
    "    html = req.text\n",
    "    tbody = soup.select_one('table.list-wrap').find('tbody')\n",
    "    soup = BeautifulSoup(html, 'html.parser')\n",
    "    trs = tbody.select('tr')\n",
    "\n",
    "    for tr in trs:\n",
    "        rank = tr.select_one('.number').get_text().split('\\n')[0]\n",
    "        title = tr.select_one('.title.ellipsis').get_text().strip()\n",
    "        artist = tr.select_one('.artist.ellipsis').get_text()\n",
    "        album = tr.select_one('.albumtitle.ellipsis').get_text()\n",
    "        lines.append([rank, title, artist, album])\n",
    "df = pd.DataFrame(lines, columns=['순위', '제목', '가수', '앨범'])\n",
    "df.tail()    \n",
    "\n",
    "\n",
    "    "
   ]
  },
  {
   "cell_type": "code",
   "execution_count": 117,
   "metadata": {},
   "outputs": [],
   "source": [
    "df.to_csv('지니챠트_top200', index = False)\n"
   ]
  },
  {
   "cell_type": "code",
   "execution_count": null,
   "metadata": {},
   "outputs": [],
   "source": []
  }
 ],
 "metadata": {
  "interpreter": {
   "hash": "60e7f993bd80280a292cf727bcf540b52dc52f658ffaee01a928daf77ed7d70f"
  },
  "kernelspec": {
   "display_name": "Python 3.8.8 64-bit ('base': conda)",
   "language": "python",
   "name": "python3"
  },
  "language_info": {
   "codemirror_mode": {
    "name": "ipython",
    "version": 3
   },
   "file_extension": ".py",
   "mimetype": "text/x-python",
   "name": "python",
   "nbconvert_exporter": "python",
   "pygments_lexer": "ipython3",
   "version": "3.8.8"
  },
  "orig_nbformat": 4
 },
 "nbformat": 4,
 "nbformat_minor": 2
}
