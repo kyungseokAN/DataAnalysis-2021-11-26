{
 "cells": [
  {
   "cell_type": "markdown",
   "metadata": {},
   "source": [
    "# Selenium Crawling - Google검색"
   ]
  },
  {
   "cell_type": "markdown",
   "metadata": {},
   "source": [
    "### 구글 사이트 크롤링 \n",
    "기존이 BeatifulSoup 방식으로는 크롤링이 잘 되지 않음"
   ]
  },
  {
   "cell_type": "code",
   "execution_count": 56,
   "metadata": {},
   "outputs": [],
   "source": [
    "import requests\n",
    "\n",
    "url = 'https://www.google.com/'\n",
    "res = requests.get(url)\n",
    "html = res.text\n",
    "\n"
   ]
  },
  {
   "cell_type": "code",
   "execution_count": 57,
   "metadata": {},
   "outputs": [],
   "source": [
    "from bs4 import BeautifulSoup\n",
    "soup = BeautifulSoup(html, 'html.parser')\n",
    "\n"
   ]
  },
  {
   "cell_type": "code",
   "execution_count": 58,
   "metadata": {},
   "outputs": [],
   "source": [
    "soup.select_one('.LC20lb.MBeuO.DKV0Md')"
   ]
  },
  {
   "cell_type": "markdown",
   "metadata": {},
   "source": [
    "### 셀레니움 크롤링"
   ]
  },
  {
   "cell_type": "code",
   "execution_count": 59,
   "metadata": {},
   "outputs": [],
   "source": [
    "import time\n",
    "from selenium import webdriver\n",
    "from selenium.webdriver.common.keys import Keys\n"
   ]
  },
  {
   "cell_type": "code",
   "execution_count": 60,
   "metadata": {},
   "outputs": [],
   "source": [
    "url = 'https://www.google.com/'\n",
    "driver = webdriver.Chrome('chromedriver.exe')\n",
    "driver.get(url)"
   ]
  },
  {
   "cell_type": "code",
   "execution_count": 61,
   "metadata": {},
   "outputs": [],
   "source": [
    "search_box = driver.find_element_by_name('q')\n",
    "search_box.send_keys('ChromeDriver')"
   ]
  },
  {
   "cell_type": "code",
   "execution_count": 62,
   "metadata": {},
   "outputs": [],
   "source": [
    "search_box.send_keys(Keys.ENTER)\n",
    "time.sleep(2)"
   ]
  },
  {
   "cell_type": "code",
   "execution_count": 63,
   "metadata": {},
   "outputs": [
    {
     "data": {
      "text/plain": [
       "11"
      ]
     },
     "execution_count": 63,
     "metadata": {},
     "output_type": "execute_result"
    }
   ],
   "source": [
    "divs = driver.find_elements_by_css_selector('#search .g')\n",
    "len(divs)"
   ]
  },
  {
   "cell_type": "code",
   "execution_count": 64,
   "metadata": {},
   "outputs": [
    {
     "data": {
      "text/plain": [
       "[<selenium.webdriver.remote.webelement.WebElement (session=\"698edffa567f5c84522d6d637fb4bcfb\", element=\"41faac87-3491-4cc2-94c8-97ed3b96e5f2\")>,\n",
       " <selenium.webdriver.remote.webelement.WebElement (session=\"698edffa567f5c84522d6d637fb4bcfb\", element=\"9bc2d3e6-6377-41b3-8afb-a3835cbf2882\")>,\n",
       " <selenium.webdriver.remote.webelement.WebElement (session=\"698edffa567f5c84522d6d637fb4bcfb\", element=\"80da7c46-c4c2-4e27-ae63-9005b1b95993\")>,\n",
       " <selenium.webdriver.remote.webelement.WebElement (session=\"698edffa567f5c84522d6d637fb4bcfb\", element=\"4ac0a164-b41f-478a-8e95-546157953b70\")>,\n",
       " <selenium.webdriver.remote.webelement.WebElement (session=\"698edffa567f5c84522d6d637fb4bcfb\", element=\"e5b512c1-4107-4004-b9cc-bb876c311d1e\")>,\n",
       " <selenium.webdriver.remote.webelement.WebElement (session=\"698edffa567f5c84522d6d637fb4bcfb\", element=\"905b6625-242f-49ea-a6d1-618ead408896\")>,\n",
       " <selenium.webdriver.remote.webelement.WebElement (session=\"698edffa567f5c84522d6d637fb4bcfb\", element=\"01fb9a32-855e-4003-a05b-106817a8ce1f\")>,\n",
       " <selenium.webdriver.remote.webelement.WebElement (session=\"698edffa567f5c84522d6d637fb4bcfb\", element=\"90ac4e6a-b526-41ac-b4b3-4dbfa9dc54fe\")>,\n",
       " <selenium.webdriver.remote.webelement.WebElement (session=\"698edffa567f5c84522d6d637fb4bcfb\", element=\"c8f79943-4418-44fd-a32b-34aca861273a\")>,\n",
       " <selenium.webdriver.remote.webelement.WebElement (session=\"698edffa567f5c84522d6d637fb4bcfb\", element=\"8252f9b0-5ac2-444b-9fc7-ef260b2a8782\")>,\n",
       " <selenium.webdriver.remote.webelement.WebElement (session=\"698edffa567f5c84522d6d637fb4bcfb\", element=\"5b26c6a7-a834-4ecd-8988-f28166622805\")>]"
      ]
     },
     "execution_count": 64,
     "metadata": {},
     "output_type": "execute_result"
    }
   ],
   "source": [
    "divs"
   ]
  },
  {
   "cell_type": "code",
   "execution_count": 65,
   "metadata": {},
   "outputs": [
    {
     "data": {
      "text/plain": [
       "'ChromeDriver - WebDriver for Chrome - Downloads'"
      ]
     },
     "execution_count": 65,
     "metadata": {},
     "output_type": "execute_result"
    }
   ],
   "source": [
    "div = divs[0]\n",
    "title = div.find_element_by_css_selector('.LC20lb.MBeuO.DKV0Md')\n",
    "title.text"
   ]
  },
  {
   "cell_type": "code",
   "execution_count": 66,
   "metadata": {},
   "outputs": [
    {
     "data": {
      "text/plain": [
       "'If you are using Chrome version 95, please download ChromeDriver 95.0.4638.69. For older version of Chrome, please see below for the version of ChromeDriver ...'"
      ]
     },
     "execution_count": 66,
     "metadata": {},
     "output_type": "execute_result"
    }
   ],
   "source": [
    "content = div.find_element_by_css_selector('.VwiC3b.yXK7lf')\n",
    "content.text"
   ]
  },
  {
   "cell_type": "markdown",
   "metadata": {},
   "source": [
    "- selenium으로 검색한 결과를 BeautifulSoup으로 처리"
   ]
  },
  {
   "cell_type": "code",
   "execution_count": 67,
   "metadata": {},
   "outputs": [
    {
     "data": {
      "text/plain": [
       "11"
      ]
     },
     "execution_count": 67,
     "metadata": {},
     "output_type": "execute_result"
    }
   ],
   "source": [
    "html = driver.page_source\n",
    "soup = BeautifulSoup(html, 'html.parser')\n",
    "divs = soup.select('#search .g')\n",
    "len(divs)"
   ]
  },
  {
   "cell_type": "code",
   "execution_count": 68,
   "metadata": {},
   "outputs": [],
   "source": [
    "lines = []\n",
    "for div in divs:\n",
    "    title = div.select_one('.LC20lb.MBeuO.DKV0Md').get_text().strip()\n",
    "    content = div.select_one('.VwiC3b.yXK7lf').get_text().strip()\n",
    "    lines.append([title, content])\n",
    "    \n"
   ]
  },
  {
   "cell_type": "code",
   "execution_count": 69,
   "metadata": {},
   "outputs": [
    {
     "data": {
      "text/html": [
       "<div>\n",
       "<style scoped>\n",
       "    .dataframe tbody tr th:only-of-type {\n",
       "        vertical-align: middle;\n",
       "    }\n",
       "\n",
       "    .dataframe tbody tr th {\n",
       "        vertical-align: top;\n",
       "    }\n",
       "\n",
       "    .dataframe thead th {\n",
       "        text-align: right;\n",
       "    }\n",
       "</style>\n",
       "<table border=\"1\" class=\"dataframe\">\n",
       "  <thead>\n",
       "    <tr style=\"text-align: right;\">\n",
       "      <th></th>\n",
       "      <th>title</th>\n",
       "      <th>content</th>\n",
       "    </tr>\n",
       "  </thead>\n",
       "  <tbody>\n",
       "    <tr>\n",
       "      <th>0</th>\n",
       "      <td>ChromeDriver - WebDriver for Chrome - Downloads</td>\n",
       "      <td>If you are using Chrome version 95, please dow...</td>\n",
       "    </tr>\n",
       "    <tr>\n",
       "      <th>1</th>\n",
       "      <td>ChromeDriver - WebDriver for Chrome - Downloads</td>\n",
       "      <td>If you are using Chrome version 95, please dow...</td>\n",
       "    </tr>\n",
       "    <tr>\n",
       "      <th>2</th>\n",
       "      <td>ChromeDriver - WebDriver for Chrome</td>\n",
       "      <td>ChromeDriver · WebDriver is an open source too...</td>\n",
       "    </tr>\n",
       "    <tr>\n",
       "      <th>3</th>\n",
       "      <td>selenium) 설치하기! chromedriver 버전 오류 해결하기 - 네이버 ...</td>\n",
       "      <td>여기에서 현재 사용중인 크롬의 버전과 일치하는 버전의 파일을 다운 받으시면 됩니다....</td>\n",
       "    </tr>\n",
       "    <tr>\n",
       "      <th>4</th>\n",
       "      <td>Selenium으로 무적 크롤러 만들기</td>\n",
       "      <td>2017. 2. 27. — from selenium import webdriver ...</td>\n",
       "    </tr>\n",
       "    <tr>\n",
       "      <th>5</th>\n",
       "      <td>ChromeDriver · SeleniumHQ/selenium Wiki - GitHub</td>\n",
       "      <td>The ChromeDriver consists of three separate pi...</td>\n",
       "    </tr>\n",
       "    <tr>\n",
       "      <th>6</th>\n",
       "      <td>[ChromeDriver] 크롬 드라이버 버전에 따라 설정하는 방법</td>\n",
       "      <td>2020. 6. 9. — 어쩌고 버전입니다. 크롬드라이버 다운로드 사이트로 갑니다....</td>\n",
       "    </tr>\n",
       "    <tr>\n",
       "      <th>7</th>\n",
       "      <td>크롬드라이버(chromedriver) 다운로드 - Mizy's</td>\n",
       "      <td>크롬드라이버(chromedriver) 다운로드. Python/Crawling 202...</td>\n",
       "    </tr>\n",
       "    <tr>\n",
       "      <th>8</th>\n",
       "      <td>\" 'chromedriver'실행 파일이 경로에 있어야합니다\" - 리뷰나라</td>\n",
       "      <td>나는 파이썬과 함께 셀레늄을 사용하고 있으며이 사이트에서 내 Windows 컴퓨터 ...</td>\n",
       "    </tr>\n",
       "    <tr>\n",
       "      <th>9</th>\n",
       "      <td>Index of</td>\n",
       "      <td>Name, Last modified, Size, ETag. [DIR], 2.0, -...</td>\n",
       "    </tr>\n",
       "    <tr>\n",
       "      <th>10</th>\n",
       "      <td>[Heroku] 헤로쿠에서 ChromeDriver 사용하기 - 아기개발자의 ...</td>\n",
       "      <td>2021. 5. 20. — local path를 이용해서 chromedriver를 ...</td>\n",
       "    </tr>\n",
       "  </tbody>\n",
       "</table>\n",
       "</div>"
      ],
      "text/plain": [
       "                                                title  \\\n",
       "0     ChromeDriver - WebDriver for Chrome - Downloads   \n",
       "1     ChromeDriver - WebDriver for Chrome - Downloads   \n",
       "2                 ChromeDriver - WebDriver for Chrome   \n",
       "3   selenium) 설치하기! chromedriver 버전 오류 해결하기 - 네이버 ...   \n",
       "4                               Selenium으로 무적 크롤러 만들기   \n",
       "5    ChromeDriver · SeleniumHQ/selenium Wiki - GitHub   \n",
       "6               [ChromeDriver] 크롬 드라이버 버전에 따라 설정하는 방법   \n",
       "7                  크롬드라이버(chromedriver) 다운로드 - Mizy's   \n",
       "8           \" 'chromedriver'실행 파일이 경로에 있어야합니다\" - 리뷰나라   \n",
       "9                                            Index of   \n",
       "10      [Heroku] 헤로쿠에서 ChromeDriver 사용하기 - 아기개발자의 ...   \n",
       "\n",
       "                                              content  \n",
       "0   If you are using Chrome version 95, please dow...  \n",
       "1   If you are using Chrome version 95, please dow...  \n",
       "2   ChromeDriver · WebDriver is an open source too...  \n",
       "3   여기에서 현재 사용중인 크롬의 버전과 일치하는 버전의 파일을 다운 받으시면 됩니다....  \n",
       "4   2017. 2. 27. — from selenium import webdriver ...  \n",
       "5   The ChromeDriver consists of three separate pi...  \n",
       "6   2020. 6. 9. — 어쩌고 버전입니다. 크롬드라이버 다운로드 사이트로 갑니다....  \n",
       "7   크롬드라이버(chromedriver) 다운로드. Python/Crawling 202...  \n",
       "8   나는 파이썬과 함께 셀레늄을 사용하고 있으며이 사이트에서 내 Windows 컴퓨터 ...  \n",
       "9   Name, Last modified, Size, ETag. [DIR], 2.0, -...  \n",
       "10  2021. 5. 20. — local path를 이용해서 chromedriver를 ...  "
      ]
     },
     "execution_count": 69,
     "metadata": {},
     "output_type": "execute_result"
    }
   ],
   "source": [
    "import pandas as pd\n",
    "df = pd.DataFrame(lines, columns=['title','content'])\n",
    "df"
   ]
  },
  {
   "cell_type": "markdown",
   "metadata": {},
   "source": [
    "- 드라이버를 close()해야 함"
   ]
  },
  {
   "cell_type": "code",
   "execution_count": 71,
   "metadata": {},
   "outputs": [],
   "source": [
    "driver.close()"
   ]
  },
  {
   "cell_type": "code",
   "execution_count": null,
   "metadata": {},
   "outputs": [],
   "source": []
  }
 ],
 "metadata": {
  "interpreter": {
   "hash": "60e7f993bd80280a292cf727bcf540b52dc52f658ffaee01a928daf77ed7d70f"
  },
  "kernelspec": {
   "display_name": "Python 3.8.8 64-bit ('base': conda)",
   "language": "python",
   "name": "python3"
  },
  "language_info": {
   "codemirror_mode": {
    "name": "ipython",
    "version": 3
   },
   "file_extension": ".py",
   "mimetype": "text/x-python",
   "name": "python",
   "nbconvert_exporter": "python",
   "pygments_lexer": "ipython3",
   "version": "3.8.8"
  },
  "orig_nbformat": 4
 },
 "nbformat": 4,
 "nbformat_minor": 2
}
