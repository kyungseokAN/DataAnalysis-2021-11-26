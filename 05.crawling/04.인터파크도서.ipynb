{
 "cells": [
  {
   "cell_type": "code",
   "execution_count": 266,
   "metadata": {},
   "outputs": [],
   "source": [
    "import requests\n",
    "from urllib.parse import quote\n",
    "import pandas as pd\n",
    "from bs4 import BeautifulSoup\n",
    "import parser"
   ]
  },
  {
   "cell_type": "code",
   "execution_count": 267,
   "metadata": {},
   "outputs": [],
   "source": [
    "site = 'http://book.interpark.com'\n",
    "url = 'http://book.interpark.com/display/collectlist.do?_method=BestsellerHourNew201605&bestTp=1&dispNo=028&smid1=s_menu&smid2=bestseller'\n",
    "req = requests.get(url)\n",
    "html = req.text\n",
    "#html"
   ]
  },
  {
   "cell_type": "code",
   "execution_count": 268,
   "metadata": {},
   "outputs": [],
   "source": [
    "soup = BeautifulSoup(html,'html.parser')"
   ]
  },
  {
   "cell_type": "code",
   "execution_count": 269,
   "metadata": {},
   "outputs": [
    {
     "data": {
      "text/plain": [
       "15"
      ]
     },
     "execution_count": 269,
     "metadata": {},
     "output_type": "execute_result"
    }
   ],
   "source": [
    "lis = soup.select('.rankBestContentList>ol>li ')\n",
    "len(lis)"
   ]
  },
  {
   "cell_type": "code",
   "execution_count": 270,
   "metadata": {},
   "outputs": [],
   "source": [
    "li = lis[1]"
   ]
  },
  {
   "cell_type": "code",
   "execution_count": 271,
   "metadata": {},
   "outputs": [
    {
     "data": {
      "text/plain": [
       "'/product/BookDisplay.do?_method=detail&sc.shopNo=0000400000&sc.prdNo=354280448&sc.saNo=003003001&bid1=Best_zone&bid2=LiveRanking&bid3=PRD&bid4=001'"
      ]
     },
     "execution_count": 271,
     "metadata": {},
     "output_type": "execute_result"
    }
   ],
   "source": [
    "href = li.find('a')['href']\n",
    "href"
   ]
  },
  {
   "cell_type": "code",
   "execution_count": 272,
   "metadata": {},
   "outputs": [
    {
     "data": {
      "text/plain": [
       "'http://book.interpark.com/product/BookDisplay.do?_method=detail&sc.shopNo=0000400000&sc.prdNo=354280448&sc.saNo=003003001&bid1=Best_zone&bid2=LiveRanking&bid3=PRD&bid4=001'"
      ]
     },
     "execution_count": 272,
     "metadata": {},
     "output_type": "execute_result"
    }
   ],
   "source": [
    "sub_url = site+href\n",
    "sub_url"
   ]
  },
  {
   "cell_type": "code",
   "execution_count": 273,
   "metadata": {},
   "outputs": [],
   "source": [
    "sub_req = requests.get(sub_url)\n",
    "sub_html = sub_req.text\n",
    "sub_soup = BeautifulSoup(sub_html,'html.parser')"
   ]
  },
  {
   "cell_type": "code",
   "execution_count": 274,
   "metadata": {},
   "outputs": [
    {
     "data": {
      "text/plain": [
       "'2'"
      ]
     },
     "execution_count": 274,
     "metadata": {},
     "output_type": "execute_result"
    }
   ],
   "source": [
    "#순위 \n",
    "rank = sub_soup.select_one('.last>p>a>span').get_text()\n",
    "rank"
   ]
  },
  {
   "cell_type": "code",
   "execution_count": 326,
   "metadata": {},
   "outputs": [
    {
     "data": {
      "text/plain": [
       "[<span class=\"rankBtn_ctrl rkNum_M01\"></span>,\n",
       " <span class=\"rankBtn_ctrl rkNum_M03\"></span>]"
      ]
     },
     "execution_count": 326,
     "metadata": {},
     "output_type": "execute_result"
    }
   ],
   "source": [
    "\n",
    "rank = li.select('.rankBtn_ctrl')\n",
    "rank\n",
    "if len(li.select('.rankBtn_ctrl')) ==1:\n",
    "    pass\n",
    "else:\n",
    "    pass"
   ]
  },
  {
   "cell_type": "code",
   "execution_count": 574,
   "metadata": {},
   "outputs": [
    {
     "ename": "AttributeError",
     "evalue": "'list' object has no attribute 'string'",
     "output_type": "error",
     "traceback": [
      "\u001b[1;31m---------------------------------------------------------------------------\u001b[0m",
      "\u001b[1;31mAttributeError\u001b[0m                            Traceback (most recent call last)",
      "\u001b[1;32m<ipython-input-574-5f56e4f29c9b>\u001b[0m in \u001b[0;36m<module>\u001b[1;34m\u001b[0m\n\u001b[1;32m----> 1\u001b[1;33m \u001b[0mrank\u001b[0m \u001b[1;33m=\u001b[0m \u001b[0mli\u001b[0m\u001b[1;33m.\u001b[0m\u001b[0mselect_one\u001b[0m\u001b[1;33m(\u001b[0m\u001b[1;34m'.rankBtn_ctrl'\u001b[0m\u001b[1;33m)\u001b[0m\u001b[1;33m[\u001b[0m\u001b[1;34m'class'\u001b[0m\u001b[1;33m]\u001b[0m\u001b[1;33m.\u001b[0m\u001b[0mstring\u001b[0m\u001b[1;33m(\u001b[0m\u001b[1;33m)\u001b[0m\u001b[1;33m\u001b[0m\u001b[1;33m\u001b[0m\u001b[0m\n\u001b[0m\u001b[0;32m      2\u001b[0m \u001b[0mrank\u001b[0m\u001b[1;33m\u001b[0m\u001b[1;33m\u001b[0m\u001b[0m\n",
      "\u001b[1;31mAttributeError\u001b[0m: 'list' object has no attribute 'string'"
     ]
    }
   ],
   "source": [
    " \n",
    "rank = li.select_one('.rankBtn_ctrl')['class']\n",
    "rank"
   ]
  },
  {
   "cell_type": "code",
   "execution_count": 564,
   "metadata": {},
   "outputs": [
    {
     "data": {
      "text/plain": [
       "''"
      ]
     },
     "execution_count": 564,
     "metadata": {},
     "output_type": "execute_result"
    }
   ],
   "source": [
    "rank = li.select_one('.rankBtn_ctrl').get_text()\n",
    "rank"
   ]
  },
  {
   "cell_type": "code",
   "execution_count": 275,
   "metadata": {},
   "outputs": [
    {
     "data": {
      "text/plain": [
       "'거인의 포트폴리오 '"
      ]
     },
     "execution_count": 275,
     "metadata": {},
     "output_type": "execute_result"
    }
   ],
   "source": [
    "# 제목\n",
    "itemName = li.select_one('.itemName').get_text()\n",
    "itemName\n"
   ]
  },
  {
   "cell_type": "code",
   "execution_count": 276,
   "metadata": {},
   "outputs": [
    {
     "data": {
      "text/plain": [
       "'강환국'"
      ]
     },
     "execution_count": 276,
     "metadata": {},
     "output_type": "execute_result"
    }
   ],
   "source": [
    "#저자\n",
    "je = sub_soup.select_one('.bInfo_txt>li>a').get_text()\n",
    "je"
   ]
  },
  {
   "cell_type": "code",
   "execution_count": 350,
   "metadata": {},
   "outputs": [
    {
     "data": {
      "text/plain": [
       "'이미예'"
      ]
     },
     "execution_count": 350,
     "metadata": {},
     "output_type": "execute_result"
    }
   ],
   "source": [
    "#첫ㅍ ㅔ이지 저자\n",
    "je2 = li.select_one('.author').get_text()\n",
    "je2"
   ]
  },
  {
   "cell_type": "code",
   "execution_count": 459,
   "metadata": {},
   "outputs": [
    {
     "ename": "AttributeError",
     "evalue": "'NoneType' object has no attribute 'get_text'",
     "output_type": "error",
     "traceback": [
      "\u001b[1;31m---------------------------------------------------------------------------\u001b[0m",
      "\u001b[1;31mAttributeError\u001b[0m                            Traceback (most recent call last)",
      "\u001b[1;32m<ipython-input-459-bac83552f5bf>\u001b[0m in \u001b[0;36m<module>\u001b[1;34m\u001b[0m\n\u001b[0;32m      1\u001b[0m \u001b[1;31m#출판사\u001b[0m\u001b[1;33m\u001b[0m\u001b[1;33m\u001b[0m\u001b[1;33m\u001b[0m\u001b[0m\n\u001b[1;32m----> 2\u001b[1;33m \u001b[0mkul\u001b[0m \u001b[1;33m=\u001b[0m \u001b[0msub_soup\u001b[0m\u001b[1;33m.\u001b[0m\u001b[0mselect_one\u001b[0m\u001b[1;33m(\u001b[0m\u001b[1;34m'#prdNoticeTable > tbody > tr:nth-child(4) > td:nth-child(2) > p'\u001b[0m\u001b[1;33m)\u001b[0m\u001b[1;33m.\u001b[0m\u001b[0mget_text\u001b[0m\u001b[1;33m(\u001b[0m\u001b[1;33m)\u001b[0m\u001b[1;33m\u001b[0m\u001b[1;33m\u001b[0m\u001b[0m\n\u001b[0m\u001b[0;32m      3\u001b[0m \u001b[1;33m\u001b[0m\u001b[0m\n\u001b[0;32m      4\u001b[0m \u001b[1;33m\u001b[0m\u001b[0m\n",
      "\u001b[1;31mAttributeError\u001b[0m: 'NoneType' object has no attribute 'get_text'"
     ]
    }
   ],
   "source": [
    "#출판사 \n",
    "kul = sub_soup.select_one('#prdNoticeTable > tbody > tr:nth-child(4) > td:nth-child(2) > p').get_text()\n",
    "\n",
    "    "
   ]
  },
  {
   "cell_type": "code",
   "execution_count": 355,
   "metadata": {},
   "outputs": [
    {
     "data": {
      "text/plain": [
       "'팩토리나인'"
      ]
     },
     "execution_count": 355,
     "metadata": {},
     "output_type": "execute_result"
    }
   ],
   "source": [
    "cul = li.select_one('.company').get_text()\n",
    "cul"
   ]
  },
  {
   "cell_type": "code",
   "execution_count": 278,
   "metadata": {},
   "outputs": [
    {
     "data": {
      "text/plain": [
       "16200"
      ]
     },
     "execution_count": 278,
     "metadata": {},
     "output_type": "execute_result"
    }
   ],
   "source": [
    "#가격 정수로\n",
    "price = li.select_one('.price>em').get_text().split(',')\n",
    "price = int(('').join(price))\n",
    "price\n"
   ]
  },
  {
   "cell_type": "code",
   "execution_count": 544,
   "metadata": {},
   "outputs": [
    {
     "data": {
      "text/plain": [
       "' 2020년 07월 08일'"
      ]
     },
     "execution_count": 544,
     "metadata": {},
     "output_type": "execute_result"
    }
   ],
   "source": [
    "\n",
    "#발행일\n",
    "bal = sub_soup.select_one('.bInfo_txt>:nth-last-child(3)').get_text()[4:]\n",
    "bal\n"
   ]
  },
  {
   "cell_type": "code",
   "execution_count": 462,
   "metadata": {},
   "outputs": [
    {
     "ename": "SyntaxError",
     "evalue": "invalid syntax (<ipython-input-462-2f8ee3c72324>, line 1)",
     "output_type": "error",
     "traceback": [
      "\u001b[1;36m  File \u001b[1;32m\"<ipython-input-462-2f8ee3c72324>\"\u001b[1;36m, line \u001b[1;32m1\u001b[0m\n\u001b[1;33m    prdNoticeTable > tbody > tr:nth-child(4) > td:nth-child(2) > p\u001b[0m\n\u001b[1;37m                                                 ^\u001b[0m\n\u001b[1;31mSyntaxError\u001b[0m\u001b[1;31m:\u001b[0m invalid syntax\n"
     ]
    }
   ],
   "source": [
    "prdNoticeTable > tbody > tr:nth-child(4) > td:nth-child(2) > p"
   ]
  },
  {
   "cell_type": "code",
   "execution_count": 393,
   "metadata": {},
   "outputs": [
    {
     "ename": "AttributeError",
     "evalue": "'NoneType' object has no attribute 'get_text'",
     "output_type": "error",
     "traceback": [
      "\u001b[1;31m---------------------------------------------------------------------------\u001b[0m",
      "\u001b[1;31mAttributeError\u001b[0m                            Traceback (most recent call last)",
      "\u001b[1;32m<ipython-input-393-fef76217c5d7>\u001b[0m in \u001b[0;36m<module>\u001b[1;34m\u001b[0m\n\u001b[1;32m----> 1\u001b[1;33m \u001b[0mbal2\u001b[0m \u001b[1;33m=\u001b[0m \u001b[0msub_soup\u001b[0m\u001b[1;33m.\u001b[0m\u001b[0mselect_one\u001b[0m\u001b[1;33m(\u001b[0m\u001b[1;34m'.tb_changeRefund>p'\u001b[0m\u001b[1;33m)\u001b[0m\u001b[1;33m.\u001b[0m\u001b[0mget_text\u001b[0m\u001b[1;33m(\u001b[0m\u001b[1;33m)\u001b[0m\u001b[1;33m\u001b[0m\u001b[1;33m\u001b[0m\u001b[0m\n\u001b[0m\u001b[0;32m      2\u001b[0m \u001b[0mbal2\u001b[0m\u001b[1;33m\u001b[0m\u001b[1;33m\u001b[0m\u001b[0m\n\u001b[0;32m      3\u001b[0m \u001b[1;31m#prdNoticeTable > tbody > tr:nth-child(4) > td:nth-child(2) > p\u001b[0m\u001b[1;33m\u001b[0m\u001b[1;33m\u001b[0m\u001b[1;33m\u001b[0m\u001b[0m\n",
      "\u001b[1;31mAttributeError\u001b[0m: 'NoneType' object has no attribute 'get_text'"
     ]
    }
   ],
   "source": [
    "bal2 = sub_soup.select_one('.tb_changeRefund>p').get_text()\n",
    "bal2\n",
    "#prdNoticeTable > tbody > tr:nth-child(4) > td:nth-child(2) > p\n"
   ]
  },
  {
   "cell_type": "code",
   "execution_count": 552,
   "metadata": {},
   "outputs": [
    {
     "data": {
      "text/plain": [
       "300"
      ]
     },
     "execution_count": 552,
     "metadata": {},
     "output_type": "execute_result"
    }
   ],
   "source": [
    "#쪽수 정수로\n",
    "count = int(sub_soup.select_one('.bInfo_txt>:nth-last-child(2)').get_text()[4:])\n",
    "count\n"
   ]
  },
  {
   "cell_type": "code",
   "execution_count": 553,
   "metadata": {},
   "outputs": [],
   "source": [
    "lines = []\n",
    "for li in lis:\n",
    "        href = li.find('a')['href']\n",
    "        sub_url = site+href\n",
    "        sub_req = requests.get(sub_url)\n",
    "        sub_html = sub_req.text\n",
    "        sub_soup = BeautifulSoup(sub_html,'html.parser')\n",
    "\n",
    "\n",
    "\n",
    "        rank = sub_soup.select_one('.last>p>a>span').get_text()\n",
    "        itemName = li.select_one('.itemName').get_text()\n",
    "        je2 = li.select_one('.author').get_text()\n",
    "        cul = li.select_one('.company').get_text()\n",
    "        price = li.select_one('.price>em').get_text().split(',')\n",
    "        price = int(('').join(price))\n",
    "       \n",
    "        bal = sub_soup.select_one('.bInfo_txt>:nth-last-child(3)').get_text()[4:]\n",
    "        \n",
    "        \n",
    "        count = int(sub_soup.select_one('.bInfo_txt>:nth-last-child(2)').get_text()[4:])\n",
    "\n",
    "        lines.append([rank,itemName,je2,cul,price,bal,count])"
   ]
  },
  {
   "cell_type": "code",
   "execution_count": 554,
   "metadata": {},
   "outputs": [],
   "source": [
    "df = pd.DataFrame(lines, columns=['순위', '책제목', '저자', '출판사', '가격', '발행일', '쪽수'])"
   ]
  },
  {
   "cell_type": "code",
   "execution_count": 555,
   "metadata": {},
   "outputs": [
    {
     "data": {
      "text/html": [
       "<div>\n",
       "<style scoped>\n",
       "    .dataframe tbody tr th:only-of-type {\n",
       "        vertical-align: middle;\n",
       "    }\n",
       "\n",
       "    .dataframe tbody tr th {\n",
       "        vertical-align: top;\n",
       "    }\n",
       "\n",
       "    .dataframe thead th {\n",
       "        text-align: right;\n",
       "    }\n",
       "</style>\n",
       "<table border=\"1\" class=\"dataframe\">\n",
       "  <thead>\n",
       "    <tr style=\"text-align: right;\">\n",
       "      <th></th>\n",
       "      <th>순위</th>\n",
       "      <th>책제목</th>\n",
       "      <th>저자</th>\n",
       "      <th>출판사</th>\n",
       "      <th>가격</th>\n",
       "      <th>발행일</th>\n",
       "      <th>쪽수</th>\n",
       "    </tr>\n",
       "  </thead>\n",
       "  <tbody>\n",
       "    <tr>\n",
       "      <th>0</th>\n",
       "      <td>1</td>\n",
       "      <td>트렌드 코리아 2022</td>\n",
       "      <td>김난도(金蘭都), 전미영, 최지혜, 이향은, 이준영</td>\n",
       "      <td>미래의창</td>\n",
       "      <td>16200</td>\n",
       "      <td>2021년 10월 06일</td>\n",
       "      <td>452</td>\n",
       "    </tr>\n",
       "    <tr>\n",
       "      <th>1</th>\n",
       "      <td>2</td>\n",
       "      <td>거인의 포트폴리오</td>\n",
       "      <td>강환국</td>\n",
       "      <td>페이지2북스</td>\n",
       "      <td>16200</td>\n",
       "      <td>2021년 11월 08일</td>\n",
       "      <td>404</td>\n",
       "    </tr>\n",
       "    <tr>\n",
       "      <th>2</th>\n",
       "      <td>1</td>\n",
       "      <td>2022 현직교사들이 들려주는 면접레시피</td>\n",
       "      <td>류은진, 양왕경, 이광한, 이지혜, 양왕경, 이광한, 이지혜</td>\n",
       "      <td>미래가치</td>\n",
       "      <td>42300</td>\n",
       "      <td>2021년 11월 12일</td>\n",
       "      <td>1104</td>\n",
       "    </tr>\n",
       "    <tr>\n",
       "      <th>3</th>\n",
       "      <td>1</td>\n",
       "      <td>거꾸로 읽는 세계사</td>\n",
       "      <td>유시민(柳時敏)</td>\n",
       "      <td>돌베개</td>\n",
       "      <td>15750</td>\n",
       "      <td>2021년 10월 29일</td>\n",
       "      <td>404</td>\n",
       "    </tr>\n",
       "    <tr>\n",
       "      <th>4</th>\n",
       "      <td>1</td>\n",
       "      <td>아직 오지 않은 날들을 위하여</td>\n",
       "      <td>파스칼 브뤼크네르/이세진 역</td>\n",
       "      <td>인플루엔셜</td>\n",
       "      <td>14400</td>\n",
       "      <td>2021년 11월 12일</td>\n",
       "      <td>320</td>\n",
       "    </tr>\n",
       "    <tr>\n",
       "      <th>5</th>\n",
       "      <td>1</td>\n",
       "      <td>작은 별이지만 빛나고 있어(10만 부 기념 한정판 에디션)</td>\n",
       "      <td>소윤</td>\n",
       "      <td>북로망스</td>\n",
       "      <td>13500</td>\n",
       "      <td>2021년 09월 29일</td>\n",
       "      <td>274</td>\n",
       "    </tr>\n",
       "    <tr>\n",
       "      <th>6</th>\n",
       "      <td>6</td>\n",
       "      <td>투자는 디테일에 있다</td>\n",
       "      <td>김정환</td>\n",
       "      <td>부케이</td>\n",
       "      <td>16200</td>\n",
       "      <td>2021년 12월 10일</td>\n",
       "      <td>424</td>\n",
       "    </tr>\n",
       "    <tr>\n",
       "      <th>7</th>\n",
       "      <td>2</td>\n",
       "      <td>웰씽킹(Wealthinking)</td>\n",
       "      <td>켈리 최</td>\n",
       "      <td>다산북스</td>\n",
       "      <td>14400</td>\n",
       "      <td>2021년 11월 10일</td>\n",
       "      <td>316</td>\n",
       "    </tr>\n",
       "    <tr>\n",
       "      <th>8</th>\n",
       "      <td>2</td>\n",
       "      <td>오십에 읽는 논어</td>\n",
       "      <td>최종엽</td>\n",
       "      <td>유노북스</td>\n",
       "      <td>14400</td>\n",
       "      <td>2021년 11월 03일</td>\n",
       "      <td>300</td>\n",
       "    </tr>\n",
       "    <tr>\n",
       "      <th>9</th>\n",
       "      <td>5</td>\n",
       "      <td>소크라테스 익스프레스(20만 부 기념 윈터 에디션)</td>\n",
       "      <td>에릭 와이너/김하현 역</td>\n",
       "      <td>어크로스</td>\n",
       "      <td>16200</td>\n",
       "      <td>2021년 11월 26일</td>\n",
       "      <td>524</td>\n",
       "    </tr>\n",
       "    <tr>\n",
       "      <th>10</th>\n",
       "      <td>2</td>\n",
       "      <td>달러구트 꿈 백화점. 2</td>\n",
       "      <td>이미예</td>\n",
       "      <td>팩토리나인</td>\n",
       "      <td>12420</td>\n",
       "      <td>2021년 07월 27일</td>\n",
       "      <td>308</td>\n",
       "    </tr>\n",
       "    <tr>\n",
       "      <th>11</th>\n",
       "      <td>1</td>\n",
       "      <td>불편한 편의점(15만부 기념 윈터 에디션)</td>\n",
       "      <td>김호연</td>\n",
       "      <td>나무옆의자</td>\n",
       "      <td>12600</td>\n",
       "      <td>2021년 04월 20일</td>\n",
       "      <td>268</td>\n",
       "    </tr>\n",
       "    <tr>\n",
       "      <th>12</th>\n",
       "      <td>1</td>\n",
       "      <td>흔한남매. 9</td>\n",
       "      <td>흔한남매, 백난도/유난희 그림</td>\n",
       "      <td>미래엔아이세움</td>\n",
       "      <td>12150</td>\n",
       "      <td>2021년 12월 09일</td>\n",
       "      <td>192</td>\n",
       "    </tr>\n",
       "    <tr>\n",
       "      <th>13</th>\n",
       "      <td>4</td>\n",
       "      <td>NFT 레볼루션</td>\n",
       "      <td>성소라, 롤프 회퍼, 스콧 맥러플린</td>\n",
       "      <td>더퀘스트</td>\n",
       "      <td>16200</td>\n",
       "      <td>2021년 09월 01일</td>\n",
       "      <td>324</td>\n",
       "    </tr>\n",
       "    <tr>\n",
       "      <th>14</th>\n",
       "      <td>3</td>\n",
       "      <td>달러구트 꿈 백화점</td>\n",
       "      <td>이미예</td>\n",
       "      <td>팩토리나인</td>\n",
       "      <td>12420</td>\n",
       "      <td>2020년 07월 08일</td>\n",
       "      <td>300</td>\n",
       "    </tr>\n",
       "  </tbody>\n",
       "</table>\n",
       "</div>"
      ],
      "text/plain": [
       "   순위                                책제목                                 저자  \\\n",
       "0   1                      트렌드 코리아 2022        김난도(金蘭都), 전미영, 최지혜, 이향은, 이준영   \n",
       "1   2                         거인의 포트폴리오                                 강환국   \n",
       "2   1            2022 현직교사들이 들려주는 면접레시피   류은진, 양왕경, 이광한, 이지혜, 양왕경, 이광한, 이지혜   \n",
       "3   1                        거꾸로 읽는 세계사                            유시민(柳時敏)   \n",
       "4   1                  아직 오지 않은 날들을 위하여                     파스칼 브뤼크네르/이세진 역   \n",
       "5   1  작은 별이지만 빛나고 있어(10만 부 기념 한정판 에디션)                                  소윤   \n",
       "6   6                       투자는 디테일에 있다                                 김정환   \n",
       "7   2                 웰씽킹(Wealthinking)                                켈리 최   \n",
       "8   2                         오십에 읽는 논어                                 최종엽   \n",
       "9   5      소크라테스 익스프레스(20만 부 기념 윈터 에디션)                        에릭 와이너/김하현 역   \n",
       "10  2                     달러구트 꿈 백화점. 2                                 이미예   \n",
       "11  1           불편한 편의점(15만부 기념 윈터 에디션)                                 김호연   \n",
       "12  1                           흔한남매. 9                    흔한남매, 백난도/유난희 그림   \n",
       "13  4                          NFT 레볼루션                 성소라, 롤프 회퍼, 스콧 맥러플린   \n",
       "14  3                        달러구트 꿈 백화점                                 이미예   \n",
       "\n",
       "        출판사     가격             발행일    쪽수  \n",
       "0      미래의창  16200   2021년 10월 06일   452  \n",
       "1    페이지2북스  16200   2021년 11월 08일   404  \n",
       "2      미래가치  42300   2021년 11월 12일  1104  \n",
       "3       돌베개  15750   2021년 10월 29일   404  \n",
       "4     인플루엔셜  14400   2021년 11월 12일   320  \n",
       "5      북로망스  13500   2021년 09월 29일   274  \n",
       "6       부케이  16200   2021년 12월 10일   424  \n",
       "7      다산북스  14400   2021년 11월 10일   316  \n",
       "8      유노북스  14400   2021년 11월 03일   300  \n",
       "9      어크로스  16200   2021년 11월 26일   524  \n",
       "10    팩토리나인  12420   2021년 07월 27일   308  \n",
       "11    나무옆의자  12600   2021년 04월 20일   268  \n",
       "12  미래엔아이세움  12150   2021년 12월 09일   192  \n",
       "13     더퀘스트  16200   2021년 09월 01일   324  \n",
       "14    팩토리나인  12420   2020년 07월 08일   300  "
      ]
     },
     "execution_count": 555,
     "metadata": {},
     "output_type": "execute_result"
    }
   ],
   "source": [
    "df"
   ]
  },
  {
   "cell_type": "code",
   "execution_count": 557,
   "metadata": {},
   "outputs": [],
   "source": [
    "df.to_csv('인터파크베스트셀러.html', index = False)"
   ]
  },
  {
   "cell_type": "code",
   "execution_count": null,
   "metadata": {},
   "outputs": [],
   "source": []
  }
 ],
 "metadata": {
  "interpreter": {
   "hash": "60e7f993bd80280a292cf727bcf540b52dc52f658ffaee01a928daf77ed7d70f"
  },
  "kernelspec": {
   "display_name": "Python 3.8.8 64-bit ('base': conda)",
   "language": "python",
   "name": "python3"
  },
  "language_info": {
   "codemirror_mode": {
    "name": "ipython",
    "version": 3
   },
   "file_extension": ".py",
   "mimetype": "text/x-python",
   "name": "python",
   "nbconvert_exporter": "python",
   "pygments_lexer": "ipython3",
   "version": "3.8.8"
  },
  "orig_nbformat": 4
 },
 "nbformat": 4,
 "nbformat_minor": 2
}
